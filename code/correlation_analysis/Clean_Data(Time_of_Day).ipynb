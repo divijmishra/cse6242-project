{
 "cells": [
  {
   "cell_type": "markdown",
   "id": "ee77974d-d64a-4f3c-be0c-cd8b1c8c9ad8",
   "metadata": {},
   "source": [
    "Cleaning Raw CSV Files:"
   ]
  },
  {
   "cell_type": "code",
   "execution_count": 1,
   "id": "e0fe5d78-7f97-4b59-9e79-105fb7d82904",
   "metadata": {},
   "outputs": [],
   "source": [
    "import numpy as np\n",
    "import pandas as pd"
   ]
  },
  {
   "cell_type": "code",
   "execution_count": 2,
   "id": "e6c2fe9a-fafa-4268-92e5-f0dbeafef952",
   "metadata": {},
   "outputs": [],
   "source": [
    "def categorize_time(time_str):\n",
    "    #Split Violation Time column into Morning, Afternoon, and Night\n",
    "    #we define morning as 8am-12pm, afternoon as 12-4pm, evening as 4-8pm and night as 8pm-8am. \n",
    "\n",
    "    #Exception handling\n",
    "    if (not isinstance(time_str, str)) or (len(time_str)!=5): \n",
    "        return None\n",
    "    if (time_str[:4].isdigit() and time_str[4] in ['P', 'A']):\n",
    "        hour = int(time_str[:2])\n",
    "        period = time_str[-1]\n",
    "    \n",
    "        #PM\n",
    "        if period == 'P':\n",
    "            if hour >= 8 and hour < 12:\n",
    "                return 'Night'\n",
    "            elif hour >= 4 and hour <8:\n",
    "                return 'Evening'            \n",
    "            else:\n",
    "                return 'Afternoon'\n",
    "        #AM\n",
    "        else:  \n",
    "            if hour >= 12 or hour < 8:\n",
    "                return 'Night'\n",
    "            elif hour >= 8:\n",
    "                return 'Morning'\n",
    "            else:\n",
    "                return 'Night'\n",
    "     \n",
    "    else: return None\n",
    "   "
   ]
  },
  {
   "cell_type": "code",
   "execution_count": 3,
   "metadata": {},
   "outputs": [],
   "source": [
    "# #Change csv as need be\n",
    "# df=pd.read_csv('../../data/main_data/time_of_day/Parking_Violations_Issued_2014.csv')\n",
    "\n",
    "# 2014\n",
    "df_2014 = pd.read_csv(\"../../data/main_data/time_of_day/Parking_Violations_Issued_2014.csv\")\n",
    "# 2015\n",
    "df_2015 = pd.read_csv(\"../../data/main_data/time_of_day/Parking_Violations_Issued_2015.csv\")\n",
    "# 2016\n",
    "df_2016 = pd.read_csv(\"../../data/main_data/time_of_day/Parking_Violations_Issued_2016.csv\")\n",
    "# 2017\n",
    "df_2017 = pd.read_csv(\"../../data/main_data/time_of_day/Parking_Violations_Issued_2017.csv\")\n",
    "# 2018\n",
    "df_2018 = pd.read_csv(\"../../data/main_data/time_of_day/Parking_Violations_Issued_2018.csv\")\n",
    "# 2019\n",
    "df_2019 = pd.read_csv(\"../../data/main_data/time_of_day/Parking_Violations_Issued_2019.csv\")\n",
    "# 2020\n",
    "df_2020 = pd.read_csv(\"../../data/main_data/time_of_day/Parking_Violations_Issued_2020.csv\")\n",
    "# 2021\n",
    "df_2021 = pd.read_csv(\"../../data/main_data/time_of_day/Parking_Violations_Issued_2021.csv\")\n",
    "# 2022\n",
    "df_2022 = pd.read_csv(\"../../data/main_data/time_of_day/Parking_Violations_Issued_2022.csv\")\n",
    "# 2023\n",
    "df_2023 = pd.read_csv(\"../../data/main_data/time_of_day/Parking_Violations_Issued_2023.csv\")\n",
    "\n",
    "df = pd.concat([df_2014, df_2015, df_2016, df_2017, df_2018, df_2019, df_2020, df_2021, df_2022, df_2023], axis = 0)\n",
    "df = df.reset_index(drop = True)"
   ]
  },
  {
   "cell_type": "code",
   "execution_count": 4,
   "id": "ada83201-c874-4016-938b-435816f3e79a",
   "metadata": {},
   "outputs": [],
   "source": [
    "df['Time of Day'] = df['Violation Time'].apply(categorize_time)"
   ]
  },
  {
   "cell_type": "code",
   "execution_count": 5,
   "id": "27826b1b-1971-48a8-9186-d680c6b35669",
   "metadata": {},
   "outputs": [],
   "source": [
    "# Convert 'Issue Date' column to DateTime\n",
    "df['Issue Date'] = pd.to_datetime(df['Issue Date'])\n",
    "# Extract month from 'Issue Date'\n",
    "df['Month'] = df['Issue Date'].dt.strftime('%m/%y')"
   ]
  },
  {
   "cell_type": "code",
   "execution_count": 6,
   "id": "1766b011-f9d8-40ed-96eb-9edaadc53ae5",
   "metadata": {},
   "outputs": [
    {
     "name": "stdout",
     "output_type": "stream",
     "text": [
      "       Month  Violation Precinct Time of Day  Violations\n",
      "0      01/14                   1   Afternoon          88\n",
      "1      01/14                   1     Evening          28\n",
      "2      01/14                   1     Morning          91\n",
      "3      01/14                   1       Night          27\n",
      "4      01/14                   5   Afternoon          52\n",
      "...      ...                 ...         ...         ...\n",
      "35903  12/22                 122       Night           4\n",
      "35904  12/22                 123   Afternoon           1\n",
      "35905  12/22                 123     Evening           1\n",
      "35906  12/22                 123     Morning           2\n",
      "35907  12/22                 123       Night           3\n",
      "\n",
      "[35908 rows x 4 columns]\n"
     ]
    }
   ],
   "source": [
    "violations_summary = df.groupby(['Month', 'Violation Precinct', 'Time of Day']).size().reset_index(name='Violations')\n",
    "print(violations_summary)"
   ]
  },
  {
   "cell_type": "code",
   "execution_count": 7,
   "id": "02a60e5a-bade-4c04-8561-e7fc39afaaf0",
   "metadata": {},
   "outputs": [
    {
     "name": "stdout",
     "output_type": "stream",
     "text": [
      "     Month  Year  Precinct Time Most Tickets Are Issued  No of Tickets\n",
      "0       01  2014         1                      Morning             91\n",
      "1       01  2014         5                    Afternoon             52\n",
      "2       01  2014         6                      Morning             35\n",
      "3       01  2014         7                    Afternoon             25\n",
      "4       01  2014         9                      Morning             39\n",
      "...    ...   ...       ...                          ...            ...\n",
      "9151    12  2022       115                      Morning             82\n",
      "9152    12  2022       120                      Morning             24\n",
      "9153    12  2022       121                      Morning             14\n",
      "9154    12  2022       122                      Morning             11\n",
      "9155    12  2022       123                        Night              3\n",
      "\n",
      "[9156 rows x 5 columns]\n"
     ]
    }
   ],
   "source": [
    "# Group violations summary by Month, Precinct, and find the index of the max violations for each group\n",
    "idx = violations_summary.groupby(['Month', 'Violation Precinct'])['Violations'].idxmax()\n",
    "# Filter violations summary \n",
    "result = violations_summary.loc[idx, ['Month', 'Violation Precinct', 'Time of Day', 'Violations']]\n",
    "# Rename the columns \n",
    "result.columns = ['Month', 'Precinct', 'Time Most Tickets Are Issued', 'No of Tickets']\n",
    "# Splitting 'Month' into 'Month' and 'Year' columns\n",
    "result['Year'] = '20' + result['Month'].str[-2:]  # Extracting the last two digits as year and converting to YYYY format\n",
    "result['Month'] = result['Month'].str[:2].str.zfill(2)  # Extracting the first two characters as month and ensuring format MM\n",
    "result = result[['Month', 'Year', 'Precinct', 'Time Most Tickets Are Issued', 'No of Tickets']]\n",
    "# Reset index\n",
    "result = result.reset_index(drop=True)\n",
    "print(result)"
   ]
  },
  {
   "cell_type": "code",
   "execution_count": 8,
   "id": "14fbfb2e-912c-4834-bcbf-945967913cb6",
   "metadata": {},
   "outputs": [],
   "source": [
    "df2 = result\n",
    "\n",
    "# # Append the data to existing CSV file for summaries\n",
    "# result.to_csv('All.csv', mode='a', header=False, index=True)"
   ]
  },
  {
   "cell_type": "markdown",
   "id": "e1fe44d0-b6b3-40a0-a428-ecfcc2cb2038",
   "metadata": {},
   "source": [
    "Clean Up Generated Summary CSV ('All.csv'):"
   ]
  },
  {
   "cell_type": "code",
   "execution_count": 9,
   "id": "eb83a545-c6c5-4940-9789-51cebb72078b",
   "metadata": {},
   "outputs": [],
   "source": [
    "# df2=pd.read_csv('All.csv')"
   ]
  },
  {
   "cell_type": "code",
   "execution_count": 10,
   "id": "7e285c4e-473f-44bf-a210-d8a2c1baa4d2",
   "metadata": {},
   "outputs": [
    {
     "data": {
      "text/html": [
       "<div>\n",
       "<style scoped>\n",
       "    .dataframe tbody tr th:only-of-type {\n",
       "        vertical-align: middle;\n",
       "    }\n",
       "\n",
       "    .dataframe tbody tr th {\n",
       "        vertical-align: top;\n",
       "    }\n",
       "\n",
       "    .dataframe thead th {\n",
       "        text-align: right;\n",
       "    }\n",
       "</style>\n",
       "<table border=\"1\" class=\"dataframe\">\n",
       "  <thead>\n",
       "    <tr style=\"text-align: right;\">\n",
       "      <th></th>\n",
       "      <th>Month</th>\n",
       "      <th>Year</th>\n",
       "      <th>Precinct</th>\n",
       "      <th>Time Most Tickets Are Issued</th>\n",
       "      <th>No of Tickets</th>\n",
       "    </tr>\n",
       "  </thead>\n",
       "  <tbody>\n",
       "    <tr>\n",
       "      <th>0</th>\n",
       "      <td>01</td>\n",
       "      <td>2014</td>\n",
       "      <td>1</td>\n",
       "      <td>Morning</td>\n",
       "      <td>91</td>\n",
       "    </tr>\n",
       "    <tr>\n",
       "      <th>1</th>\n",
       "      <td>01</td>\n",
       "      <td>2014</td>\n",
       "      <td>5</td>\n",
       "      <td>Afternoon</td>\n",
       "      <td>52</td>\n",
       "    </tr>\n",
       "    <tr>\n",
       "      <th>2</th>\n",
       "      <td>01</td>\n",
       "      <td>2014</td>\n",
       "      <td>6</td>\n",
       "      <td>Morning</td>\n",
       "      <td>35</td>\n",
       "    </tr>\n",
       "    <tr>\n",
       "      <th>3</th>\n",
       "      <td>01</td>\n",
       "      <td>2014</td>\n",
       "      <td>7</td>\n",
       "      <td>Afternoon</td>\n",
       "      <td>25</td>\n",
       "    </tr>\n",
       "    <tr>\n",
       "      <th>4</th>\n",
       "      <td>01</td>\n",
       "      <td>2014</td>\n",
       "      <td>9</td>\n",
       "      <td>Morning</td>\n",
       "      <td>39</td>\n",
       "    </tr>\n",
       "  </tbody>\n",
       "</table>\n",
       "</div>"
      ],
      "text/plain": [
       "  Month  Year  Precinct Time Most Tickets Are Issued  No of Tickets\n",
       "0    01  2014         1                      Morning             91\n",
       "1    01  2014         5                    Afternoon             52\n",
       "2    01  2014         6                      Morning             35\n",
       "3    01  2014         7                    Afternoon             25\n",
       "4    01  2014         9                      Morning             39"
      ]
     },
     "execution_count": 10,
     "metadata": {},
     "output_type": "execute_result"
    }
   ],
   "source": [
    "df2.head()"
   ]
  },
  {
   "cell_type": "code",
   "execution_count": 11,
   "id": "d501c9db-21bf-4637-b012-a42496867c2b",
   "metadata": {},
   "outputs": [
    {
     "name": "stdout",
     "output_type": "stream",
     "text": [
      "     Month  Year  Precinct Time Most Tickets Are Issued       Date\n",
      "0       07  2013        63                    Afternoon 2013-07-01\n",
      "1       07  2013        32                        Night 2013-07-01\n",
      "2       07  2013        33                        Night 2013-07-01\n",
      "3       07  2013        34                      Morning 2013-07-01\n",
      "4       07  2013        40                        Night 2013-07-01\n",
      "...    ...   ...       ...                          ...        ...\n",
      "9151    06  2023        40                      Morning 2023-06-01\n",
      "9152    06  2023        34                        Night 2023-06-01\n",
      "9153    06  2023        33                    Afternoon 2023-06-01\n",
      "9154    06  2023        45                    Afternoon 2023-06-01\n",
      "9155    06  2023       122                    Afternoon 2023-06-01\n",
      "\n",
      "[9156 rows x 5 columns]\n"
     ]
    }
   ],
   "source": [
    "max_tickets_idx = df2.groupby(['Month', 'Year', 'Precinct'])['No of Tickets'].idxmax()\n",
    "filtered_df = df2.loc[max_tickets_idx, ['Month', 'Year', 'Precinct', 'Time Most Tickets Are Issued']]\n",
    "\n",
    "# Drop duplicates\n",
    "filtered_df = filtered_df.drop_duplicates(subset=['Month', 'Year', 'Precinct'])\n",
    "\n",
    "filtered_df['Date'] = pd.to_datetime(filtered_df['Month'].astype(str) + '/' + filtered_df['Year'].astype(str), format='%m/%Y')\n",
    "# Sort \n",
    "filtered_df = filtered_df.sort_values('Date')\n",
    "\n",
    "# Reset index \n",
    "filtered_df = filtered_df.reset_index(drop=True)\n",
    "print(filtered_df)\n"
   ]
  },
  {
   "cell_type": "code",
   "execution_count": 12,
   "id": "6ff198c4-a4fc-4f94-beae-773910f4347a",
   "metadata": {},
   "outputs": [],
   "source": [
    "filtered_df.to_csv('../../data/final_data_to_join/time_of_day_summary.csv')"
   ]
  }
 ],
 "metadata": {
  "kernelspec": {
   "display_name": "Python 3 (ipykernel)",
   "language": "python",
   "name": "python3"
  },
  "language_info": {
   "codemirror_mode": {
    "name": "ipython",
    "version": 3
   },
   "file_extension": ".py",
   "mimetype": "text/x-python",
   "name": "python",
   "nbconvert_exporter": "python",
   "pygments_lexer": "ipython3",
   "version": "3.10.12"
  }
 },
 "nbformat": 4,
 "nbformat_minor": 5
}
