{
 "cells": [
  {
   "cell_type": "code",
   "execution_count": 1,
   "metadata": {},
   "outputs": [],
   "source": [
    "import pandas as pd\n",
    "import numpy as np"
   ]
  },
  {
   "cell_type": "code",
   "execution_count": 2,
   "metadata": {},
   "outputs": [],
   "source": [
    "type_dict = {\"Violation Code\": float, \"Definition\": \"string\", \n",
    "             \"Manhattan 96th St. & Below\": \"string\", \"All Other Areas\": \"string\"}\n",
    "fines_data = pd.read_csv('../../data/Parking Violation Code.csv', dtype = type_dict)\n",
    "fines_data.drop(fines_data.tail(4).index, inplace = True)"
   ]
  },
  {
   "cell_type": "code",
   "execution_count": 3,
   "metadata": {},
   "outputs": [],
   "source": [
    "fines_data[\"Manhattan 96th St. & Below\"] = fines_data[\"Manhattan 96th St. & Below\"].map(lambda x: x[1:] if (not pd.isna(x) and x[0] == \"$\") else 0)\n",
    "fines_data[\"All Other Areas\"] = fines_data[\"All Other Areas\"].map(lambda x: x[1:] if (not pd.isna(x) and x[0] == \"$\") else 0)"
   ]
  },
  {
   "cell_type": "code",
   "execution_count": 4,
   "metadata": {},
   "outputs": [
    {
     "name": "stdout",
     "output_type": "stream",
     "text": [
      "Started 2014\n",
      "Finished 2014\n",
      "Started 2015\n",
      "Finished 2015\n",
      "Started 2016\n",
      "Finished 2016\n",
      "Started 2017\n",
      "Finished 2017\n",
      "Started 2018\n",
      "Finished 2018\n",
      "Started 2019\n",
      "Finished 2019\n",
      "Started 2020\n",
      "Finished 2020\n",
      "Started 2021\n",
      "Finished 2021\n",
      "Started 2022\n",
      "Finished 2022\n",
      "Started 2023\n",
      "Finished 2023\n"
     ]
    }
   ],
   "source": [
    "fines_data[\"Violation Code\"] = fines_data[\"Violation Code\"].map(lambda x: int(x))\n",
    "fines_data[\"Manhattan 96th St. & Below\"] = fines_data[\"Manhattan 96th St. & Below\"].map(lambda x: int(x))\n",
    "fines_data[\"All Other Areas\"] = fines_data[\"All Other Areas\"].map(lambda x: int(x))\n",
    "\n",
    "Man_96_Below = [1, 5, 6, 7, 9, 10, 13, 14, 17, 18, 19, 20, 22]\n",
    "\n",
    "year_list = [i for i in range(2014, 2024)]\n",
    "flag = 0\n",
    "\n",
    "for year in year_list:\n",
    "    print(f\"Started {year}\")\n",
    "    data = pd.read_csv(f\"../../data/main_data/cleaned/Parking_Violations_Issued_{str(year)}.csv\")\n",
    "    \n",
    "    data[\"Month\"] = data[\"Issue Date\"].map(lambda x: int(x[:2]))\n",
    "    data[\"Year\"] = data[\"Issue Date\"].map(lambda x: int(x[-4:]))\n",
    "    data[\"Violation Precinct\"] = data[\"Violation Precinct\"].map(lambda x: int(x))\n",
    "    data[\"Violation Code\"] = data[\"Violation Code\"].map(lambda x: int(x))\n",
    "    data.drop(columns=[\"Issue Date\", \"Vehicle Body Type\", \"Vehicle Color\", \"Plate Type\"], inplace=True)\n",
    "\n",
    "    Missing_Fines = [0, 15, 23, 24, 34, 41, 43, 88, 90, 95, 99]\n",
    "    data1 = data[~data[\"Violation Code\"].isin(Missing_Fines)]\n",
    "    clean_data = data1[data1[\"Violation Code\"] < 99]\n",
    "    \n",
    "    codes = clean_data.groupby(by = [\"Year\",\"Month\",\"Violation Precinct\",\"Violation Code\"], as_index=False).size().reset_index(names='Size')\n",
    "    codes.drop_duplicates([\"Year\",\"Month\",\"Violation Precinct\",\"Violation Code\"])\n",
    "\n",
    "    merge = pd.merge(codes, fines_data, on=\"Violation Code\")\n",
    "    merge[\"Fine\"] = merge[\"Violation Code\"].isin(Man_96_Below)\n",
    "    merge[\"Fine\"] = np.where(merge[\"Fine\"] == True, merge[\"Manhattan 96th St. & Below\"], merge[\"All Other Areas\"])  \n",
    "    merge[\"Total Fines\"] = merge[\"Size\"]*merge[\"Fine\"]\n",
    "    merge.drop(columns=[\"Manhattan 96th St. & Below\", \"All Other Areas\"], inplace=True)\n",
    "    \n",
    "    total_sum = merge.groupby(by = [\"Year\",\"Month\",\"Violation Precinct\"])[\"Total Fines\"].sum().reset_index(name = \"Sum\")\n",
    "    total_sum.drop_duplicates([\"Year\",\"Month\",\"Violation Precinct\"])\n",
    "    \n",
    "    if not flag:\n",
    "        flag = 1\n",
    "        final_data = total_sum\n",
    "    else:\n",
    "        final_data = pd.concat([final_data, total_sum])\n",
    "    \n",
    "    print(f\"Finished {str(year)}\")\n",
    "\n",
    "final_data.to_csv(f\"../../data/final_data_to_join/fines_data.csv\", index=False)"
   ]
  },
  {
   "cell_type": "code",
   "execution_count": null,
   "metadata": {},
   "outputs": [],
   "source": []
  }
 ],
 "metadata": {
  "kernelspec": {
   "display_name": "Python 3",
   "language": "python",
   "name": "python3"
  },
  "language_info": {
   "codemirror_mode": {
    "name": "ipython",
    "version": 3
   },
   "file_extension": ".py",
   "mimetype": "text/x-python",
   "name": "python",
   "nbconvert_exporter": "python",
   "pygments_lexer": "ipython3",
   "version": "3.10.12"
  }
 },
 "nbformat": 4,
 "nbformat_minor": 4
}
