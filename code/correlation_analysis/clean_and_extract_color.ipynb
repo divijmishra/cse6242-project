{
 "cells": [
  {
   "cell_type": "code",
   "execution_count": 1,
   "metadata": {},
   "outputs": [],
   "source": [
    "import pandas as pd"
   ]
  },
  {
   "cell_type": "code",
   "execution_count": 2,
   "metadata": {},
   "outputs": [],
   "source": [
    "def clean_color(color):\n",
    "    try:\n",
    "        if color[:2] in [\"WH\", \"WT\"]:\n",
    "            return \"WHITE\"\n",
    "        elif color in [\"BLACK\", \"BK\", \"BL\", \"BLK\",]:\n",
    "            return \"BLACK\"\n",
    "        elif color in [\"GREY\", \"GRAY\", \"GY\", \"GR\", \"GRY\"]:\n",
    "            return \"GRAY\"\n",
    "        elif color[:2] in [\"SI\", \"SL\"]:\n",
    "            return \"GRAY\"\n",
    "        elif color in [\"BLUE\", \"BLU\"]:\n",
    "            return \"BLUE\"\n",
    "        elif color in [\"RD\", \"RED\"]:\n",
    "            return \"RED\"\n",
    "        elif color in [\"GREEN\", \"GN\", \"GRN\"]:\n",
    "            return \"GREEN\"\n",
    "        elif color in [\"YW\", \"YELLO\", \"YELLW\", \"GL\", \"GOLD\"]:\n",
    "            return \"YELLOW\"\n",
    "        elif color in [\"BROWN\", \"BR\", \"TN\", \"TAN\", \"BRN\"]:\n",
    "            return \"BROWN\"\n",
    "        else:\n",
    "            return \"OTHER\"\n",
    "    except:\n",
    "        return \"OTHER\"\n",
    "    \n",
    "# def clean_date(date, year):\n",
    "#     try:\n",
    "#         if int(date[-4:]) == year:\n",
    "#             if int(date[:2]) > 6:\n",
    "#                 return None\n",
    "#             else:\n",
    "#                 return date\n",
    "#         else:\n",
    "#             if int(date[:2]) <= 6:\n",
    "#                 return None\n",
    "#             else:\n",
    "#                 return date\n",
    "#     except:\n",
    "#         return None"
   ]
  },
  {
   "cell_type": "code",
   "execution_count": 3,
   "metadata": {},
   "outputs": [
    {
     "name": "stdout",
     "output_type": "stream",
     "text": [
      "Started 2014\n",
      "Finished 2014\n",
      "Started 2015\n",
      "Finished 2015\n",
      "Started 2016\n",
      "Finished 2016\n",
      "Started 2017\n",
      "Finished 2017\n",
      "Started 2018\n",
      "Finished 2018\n",
      "Started 2019\n",
      "Finished 2019\n",
      "Started 2020\n",
      "Finished 2020\n",
      "Started 2021\n",
      "Finished 2021\n",
      "Started 2022\n",
      "Finished 2022\n",
      "Started 2023\n",
      "Finished 2023\n"
     ]
    }
   ],
   "source": [
    "year_list = [i for i in range(2014, 2024)]\n",
    "flag = 0\n",
    "\n",
    "for year in year_list:\n",
    "\n",
    "    print(f\"Started {year}\")\n",
    "    \n",
    "    # load data\n",
    "    data = pd.read_csv(f\"../../data/main_data/color_and_plate_type/Parking_Violations_Issued_{str(year)}.csv\",\n",
    "                       dtype=\"string\")\n",
    "    \n",
    "    # create month and year columns, convert precinct to int\n",
    "    data[\"Month\"] = data[\"Issue Date\"].map(lambda x: int(x[:2]))\n",
    "    data[\"Year\"] = data[\"Issue Date\"].map(lambda x: int(x[-4:]))\n",
    "    data[\"Violation Precinct\"] = data[\"Violation Precinct\"].map(lambda x: int(x))\n",
    "    \n",
    "    # drop unnecessary columns\n",
    "    data.drop(columns=[\"Issue Date\", \"Plate Type\"], inplace=True)\n",
    "\n",
    "    # clean colors and dates\n",
    "    data[\"Vehicle Color\"] = data[\"Vehicle Color\"].map(lambda x: clean_color(x))\n",
    "\n",
    "    # complicated aggregate queries\n",
    "    # STEP 1: group by and get the color with max frequency in each time period and precinct\n",
    "    data2 = data.groupby(by = [\"Year\",\"Month\",\"Violation Precinct\",\"Vehicle Color\"], \n",
    "                        as_index=False).size()\n",
    "    data2 = data2.sort_values(by = [\"Year\",\"Month\",\"Violation Precinct\",\"size\"],\n",
    "                            ascending = [True, True, True, False] )\n",
    "    data2 = data2.drop_duplicates([\"Year\",\"Month\",\"Violation Precinct\"])\n",
    "    data2.reset_index(drop=True, inplace=True)\n",
    "\n",
    "    # STEP 2: group by and get the total violations in each time period and precinct\n",
    "    data_max = data.groupby(by = [\"Year\",\"Month\",\"Violation Precinct\",], \n",
    "                     as_index=False).size()\n",
    "    data_max = data_max.sort_values(by = [\"Year\",\"Month\",\"Violation Precinct\",],)\n",
    "    \n",
    "    # STEP 3: compute percentage, rename columns\n",
    "    data4 = data2\n",
    "    data4[\"Total\"] = data_max[\"size\"]\n",
    "    data4[\"Percentage\"] = 100*data4[\"size\"]/data4[\"Total\"]\n",
    "    data4.rename(columns={\n",
    "                    \"size\": \"total_maxcolor\",\n",
    "                    \"Total\": 'total_allcolors',\n",
    "                    \"Percentage\": \"percent_maxcolor\",\n",
    "                }, inplace=True)\n",
    "    \n",
    "    # append this year's data to final_data\n",
    "    if not flag:\n",
    "        flag = 1\n",
    "        final_data = data4 \n",
    "    else:\n",
    "        final_data = pd.concat([final_data, data4])\n",
    "    \n",
    "    print(f\"Finished {str(year)}\")\n",
    "\n",
    "final_data.to_csv(f\"../../data/final_data_to_join/color_data.csv\", index=False)"
   ]
  },
  {
   "cell_type": "code",
   "execution_count": null,
   "metadata": {},
   "outputs": [],
   "source": []
  },
  {
   "cell_type": "code",
   "execution_count": null,
   "metadata": {},
   "outputs": [],
   "source": []
  },
  {
   "cell_type": "code",
   "execution_count": null,
   "metadata": {},
   "outputs": [],
   "source": []
  },
  {
   "cell_type": "code",
   "execution_count": 4,
   "metadata": {},
   "outputs": [],
   "source": [
    "# data2 = data.groupby(by = [\"Year\",\"Month\",\"Violation Precinct\",\"Vehicle Color\"], \n",
    "#                      as_index=False).size()\n",
    "# data2 = data2.sort_values(by = [\"Year\",\"Month\",\"Violation Precinct\",\"size\"],\n",
    "#                           ascending = [True, True, True, False] )\n",
    "# data2 = data2.drop_duplicates([\"Year\",\"Month\",\"Violation Precinct\"])\n",
    "# # data2.to_csv(f\"../Data/final_data_to_join/temp.csv\", index=False)\n",
    "# data2.reset_index(drop=True, inplace=True)\n",
    "# data2"
   ]
  },
  {
   "cell_type": "code",
   "execution_count": 5,
   "metadata": {},
   "outputs": [],
   "source": [
    "# data_max = data.groupby(by = [\"Year\",\"Month\",\"Violation Precinct\",], \n",
    "#                      as_index=False).size()\n",
    "# data_max = data_max.sort_values(by = [\"Year\",\"Month\",\"Violation Precinct\",],)\n",
    "# data_max"
   ]
  },
  {
   "cell_type": "code",
   "execution_count": 6,
   "metadata": {},
   "outputs": [],
   "source": [
    "# data4 = data2\n",
    "# data4[\"Total\"] = data_max[\"size\"]\n",
    "# data4[\"Percentage\"] = 100*data4[\"size\"]/data4[\"Total\"]\n",
    "# data4.rename(columns={\n",
    "#                 \"size\": \"total_maxcolor\",\n",
    "#                 \"Total\": 'total_allcolors',\n",
    "#                 \"Percentage\": \"percent_maxcolor\",\n",
    "#             }, inplace=True)\n",
    "# data4.to_csv(f\"../Data/final_data_to_join/color_data.csv\", index=False)"
   ]
  },
  {
   "cell_type": "code",
   "execution_count": null,
   "metadata": {},
   "outputs": [],
   "source": []
  },
  {
   "cell_type": "code",
   "execution_count": null,
   "metadata": {},
   "outputs": [],
   "source": []
  },
  {
   "cell_type": "code",
   "execution_count": 7,
   "metadata": {},
   "outputs": [],
   "source": [
    "# vc_color = data[\"Vehicle Color\"].value_counts()\n",
    "# l1 = vc_color.index.tolist()\n",
    "# l2 = vc_color.tolist()\n",
    "# l = [[l1[i], l2[i]] for i in range(len(vc_color))]\n",
    "# l"
   ]
  },
  {
   "cell_type": "code",
   "execution_count": 8,
   "metadata": {},
   "outputs": [],
   "source": [
    "# data2 = data[\"Vehicle Color\"].map(lambda x: clean_color(x))\n",
    "# vc_color = data2.value_counts()\n",
    "# l1 = vc_color.index.tolist()\n",
    "# l2 = vc_color.tolist()\n",
    "# l = [[l1[i], l2[i]] for i in range(len(vc_color))]\n",
    "# l"
   ]
  },
  {
   "cell_type": "code",
   "execution_count": 9,
   "metadata": {},
   "outputs": [],
   "source": [
    "# data[[\"Month\", \"Year\"]].value_counts()"
   ]
  },
  {
   "cell_type": "code",
   "execution_count": 10,
   "metadata": {},
   "outputs": [],
   "source": [
    "# data2 = data[\"Violation Precinct\"]\n",
    "# vc_color = data2.value_counts()\n",
    "# l1 = vc_color.index.tolist()\n",
    "# l2 = vc_color.tolist()\n",
    "# l = [[l1[i], l2[i]] for i in range(len(vc_color))]\n",
    "# l"
   ]
  }
 ],
 "metadata": {
  "kernelspec": {
   "display_name": "dva_python37",
   "language": "python",
   "name": "python3"
  },
  "language_info": {
   "codemirror_mode": {
    "name": "ipython",
    "version": 3
   },
   "file_extension": ".py",
   "mimetype": "text/x-python",
   "name": "python",
   "nbconvert_exporter": "python",
   "pygments_lexer": "ipython3",
   "version": "3.10.12"
  }
 },
 "nbformat": 4,
 "nbformat_minor": 2
}
