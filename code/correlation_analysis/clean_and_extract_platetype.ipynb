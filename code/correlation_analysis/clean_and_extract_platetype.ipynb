{
 "cells": [
  {
   "cell_type": "code",
   "execution_count": 1,
   "metadata": {},
   "outputs": [],
   "source": [
    "import pandas as pd"
   ]
  },
  {
   "cell_type": "code",
   "execution_count": 2,
   "metadata": {},
   "outputs": [],
   "source": [
    "def clean_plate_type(pt):\n",
    "    try:\n",
    "        if pt == \"PAS\":\n",
    "            return \"PASSENGER\"\n",
    "        elif pt == \"COM\":\n",
    "            return \"COMMERCIAL\"\n",
    "        else:\n",
    "            return \"OTHER\"\n",
    "    except:\n",
    "        return \"OTHER\""
   ]
  },
  {
   "cell_type": "code",
   "execution_count": 3,
   "metadata": {},
   "outputs": [
    {
     "name": "stdout",
     "output_type": "stream",
     "text": [
      "Started 2014\n",
      "Finished 2014\n",
      "Started 2015\n",
      "Finished 2015\n",
      "Started 2016\n",
      "Finished 2016\n",
      "Started 2017\n",
      "Finished 2017\n",
      "Started 2018\n",
      "Finished 2018\n",
      "Started 2019\n",
      "Finished 2019\n",
      "Started 2020\n",
      "Finished 2020\n",
      "Started 2021\n",
      "Finished 2021\n",
      "Started 2022\n",
      "Finished 2022\n",
      "Started 2023\n",
      "Finished 2023\n"
     ]
    }
   ],
   "source": [
    "year_list = [i for i in range(2014, 2024)]\n",
    "flag = 0\n",
    "\n",
    "for year in year_list:\n",
    "\n",
    "    print(f\"Started {year}\")\n",
    "    \n",
    "    # load data\n",
    "    data = pd.read_csv(f\"../../data/main_data/color_and_plate_type/Parking_Violations_Issued_{str(year)}.csv\",\n",
    "                       dtype=\"string\")\n",
    "    \n",
    "    # create month and year columns, convert precinct to int\n",
    "    data[\"Month\"] = data[\"Issue Date\"].map(lambda x: int(x[:2]))\n",
    "    data[\"Year\"] = data[\"Issue Date\"].map(lambda x: int(x[-4:]))\n",
    "    data[\"Violation Precinct\"] = data[\"Violation Precinct\"].map(lambda x: int(x))\n",
    "    \n",
    "    # drop unnecessary columns\n",
    "    data.drop(columns=[\"Issue Date\", \"Vehicle Color\"], inplace=True)\n",
    "\n",
    "    # clean colors and dates\n",
    "    data[\"Plate Type\"] = data[\"Plate Type\"].map(lambda x: clean_plate_type(x))\n",
    "\n",
    "    # complicated aggregate queries\n",
    "    data2 = data.groupby(by = [\"Year\",\"Month\",\"Violation Precinct\",\"Plate Type\"], \n",
    "                            as_index=False).size()\n",
    "    data2 = data2.groupby(by = [\"Year\",\"Month\",\"Violation Precinct\",\"Plate Type\"],\n",
    "                        )[\"size\"].sum().unstack(fill_value=0).stack()\n",
    "    # why the above? https://stackoverflow.com/questions/64348300/add-default-value-while-grouping-elements-in-pandas \n",
    "    data2 = data2.reset_index()\n",
    "    data2 = data2.rename(columns={0:\"size\"})\n",
    "    data2 = data2.sort_values(by = [\"Year\",\"Month\",\"Violation Precinct\",\"size\"],\n",
    "                                ascending = [True, True, True, False])\n",
    "\n",
    "    # separate out rows\n",
    "    data2_pas = data2[data2[\"Plate Type\"] == \"PASSENGER\"].reset_index(drop=True)\n",
    "    data2_com = data2[data2[\"Plate Type\"] == \"COMMERCIAL\"].reset_index(drop=True)\n",
    "    data2_oth = data2[data2[\"Plate Type\"] == \"OTHER\"].reset_index(drop=True)\n",
    "    data_max = data.groupby(by = [\"Year\",\"Month\",\"Violation Precinct\",], \n",
    "                        as_index=False).size()\n",
    "    data_max = data_max.sort_values(by = [\"Year\",\"Month\",\"Violation Precinct\",],)\n",
    "\n",
    "    # assign columns\n",
    "    data3 = data2.drop(columns=[\"Plate Type\", \"size\"]).drop_duplicates()\n",
    "    data3.reset_index(drop=True, inplace=True)\n",
    "    data3[\"total_passenger_vehicles\"] = data2_pas[\"size\"]\n",
    "    data3[\"total_commercial_vehicles\"] = data2_com[\"size\"]\n",
    "    data3[\"total_other_vehicles\"] = data2_oth[\"size\"]\n",
    "    data3[\"total_vehicles\"] = data_max[\"size\"]\n",
    "\n",
    "    # percentages\n",
    "    data3[\"percent_passenger_vehicles\"] = 100*data3[\"total_passenger_vehicles\"] / data3[\"total_vehicles\"]\n",
    "    data3[\"percent_commercial_vehicles\"] = 100*data3[\"total_commercial_vehicles\"] / data3[\"total_vehicles\"]\n",
    "    data3[\"percent_other_vehicles\"] = 100*data3[\"total_other_vehicles\"] / data3[\"total_vehicles\"]\n",
    "    \n",
    "    # append this year's data to final_data\n",
    "    if not flag:\n",
    "        flag = 1\n",
    "        final_data = data3\n",
    "    else:\n",
    "        final_data = pd.concat([final_data, data3])\n",
    "    \n",
    "    print(f\"Finished {str(year)}\")\n",
    "\n",
    "final_data.to_csv(f\"../../data/final_data_to_join/plate_type_data.csv\", index=False)"
   ]
  },
  {
   "cell_type": "code",
   "execution_count": null,
   "metadata": {},
   "outputs": [],
   "source": []
  },
  {
   "cell_type": "code",
   "execution_count": 4,
   "metadata": {},
   "outputs": [],
   "source": [
    "# data2 = data.groupby(by = [\"Year\",\"Month\",\"Violation Precinct\",\"Plate Type\"], \n",
    "#                         as_index=False).size()\n",
    "# data2 = data2.groupby(by = [\"Year\",\"Month\",\"Violation Precinct\",\"Plate Type\"],\n",
    "#                       )[\"size\"].sum().unstack(fill_value=0).stack()\n",
    "# # why the above? https://stackoverflow.com/questions/64348300/add-default-value-while-grouping-elements-in-pandas \n",
    "# data2 = data2.reset_index()\n",
    "# data2 = data2.rename(columns={0:\"size\"})\n",
    "# data2 = data2.sort_values(by = [\"Year\",\"Month\",\"Violation Precinct\",\"size\"],\n",
    "#                             ascending = [True, True, True, False])\n",
    "\n",
    "# # separate out rows\n",
    "# data2_pas = data2[data2[\"Plate Type\"] == \"PASSENGER\"].reset_index(drop=True)\n",
    "# data2_com = data2[data2[\"Plate Type\"] == \"COMMERCIAL\"].reset_index(drop=True)\n",
    "# data2_oth = data2[data2[\"Plate Type\"] == \"OTHER\"].reset_index(drop=True)\n",
    "# data_max = data.groupby(by = [\"Year\",\"Month\",\"Violation Precinct\",], \n",
    "#                      as_index=False).size()\n",
    "# data_max = data_max.sort_values(by = [\"Year\",\"Month\",\"Violation Precinct\",],)\n",
    "\n",
    "# # assign columns\n",
    "# data3 = data2.drop(columns=[\"Plate Type\", \"size\"]).drop_duplicates()\n",
    "# data3.reset_index(drop=True, inplace=True)\n",
    "# data3[\"total_passenger_vehicles\"] = data2_pas[\"size\"]\n",
    "# data3[\"total_commercial_vehicles\"] = data2_com[\"size\"]\n",
    "# data3[\"total_other_vehicles\"] = data2_oth[\"size\"]\n",
    "# data3[\"total_vehicles\"] = data_max[\"size\"]\n",
    "\n",
    "# # percentages\n",
    "# data3[\"percent_passenger_vehicles\"] = 100*data3[\"total_passenger_vehicles\"] / data3[\"total_vehicles\"]\n",
    "# data3[\"percent_commercial_vehicles\"] = 100*data3[\"total_commercial_vehicles\"] / data3[\"total_vehicles\"]\n",
    "# data3[\"percent_other_vehicles\"] = 100*data3[\"total_other_vehicles\"] / data3[\"total_vehicles\"]\n",
    "\n",
    "# data3"
   ]
  },
  {
   "cell_type": "markdown",
   "metadata": {},
   "source": []
  },
  {
   "cell_type": "code",
   "execution_count": 5,
   "metadata": {},
   "outputs": [],
   "source": [
    "# data3.to_csv(f\"../Data/final_data_to_join/temp.csv\", index=False)"
   ]
  },
  {
   "cell_type": "code",
   "execution_count": 6,
   "metadata": {},
   "outputs": [],
   "source": [
    "# data2"
   ]
  },
  {
   "cell_type": "code",
   "execution_count": 7,
   "metadata": {},
   "outputs": [],
   "source": [
    "# data3"
   ]
  },
  {
   "cell_type": "code",
   "execution_count": 8,
   "metadata": {},
   "outputs": [],
   "source": [
    "# data2.columns.tolist()"
   ]
  },
  {
   "cell_type": "code",
   "execution_count": 9,
   "metadata": {},
   "outputs": [],
   "source": [
    "# vc_pt = data[\"Plate Type\"].value_counts()\n",
    "# l1 = vc_pt.index.tolist()\n",
    "# l2 = vc_pt.tolist()\n",
    "# l = [[l1[i], l2[i]] for i in range(len(vc_pt))]\n",
    "# l"
   ]
  },
  {
   "cell_type": "code",
   "execution_count": 10,
   "metadata": {},
   "outputs": [],
   "source": [
    "# data2 = data[\"Plate Type\"].map(lambda x: clean_plate_type(x))\n",
    "# vc_pt = data2[\"Plate Type\"].value_counts()\n",
    "# l1 = vc_pt.index.tolist()\n",
    "# l2 = vc_pt.tolist()\n",
    "# l = [[l1[i], l2[i]] for i in range(len(vc_pt))]\n",
    "# l"
   ]
  }
 ],
 "metadata": {
  "kernelspec": {
   "display_name": "dsepi",
   "language": "python",
   "name": "python3"
  },
  "language_info": {
   "codemirror_mode": {
    "name": "ipython",
    "version": 3
   },
   "file_extension": ".py",
   "mimetype": "text/x-python",
   "name": "python",
   "nbconvert_exporter": "python",
   "pygments_lexer": "ipython3",
   "version": "3.10.12"
  }
 },
 "nbformat": 4,
 "nbformat_minor": 2
}
