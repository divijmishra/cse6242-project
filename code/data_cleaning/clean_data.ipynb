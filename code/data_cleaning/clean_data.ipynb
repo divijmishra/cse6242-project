{
 "cells": [
  {
   "cell_type": "markdown",
   "metadata": {},
   "source": [
    "Remove unnecessary columns, filter out nonsense precincts."
   ]
  },
  {
   "cell_type": "markdown",
   "metadata": {},
   "source": [
    "Remove wrong dates (wrong years) \\\n",
    "Also, remove all NA/empty dates"
   ]
  },
  {
   "cell_type": "code",
   "execution_count": 1,
   "metadata": {},
   "outputs": [],
   "source": [
    "import pandas as pd"
   ]
  },
  {
   "cell_type": "code",
   "execution_count": 2,
   "metadata": {},
   "outputs": [],
   "source": [
    "precinct_list = [str(i) for i in [1, 5, 6, 7, 9, 10, 13, 14, 17, 18, 19, 20, 22, 23, 24,\n",
    "                25, 26, 28, 30, 32, 33, 34, 40, 41, 42, 43, 44, 45, 46,\n",
    "                47, 48, 49, 50, 52, 60, 61, 62, 63, 66, 67, 68, 69, 70,\n",
    "                71, 72, 76, 78, 73, 75, 77, 79, 81, 83, 84, 88, 90, 94,\n",
    "                100, 101, 102, 103, 105, 106, 107, 113, 104, 108, 109,\n",
    "                110, 111, 112, 114, 115, 120, 121, 122, 123]]"
   ]
  },
  {
   "cell_type": "code",
   "execution_count": 3,
   "metadata": {},
   "outputs": [],
   "source": [
    "# function to clean date\n",
    "def clean_date(date, data_year):\n",
    "    try:\n",
    "        if data_year != 2020:\n",
    "            if int(date[-4:]) not in (data_year, data_year-1):\n",
    "                return None\n",
    "        \n",
    "        else: # stupid timestamp format for 2020\n",
    "            date = date[:10]\n",
    "            if int(date[-4:]) not in (data_year, data_year-1):\n",
    "                return None\n",
    "        \n",
    "        if int(date[-4:]) == data_year:\n",
    "            if int(date[:2]) > 6:\n",
    "                return None\n",
    "            else:\n",
    "                return date\n",
    "        else:\n",
    "            if int(date[:2]) <= 6:\n",
    "                return None\n",
    "            else:\n",
    "                return date\n",
    "        \n",
    "    except:\n",
    "        return None"
   ]
  },
  {
   "cell_type": "code",
   "execution_count": 4,
   "metadata": {},
   "outputs": [
    {
     "name": "stdout",
     "output_type": "stream",
     "text": [
      "Started 2014\n",
      "Finished 2014\n",
      "Started 2015\n",
      "Finished 2015\n",
      "Started 2016\n",
      "Finished 2016\n",
      "Started 2017\n",
      "Finished 2017\n",
      "Started 2018\n",
      "Finished 2018\n",
      "Started 2019\n",
      "Finished 2019\n",
      "Started 2020\n",
      "Finished 2020\n",
      "Started 2021\n",
      "Finished 2021\n",
      "Started 2022\n",
      "Finished 2022\n",
      "Started 2023\n",
      "Finished 2023\n"
     ]
    }
   ],
   "source": [
    "year_list = [i for i in range(2014, 2024)]\n",
    "# year_list = [i for i in range(2016, 2024)]\n",
    "\n",
    "for year in year_list:\n",
    "\n",
    "    print(f\"Started {year}\")\n",
    "    \n",
    "    # load data\n",
    "    data = pd.read_csv(f\"../../data/main_data/raw/Parking_Violations_Issued_{year}.csv\",\n",
    "                       dtype=\"string\")\n",
    "    \n",
    "    # select columns\n",
    "    data = data[[\n",
    "        \"Summons Number\", \"Issue Date\", \"Violation Time\",\n",
    "        \"Violation Code\", \"Violation Precinct\", \"Vehicle Body Type\",\n",
    "        \"Vehicle Color\", \"Plate Type\"\n",
    "    ]]\n",
    "\n",
    "    # filter for correct precincts\n",
    "    data = data[\n",
    "        data[\"Violation Precinct\"].isin(precinct_list)]\n",
    "\n",
    "    # convert date\n",
    "    data[\"Issue Date\"] = data[\"Issue Date\"].map(lambda x: clean_date(x, year), \n",
    "                                                        na_action=\"ignore\")\n",
    "    data = data[data[\"Issue Date\"].notnull()]\n",
    "\n",
    "    # save data\n",
    "    data.to_csv(f\"../../data/main_data/cleaned/Parking_Violations_Issued_{str(year)}.csv\", index=False)\n",
    "\n",
    "    print(f\"Finished {str(year)}\")"
   ]
  },
  {
   "cell_type": "code",
   "execution_count": null,
   "metadata": {},
   "outputs": [],
   "source": []
  }
 ],
 "metadata": {
  "kernelspec": {
   "display_name": "Python 3 (ipykernel)",
   "language": "python",
   "name": "python3"
  },
  "language_info": {
   "codemirror_mode": {
    "name": "ipython",
    "version": 3
   },
   "file_extension": ".py",
   "mimetype": "text/x-python",
   "name": "python",
   "nbconvert_exporter": "python",
   "pygments_lexer": "ipython3",
   "version": "3.11.4"
  }
 },
 "nbformat": 4,
 "nbformat_minor": 4
}
