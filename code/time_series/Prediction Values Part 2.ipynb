{
 "cells": [
  {
   "cell_type": "markdown",
   "id": "9f12c3fe",
   "metadata": {},
   "source": [
    "# Making Monthly Data"
   ]
  },
  {
   "cell_type": "markdown",
   "id": "95c75fc6",
   "metadata": {},
   "source": [
    "Due to the high variability in the data, it might be better to sum it over per month. This would hopefully avoid some of the wild fluctuations per day."
   ]
  },
  {
   "cell_type": "code",
   "execution_count": 1,
   "id": "52d46acd",
   "metadata": {},
   "outputs": [
    {
     "name": "stderr",
     "output_type": "stream",
     "text": [
      "/home/divij/anaconda3/envs/dsepi/lib/python3.10/site-packages/tqdm/auto.py:21: TqdmWarning: IProgress not found. Please update jupyter and ipywidgets. See https://ipywidgets.readthedocs.io/en/stable/user_install.html\n",
      "  from .autonotebook import tqdm as notebook_tqdm\n",
      "Importing plotly failed. Interactive plots will not work.\n"
     ]
    }
   ],
   "source": [
    "import pandas as pd\n",
    "import matplotlib as mpl\n",
    "import prophet\n",
    "import numpy as np\n",
    "import pmdarima as pm\n",
    "from sklearn.metrics import mean_squared_error"
   ]
  },
  {
   "cell_type": "markdown",
   "id": "e0fde387",
   "metadata": {},
   "source": [
    "### Reading Data"
   ]
  },
  {
   "cell_type": "markdown",
   "id": "723c04b2",
   "metadata": {},
   "source": [
    "Due to it being in pieces, we'll first make a final dataset called `final_df`, then we'll sum all `counts` over each month!"
   ]
  },
  {
   "cell_type": "code",
   "execution_count": 2,
   "id": "33549312",
   "metadata": {},
   "outputs": [],
   "source": [
    "# 2014\n",
    "df_2014 = pd.read_csv(\"../../data/time_series/cleaned/TS_2014.csv\")\n",
    "df_2014['Issue Date'] = pd.to_datetime(df_2014['Issue Date'])\n",
    "# 2015\n",
    "df_2015 = pd.read_csv(\"../../data/time_series/cleaned/TS_2015.csv\")\n",
    "df_2015['Issue Date'] = pd.to_datetime(df_2015['Issue Date'])\n",
    "# 2016\n",
    "df_2016 = pd.read_csv(\"../../data/time_series/cleaned/TS_2016.csv\")\n",
    "df_2016['Issue Date'] = pd.to_datetime(df_2016['Issue Date'])\n",
    "# 2017\n",
    "df_2017 = pd.read_csv(\"../../data/time_series/cleaned/TS_2017.csv\")\n",
    "df_2017['Issue Date'] = pd.to_datetime(df_2017['Issue Date'])\n",
    "# 2018\n",
    "df_2018 = pd.read_csv(\"../../data/time_series/cleaned/TS_2018.csv\")\n",
    "df_2018['Issue Date'] = pd.to_datetime(df_2018['Issue Date'])\n",
    "# 2019\n",
    "df_2019 = pd.read_csv(\"../../data/time_series/cleaned/TS_2019.csv\")\n",
    "df_2019['Issue Date'] = pd.to_datetime(df_2019['Issue Date']) \n",
    "# 2020\n",
    "df_2020 = pd.read_csv(\"../../data/time_series/cleaned/TS_2020.csv\")\n",
    "df_2020['Issue Date'] = pd.to_datetime(df_2020['Issue Date'])\n",
    "# 2021\n",
    "df_2021 = pd.read_csv(\"../../data/time_series/cleaned/TS_2021.csv\")\n",
    "df_2021['Issue Date'] = pd.to_datetime(df_2021['Issue Date'])\n",
    "# 2022\n",
    "df_2022 = pd.read_csv(\"../../data/time_series/cleaned/TS_2022.csv\")\n",
    "df_2022['Issue Date'] = pd.to_datetime(df_2022['Issue Date'])\n",
    "# 2023\n",
    "df_2023 = pd.read_csv(\"../../data/time_series/cleaned/TS_2023.csv\")\n",
    "df_2023['Issue Date'] = pd.to_datetime(df_2023['Issue Date'])"
   ]
  },
  {
   "cell_type": "code",
   "execution_count": 3,
   "id": "b5d3ce7a",
   "metadata": {},
   "outputs": [],
   "source": [
    "final_df = pd.concat([df_2014, df_2015, df_2016, df_2017, df_2018, df_2019, df_2020, df_2021, df_2022, df_2023], axis = 0)\n",
    "final_df = final_df.reset_index(drop = True)"
   ]
  },
  {
   "cell_type": "code",
   "execution_count": 4,
   "metadata": {},
   "outputs": [
    {
     "data": {
      "text/html": [
       "<div>\n",
       "<style scoped>\n",
       "    .dataframe tbody tr th:only-of-type {\n",
       "        vertical-align: middle;\n",
       "    }\n",
       "\n",
       "    .dataframe tbody tr th {\n",
       "        vertical-align: top;\n",
       "    }\n",
       "\n",
       "    .dataframe thead th {\n",
       "        text-align: right;\n",
       "    }\n",
       "</style>\n",
       "<table border=\"1\" class=\"dataframe\">\n",
       "  <thead>\n",
       "    <tr style=\"text-align: right;\">\n",
       "      <th></th>\n",
       "      <th>Issue Date</th>\n",
       "      <th>Counts</th>\n",
       "    </tr>\n",
       "  </thead>\n",
       "  <tbody>\n",
       "    <tr>\n",
       "      <th>0</th>\n",
       "      <td>2013-07-02</td>\n",
       "      <td>0</td>\n",
       "    </tr>\n",
       "    <tr>\n",
       "      <th>1</th>\n",
       "      <td>2013-07-03</td>\n",
       "      <td>0</td>\n",
       "    </tr>\n",
       "    <tr>\n",
       "      <th>2</th>\n",
       "      <td>2013-07-04</td>\n",
       "      <td>1</td>\n",
       "    </tr>\n",
       "    <tr>\n",
       "      <th>3</th>\n",
       "      <td>2013-07-06</td>\n",
       "      <td>0</td>\n",
       "    </tr>\n",
       "    <tr>\n",
       "      <th>4</th>\n",
       "      <td>2013-07-07</td>\n",
       "      <td>0</td>\n",
       "    </tr>\n",
       "    <tr>\n",
       "      <th>...</th>\n",
       "      <td>...</td>\n",
       "      <td>...</td>\n",
       "    </tr>\n",
       "    <tr>\n",
       "      <th>3620</th>\n",
       "      <td>2023-06-26</td>\n",
       "      <td>2</td>\n",
       "    </tr>\n",
       "    <tr>\n",
       "      <th>3621</th>\n",
       "      <td>2023-06-27</td>\n",
       "      <td>0</td>\n",
       "    </tr>\n",
       "    <tr>\n",
       "      <th>3622</th>\n",
       "      <td>2023-06-28</td>\n",
       "      <td>2</td>\n",
       "    </tr>\n",
       "    <tr>\n",
       "      <th>3623</th>\n",
       "      <td>2023-06-29</td>\n",
       "      <td>0</td>\n",
       "    </tr>\n",
       "    <tr>\n",
       "      <th>3624</th>\n",
       "      <td>2023-06-30</td>\n",
       "      <td>2</td>\n",
       "    </tr>\n",
       "  </tbody>\n",
       "</table>\n",
       "<p>3625 rows × 2 columns</p>\n",
       "</div>"
      ],
      "text/plain": [
       "     Issue Date  Counts\n",
       "0    2013-07-02       0\n",
       "1    2013-07-03       0\n",
       "2    2013-07-04       1\n",
       "3    2013-07-06       0\n",
       "4    2013-07-07       0\n",
       "...         ...     ...\n",
       "3620 2023-06-26       2\n",
       "3621 2023-06-27       0\n",
       "3622 2023-06-28       2\n",
       "3623 2023-06-29       0\n",
       "3624 2023-06-30       2\n",
       "\n",
       "[3625 rows x 2 columns]"
      ]
     },
     "execution_count": 4,
     "metadata": {},
     "output_type": "execute_result"
    }
   ],
   "source": [
    "final_df = final_df[final_df[\"Violation Precinct\"] == 5].reset_index(drop = True)\n",
    "final_df = final_df.drop(columns=[\"Violation Precinct\"])\n",
    "final_df"
   ]
  },
  {
   "cell_type": "code",
   "execution_count": 5,
   "id": "4241319a",
   "metadata": {},
   "outputs": [
    {
     "data": {
      "text/html": [
       "<div>\n",
       "<style scoped>\n",
       "    .dataframe tbody tr th:only-of-type {\n",
       "        vertical-align: middle;\n",
       "    }\n",
       "\n",
       "    .dataframe tbody tr th {\n",
       "        vertical-align: top;\n",
       "    }\n",
       "\n",
       "    .dataframe thead th {\n",
       "        text-align: right;\n",
       "    }\n",
       "</style>\n",
       "<table border=\"1\" class=\"dataframe\">\n",
       "  <thead>\n",
       "    <tr style=\"text-align: right;\">\n",
       "      <th></th>\n",
       "      <th>Issue Date</th>\n",
       "      <th>Counts</th>\n",
       "    </tr>\n",
       "  </thead>\n",
       "  <tbody>\n",
       "    <tr>\n",
       "      <th>0</th>\n",
       "      <td>2013-07-02</td>\n",
       "      <td>0</td>\n",
       "    </tr>\n",
       "    <tr>\n",
       "      <th>1</th>\n",
       "      <td>2013-07-03</td>\n",
       "      <td>0</td>\n",
       "    </tr>\n",
       "    <tr>\n",
       "      <th>2</th>\n",
       "      <td>2013-07-04</td>\n",
       "      <td>1</td>\n",
       "    </tr>\n",
       "    <tr>\n",
       "      <th>3</th>\n",
       "      <td>2013-07-06</td>\n",
       "      <td>0</td>\n",
       "    </tr>\n",
       "    <tr>\n",
       "      <th>4</th>\n",
       "      <td>2013-07-07</td>\n",
       "      <td>0</td>\n",
       "    </tr>\n",
       "    <tr>\n",
       "      <th>...</th>\n",
       "      <td>...</td>\n",
       "      <td>...</td>\n",
       "    </tr>\n",
       "    <tr>\n",
       "      <th>3620</th>\n",
       "      <td>2023-06-26</td>\n",
       "      <td>2</td>\n",
       "    </tr>\n",
       "    <tr>\n",
       "      <th>3621</th>\n",
       "      <td>2023-06-27</td>\n",
       "      <td>0</td>\n",
       "    </tr>\n",
       "    <tr>\n",
       "      <th>3622</th>\n",
       "      <td>2023-06-28</td>\n",
       "      <td>2</td>\n",
       "    </tr>\n",
       "    <tr>\n",
       "      <th>3623</th>\n",
       "      <td>2023-06-29</td>\n",
       "      <td>0</td>\n",
       "    </tr>\n",
       "    <tr>\n",
       "      <th>3624</th>\n",
       "      <td>2023-06-30</td>\n",
       "      <td>2</td>\n",
       "    </tr>\n",
       "  </tbody>\n",
       "</table>\n",
       "<p>3625 rows × 2 columns</p>\n",
       "</div>"
      ],
      "text/plain": [
       "     Issue Date  Counts\n",
       "0    2013-07-02       0\n",
       "1    2013-07-03       0\n",
       "2    2013-07-04       1\n",
       "3    2013-07-06       0\n",
       "4    2013-07-07       0\n",
       "...         ...     ...\n",
       "3620 2023-06-26       2\n",
       "3621 2023-06-27       0\n",
       "3622 2023-06-28       2\n",
       "3623 2023-06-29       0\n",
       "3624 2023-06-30       2\n",
       "\n",
       "[3625 rows x 2 columns]"
      ]
     },
     "metadata": {},
     "output_type": "display_data"
    }
   ],
   "source": [
    "display(final_df)"
   ]
  },
  {
   "cell_type": "markdown",
   "id": "2b38d5b5",
   "metadata": {},
   "source": [
    "### Creating Time as Index and Then Summing Per Month"
   ]
  },
  {
   "cell_type": "code",
   "execution_count": 6,
   "id": "aa1f3fb3",
   "metadata": {},
   "outputs": [],
   "source": [
    "final_df.set_index('Issue Date', inplace=True)"
   ]
  },
  {
   "cell_type": "code",
   "execution_count": 7,
   "id": "4fcb3363",
   "metadata": {},
   "outputs": [
    {
     "data": {
      "text/html": [
       "<div>\n",
       "<style scoped>\n",
       "    .dataframe tbody tr th:only-of-type {\n",
       "        vertical-align: middle;\n",
       "    }\n",
       "\n",
       "    .dataframe tbody tr th {\n",
       "        vertical-align: top;\n",
       "    }\n",
       "\n",
       "    .dataframe thead th {\n",
       "        text-align: right;\n",
       "    }\n",
       "</style>\n",
       "<table border=\"1\" class=\"dataframe\">\n",
       "  <thead>\n",
       "    <tr style=\"text-align: right;\">\n",
       "      <th></th>\n",
       "      <th>Counts</th>\n",
       "    </tr>\n",
       "    <tr>\n",
       "      <th>Issue Date</th>\n",
       "      <th></th>\n",
       "    </tr>\n",
       "  </thead>\n",
       "  <tbody>\n",
       "    <tr>\n",
       "      <th>2013-07-01</th>\n",
       "      <td>26</td>\n",
       "    </tr>\n",
       "    <tr>\n",
       "      <th>2013-08-01</th>\n",
       "      <td>104</td>\n",
       "    </tr>\n",
       "    <tr>\n",
       "      <th>2013-09-01</th>\n",
       "      <td>111</td>\n",
       "    </tr>\n",
       "    <tr>\n",
       "      <th>2013-10-01</th>\n",
       "      <td>112</td>\n",
       "    </tr>\n",
       "    <tr>\n",
       "      <th>2013-11-01</th>\n",
       "      <td>131</td>\n",
       "    </tr>\n",
       "    <tr>\n",
       "      <th>...</th>\n",
       "      <td>...</td>\n",
       "    </tr>\n",
       "    <tr>\n",
       "      <th>2023-02-01</th>\n",
       "      <td>92</td>\n",
       "    </tr>\n",
       "    <tr>\n",
       "      <th>2023-03-01</th>\n",
       "      <td>102</td>\n",
       "    </tr>\n",
       "    <tr>\n",
       "      <th>2023-04-01</th>\n",
       "      <td>66</td>\n",
       "    </tr>\n",
       "    <tr>\n",
       "      <th>2023-05-01</th>\n",
       "      <td>99</td>\n",
       "    </tr>\n",
       "    <tr>\n",
       "      <th>2023-06-01</th>\n",
       "      <td>74</td>\n",
       "    </tr>\n",
       "  </tbody>\n",
       "</table>\n",
       "<p>120 rows × 1 columns</p>\n",
       "</div>"
      ],
      "text/plain": [
       "            Counts\n",
       "Issue Date        \n",
       "2013-07-01      26\n",
       "2013-08-01     104\n",
       "2013-09-01     111\n",
       "2013-10-01     112\n",
       "2013-11-01     131\n",
       "...            ...\n",
       "2023-02-01      92\n",
       "2023-03-01     102\n",
       "2023-04-01      66\n",
       "2023-05-01      99\n",
       "2023-06-01      74\n",
       "\n",
       "[120 rows x 1 columns]"
      ]
     },
     "metadata": {},
     "output_type": "display_data"
    }
   ],
   "source": [
    "final_df_monthly = final_df.resample('MS').sum()\n",
    "display(final_df_monthly)"
   ]
  },
  {
   "cell_type": "markdown",
   "id": "99590ceb",
   "metadata": {},
   "source": [
    "# Fitting Our Models On Monthly Data"
   ]
  },
  {
   "cell_type": "markdown",
   "id": "48d8f278",
   "metadata": {},
   "source": [
    "## We'll Use RMSE to Judge Our Models"
   ]
  },
  {
   "cell_type": "markdown",
   "id": "85c2c08d",
   "metadata": {},
   "source": [
    "### ARIMA Model"
   ]
  },
  {
   "cell_type": "code",
   "execution_count": 8,
   "id": "416bda05",
   "metadata": {},
   "outputs": [
    {
     "name": "stdout",
     "output_type": "stream",
     "text": [
      "Test RMSE: 33.336\n"
     ]
    }
   ],
   "source": [
    "# Load the data and split it into separate pieces (array form)\n",
    "data = np.array(final_df_monthly['Counts'])\n",
    "train, test = pm.model_selection.train_test_split(data, train_size=108)\n",
    "\n",
    "# Fit a simple auto_arima model\n",
    "modl = pm.auto_arima(train, start_p=1, start_q=1, start_P=1, start_Q=1,\n",
    "                     max_p=5, max_q=5, max_P=5, max_Q=5, seasonal=True,\n",
    "                     stepwise=True, suppress_warnings=True, \n",
    "                    #  d=1, max_d=10, D=1, max_D=10,\n",
    "                     error_action='ignore')\n",
    "\n",
    "# Create predictions for the future, evaluate on test\n",
    "preds, conf_int = modl.predict(n_periods=test.shape[0], return_conf_int=True)\n",
    "\n",
    "# Print the error:\n",
    "print(\"Test RMSE: %.3f\" % np.sqrt(mean_squared_error(test, preds)))"
   ]
  },
  {
   "cell_type": "markdown",
   "id": "eb69ff78",
   "metadata": {},
   "source": [
    "### PROPHET Model"
   ]
  },
  {
   "cell_type": "code",
   "execution_count": 9,
   "id": "d5c86d71",
   "metadata": {},
   "outputs": [
    {
     "name": "stderr",
     "output_type": "stream",
     "text": [
      "15:29:58 - cmdstanpy - INFO - Chain [1] start processing\n",
      "15:29:58 - cmdstanpy - INFO - Chain [1] done processing\n"
     ]
    },
    {
     "name": "stdout",
     "output_type": "stream",
     "text": [
      "Test RMSE: 35.879\n"
     ]
    }
   ],
   "source": [
    "# Create Prophet Object\n",
    "m = prophet.Prophet()\n",
    "\n",
    "# Use Similar Splitting (but not in array form)\n",
    "train_prophet, test_prophet = pm.model_selection.train_test_split(final_df_monthly, train_size = 108)\n",
    "\n",
    "# Make column names into those required by PROPHET\n",
    "train_prophet.reset_index(inplace=True)\n",
    "train_prophet = train_prophet.rename(columns = {'Issue Date':'ds'})\n",
    "train_prophet['y'] = train_prophet['Counts']\n",
    "\n",
    "# Fit\n",
    "m.fit(train_prophet)\n",
    "\n",
    "# Make a future data frame for another year (12 months)\n",
    "future = m.make_future_dataframe(periods=12, include_history = False, freq=\"MS\")\n",
    "\n",
    "# Predict\n",
    "forecast = m.predict(future)\n",
    "\n",
    "# Calculate RMSE\n",
    "preds_prophet = np.array(forecast['yhat'])\n",
    "test_prophet = np.array(test_prophet['Counts'])\n",
    "# Print the error:\n",
    "print(\"Test RMSE: %.3f\" % np.sqrt(mean_squared_error(test_prophet, preds_prophet)))"
   ]
  },
  {
   "cell_type": "code",
   "execution_count": 10,
   "metadata": {},
   "outputs": [
    {
     "data": {
      "text/html": [
       "<div>\n",
       "<style scoped>\n",
       "    .dataframe tbody tr th:only-of-type {\n",
       "        vertical-align: middle;\n",
       "    }\n",
       "\n",
       "    .dataframe tbody tr th {\n",
       "        vertical-align: top;\n",
       "    }\n",
       "\n",
       "    .dataframe thead th {\n",
       "        text-align: right;\n",
       "    }\n",
       "</style>\n",
       "<table border=\"1\" class=\"dataframe\">\n",
       "  <thead>\n",
       "    <tr style=\"text-align: right;\">\n",
       "      <th></th>\n",
       "      <th>ds</th>\n",
       "    </tr>\n",
       "  </thead>\n",
       "  <tbody>\n",
       "    <tr>\n",
       "      <th>0</th>\n",
       "      <td>2022-07-01</td>\n",
       "    </tr>\n",
       "    <tr>\n",
       "      <th>1</th>\n",
       "      <td>2022-08-01</td>\n",
       "    </tr>\n",
       "    <tr>\n",
       "      <th>2</th>\n",
       "      <td>2022-09-01</td>\n",
       "    </tr>\n",
       "    <tr>\n",
       "      <th>3</th>\n",
       "      <td>2022-10-01</td>\n",
       "    </tr>\n",
       "    <tr>\n",
       "      <th>4</th>\n",
       "      <td>2022-11-01</td>\n",
       "    </tr>\n",
       "    <tr>\n",
       "      <th>5</th>\n",
       "      <td>2022-12-01</td>\n",
       "    </tr>\n",
       "    <tr>\n",
       "      <th>6</th>\n",
       "      <td>2023-01-01</td>\n",
       "    </tr>\n",
       "    <tr>\n",
       "      <th>7</th>\n",
       "      <td>2023-02-01</td>\n",
       "    </tr>\n",
       "    <tr>\n",
       "      <th>8</th>\n",
       "      <td>2023-03-01</td>\n",
       "    </tr>\n",
       "    <tr>\n",
       "      <th>9</th>\n",
       "      <td>2023-04-01</td>\n",
       "    </tr>\n",
       "    <tr>\n",
       "      <th>10</th>\n",
       "      <td>2023-05-01</td>\n",
       "    </tr>\n",
       "    <tr>\n",
       "      <th>11</th>\n",
       "      <td>2023-06-01</td>\n",
       "    </tr>\n",
       "  </tbody>\n",
       "</table>\n",
       "</div>"
      ],
      "text/plain": [
       "           ds\n",
       "0  2022-07-01\n",
       "1  2022-08-01\n",
       "2  2022-09-01\n",
       "3  2022-10-01\n",
       "4  2022-11-01\n",
       "5  2022-12-01\n",
       "6  2023-01-01\n",
       "7  2023-02-01\n",
       "8  2023-03-01\n",
       "9  2023-04-01\n",
       "10 2023-05-01\n",
       "11 2023-06-01"
      ]
     },
     "execution_count": 10,
     "metadata": {},
     "output_type": "execute_result"
    }
   ],
   "source": [
    "future"
   ]
  },
  {
   "cell_type": "code",
   "execution_count": null,
   "metadata": {},
   "outputs": [],
   "source": []
  },
  {
   "cell_type": "markdown",
   "id": "12582105",
   "metadata": {},
   "source": [
    "The RMSE of the ARIMA model seems much lower, and so, it is likely the better predictor, but we can graph all fitted values as well to see it visually!"
   ]
  },
  {
   "cell_type": "code",
   "execution_count": 11,
   "id": "e066c8be",
   "metadata": {},
   "outputs": [],
   "source": [
    "prediction_data = {'True_Values': test, 'ARIMA_Predictions': preds, 'PROPHET_Predictions': preds_prophet}"
   ]
  },
  {
   "cell_type": "code",
   "execution_count": 12,
   "id": "575c4dcc",
   "metadata": {},
   "outputs": [],
   "source": [
    "pred_df = pd.DataFrame(prediction_data)"
   ]
  },
  {
   "cell_type": "code",
   "execution_count": 13,
   "id": "8eaf4614",
   "metadata": {},
   "outputs": [
    {
     "data": {
      "text/plain": [
       "<Axes: >"
      ]
     },
     "execution_count": 13,
     "metadata": {},
     "output_type": "execute_result"
    },
    {
     "data": {
      "image/png": "[encoded data removed]",
      "text/plain": [
       "<Figure size 640x480 with 1 Axes>"
      ]
     },
     "metadata": {},
     "output_type": "display_data"
    }
   ],
   "source": [
    "pred_df.plot()"
   ]
  },
  {
   "cell_type": "markdown",
   "id": "ee8e1ab2",
   "metadata": {},
   "source": [
    "# Fitted and Predicted Values"
   ]
  },
  {
   "cell_type": "code",
   "execution_count": 14,
   "id": "352fabbf",
   "metadata": {},
   "outputs": [],
   "source": [
    "data_arima = np.array(final_df_monthly['Counts'])\n",
    "modl = pm.auto_arima(data_arima, start_p=1, start_q=1, start_P=1, start_Q=1,\n",
    "                     max_p=5, max_q=5, max_P=5, max_Q=5, seasonal=True,\n",
    "                     stepwise=True, suppress_warnings=True, D=10, max_D=10,\n",
    "                     error_action='ignore')\n",
    "preds_arima = modl.predict(n_periods=12, return_conf_int=False)"
   ]
  },
  {
   "cell_type": "code",
   "execution_count": 15,
   "id": "c44ef7b0",
   "metadata": {},
   "outputs": [
    {
     "name": "stderr",
     "output_type": "stream",
     "text": [
      "15:29:59 - cmdstanpy - INFO - Chain [1] start processing\n",
      "15:29:59 - cmdstanpy - INFO - Chain [1] done processing\n"
     ]
    }
   ],
   "source": [
    "m = prophet.Prophet()\n",
    "data_prophet = final_df_monthly\n",
    "data_prophet.reset_index(inplace=True)\n",
    "data_prophet = data_prophet.rename(columns = {'Issue Date':'ds'})\n",
    "data_prophet['y'] = final_df_monthly['Counts']\n",
    "m.fit(data_prophet)\n",
    "future = m.make_future_dataframe(periods=12, include_history = False)\n",
    "forecast = m.predict(future)\n",
    "preds_prophet = forecast[[\"ds\",\"yhat\"]]"
   ]
  },
  {
   "cell_type": "code",
   "execution_count": 16,
   "id": "52aa89dc",
   "metadata": {},
   "outputs": [],
   "source": [
    "future = m.make_future_dataframe(periods=12, include_history = True)"
   ]
  },
  {
   "cell_type": "code",
   "execution_count": 17,
   "id": "48e46e0d",
   "metadata": {},
   "outputs": [],
   "source": [
    "output = future\n",
    "output = output.rename(columns = {\"ds\":\"time\"})\n",
    "preds_prophet = preds_prophet.rename(columns = {\"ds\":\"time\", \"yhat\":\"prophet_pred\"})\n",
    "preds_prophet[\"arima_pred\"] = preds_arima\n",
    "output = output.merge(preds_prophet, how = \"outer\", on = \"time\")\n",
    "prep_final_df = final_df_monthly\n",
    "prep_final_df = prep_final_df.rename(columns = {\"Issue Date\":\"time\"})\n",
    "output = output.merge(prep_final_df, how = \"outer\", on = \"time\")\n",
    "# output = output.drop(columns = [\"level_0\", \"index\"])\n",
    "output = output.rename(columns = {\"Counts\": \"values\"})"
   ]
  },
  {
   "cell_type": "code",
   "execution_count": 18,
   "id": "b8dbfe53",
   "metadata": {},
   "outputs": [
    {
     "data": {
      "text/html": [
       "<div>\n",
       "<style scoped>\n",
       "    .dataframe tbody tr th:only-of-type {\n",
       "        vertical-align: middle;\n",
       "    }\n",
       "\n",
       "    .dataframe tbody tr th {\n",
       "        vertical-align: top;\n",
       "    }\n",
       "\n",
       "    .dataframe thead th {\n",
       "        text-align: right;\n",
       "    }\n",
       "</style>\n",
       "<table border=\"1\" class=\"dataframe\">\n",
       "  <thead>\n",
       "    <tr style=\"text-align: right;\">\n",
       "      <th></th>\n",
       "      <th>time</th>\n",
       "      <th>prophet_pred</th>\n",
       "      <th>arima_pred</th>\n",
       "      <th>values</th>\n",
       "    </tr>\n",
       "  </thead>\n",
       "  <tbody>\n",
       "    <tr>\n",
       "      <th>0</th>\n",
       "      <td>2013-07-01</td>\n",
       "      <td>NaN</td>\n",
       "      <td>NaN</td>\n",
       "      <td>26.0</td>\n",
       "    </tr>\n",
       "    <tr>\n",
       "      <th>1</th>\n",
       "      <td>2013-08-01</td>\n",
       "      <td>NaN</td>\n",
       "      <td>NaN</td>\n",
       "      <td>104.0</td>\n",
       "    </tr>\n",
       "    <tr>\n",
       "      <th>2</th>\n",
       "      <td>2013-09-01</td>\n",
       "      <td>NaN</td>\n",
       "      <td>NaN</td>\n",
       "      <td>111.0</td>\n",
       "    </tr>\n",
       "    <tr>\n",
       "      <th>3</th>\n",
       "      <td>2013-10-01</td>\n",
       "      <td>NaN</td>\n",
       "      <td>NaN</td>\n",
       "      <td>112.0</td>\n",
       "    </tr>\n",
       "    <tr>\n",
       "      <th>4</th>\n",
       "      <td>2013-11-01</td>\n",
       "      <td>NaN</td>\n",
       "      <td>NaN</td>\n",
       "      <td>131.0</td>\n",
       "    </tr>\n",
       "    <tr>\n",
       "      <th>...</th>\n",
       "      <td>...</td>\n",
       "      <td>...</td>\n",
       "      <td>...</td>\n",
       "      <td>...</td>\n",
       "    </tr>\n",
       "    <tr>\n",
       "      <th>127</th>\n",
       "      <td>2023-06-09</td>\n",
       "      <td>84.976200</td>\n",
       "      <td>108.722522</td>\n",
       "      <td>NaN</td>\n",
       "    </tr>\n",
       "    <tr>\n",
       "      <th>128</th>\n",
       "      <td>2023-06-10</td>\n",
       "      <td>86.798711</td>\n",
       "      <td>108.783239</td>\n",
       "      <td>NaN</td>\n",
       "    </tr>\n",
       "    <tr>\n",
       "      <th>129</th>\n",
       "      <td>2023-06-11</td>\n",
       "      <td>88.911647</td>\n",
       "      <td>108.813108</td>\n",
       "      <td>NaN</td>\n",
       "    </tr>\n",
       "    <tr>\n",
       "      <th>130</th>\n",
       "      <td>2023-06-12</td>\n",
       "      <td>91.258060</td>\n",
       "      <td>108.827801</td>\n",
       "      <td>NaN</td>\n",
       "    </tr>\n",
       "    <tr>\n",
       "      <th>131</th>\n",
       "      <td>2023-06-13</td>\n",
       "      <td>93.772795</td>\n",
       "      <td>108.835030</td>\n",
       "      <td>NaN</td>\n",
       "    </tr>\n",
       "  </tbody>\n",
       "</table>\n",
       "<p>132 rows × 4 columns</p>\n",
       "</div>"
      ],
      "text/plain": [
       "          time  prophet_pred  arima_pred  values\n",
       "0   2013-07-01           NaN         NaN    26.0\n",
       "1   2013-08-01           NaN         NaN   104.0\n",
       "2   2013-09-01           NaN         NaN   111.0\n",
       "3   2013-10-01           NaN         NaN   112.0\n",
       "4   2013-11-01           NaN         NaN   131.0\n",
       "..         ...           ...         ...     ...\n",
       "127 2023-06-09     84.976200  108.722522     NaN\n",
       "128 2023-06-10     86.798711  108.783239     NaN\n",
       "129 2023-06-11     88.911647  108.813108     NaN\n",
       "130 2023-06-12     91.258060  108.827801     NaN\n",
       "131 2023-06-13     93.772795  108.835030     NaN\n",
       "\n",
       "[132 rows x 4 columns]"
      ]
     },
     "metadata": {},
     "output_type": "display_data"
    }
   ],
   "source": [
    "display(output)"
   ]
  },
  {
   "cell_type": "code",
   "execution_count": 19,
   "id": "cb7d8161",
   "metadata": {},
   "outputs": [],
   "source": [
    "output.to_csv(\"../../data/time_series/line_graph_monthly_data.csv\")"
   ]
  },
  {
   "cell_type": "code",
   "execution_count": 20,
   "id": "37b68459",
   "metadata": {},
   "outputs": [
    {
     "data": {
      "text/html": [
       "<style>#sk-container-id-1 {color: black;}#sk-container-id-1 pre{padding: 0;}#sk-container-id-1 div.sk-toggleable {background-color: white;}#sk-container-id-1 label.sk-toggleable__label {cursor: pointer;display: block;width: 100%;margin-bottom: 0;padding: 0.3em;box-sizing: border-box;text-align: center;}#sk-container-id-1 label.sk-toggleable__label-arrow:before {content: \"▸\";float: left;margin-right: 0.25em;color: #696969;}#sk-container-id-1 label.sk-toggleable__label-arrow:hover:before {color: black;}#sk-container-id-1 div.sk-estimator:hover label.sk-toggleable__label-arrow:before {color: black;}#sk-container-id-1 div.sk-toggleable__content {max-height: 0;max-width: 0;overflow: hidden;text-align: left;background-color: #f0f8ff;}#sk-container-id-1 div.sk-toggleable__content pre {margin: 0.2em;color: black;border-radius: 0.25em;background-color: #f0f8ff;}#sk-container-id-1 input.sk-toggleable__control:checked~div.sk-toggleable__content {max-height: 200px;max-width: 100%;overflow: auto;}#sk-container-id-1 input.sk-toggleable__control:checked~label.sk-toggleable__label-arrow:before {content: \"▾\";}#sk-container-id-1 div.sk-estimator input.sk-toggleable__control:checked~label.sk-toggleable__label {background-color: #d4ebff;}#sk-container-id-1 div.sk-label input.sk-toggleable__control:checked~label.sk-toggleable__label {background-color: #d4ebff;}#sk-container-id-1 input.sk-hidden--visually {border: 0;clip: rect(1px 1px 1px 1px);clip: rect(1px, 1px, 1px, 1px);height: 1px;margin: -1px;overflow: hidden;padding: 0;position: absolute;width: 1px;}#sk-container-id-1 div.sk-estimator {font-family: monospace;background-color: #f0f8ff;border: 1px dotted black;border-radius: 0.25em;box-sizing: border-box;margin-bottom: 0.5em;}#sk-container-id-1 div.sk-estimator:hover {background-color: #d4ebff;}#sk-container-id-1 div.sk-parallel-item::after {content: \"\";width: 100%;border-bottom: 1px solid gray;flex-grow: 1;}#sk-container-id-1 div.sk-label:hover label.sk-toggleable__label {background-color: #d4ebff;}#sk-container-id-1 div.sk-serial::before {content: \"\";position: absolute;border-left: 1px solid gray;box-sizing: border-box;top: 0;bottom: 0;left: 50%;z-index: 0;}#sk-container-id-1 div.sk-serial {display: flex;flex-direction: column;align-items: center;background-color: white;padding-right: 0.2em;padding-left: 0.2em;position: relative;}#sk-container-id-1 div.sk-item {position: relative;z-index: 1;}#sk-container-id-1 div.sk-parallel {display: flex;align-items: stretch;justify-content: center;background-color: white;position: relative;}#sk-container-id-1 div.sk-item::before, #sk-container-id-1 div.sk-parallel-item::before {content: \"\";position: absolute;border-left: 1px solid gray;box-sizing: border-box;top: 0;bottom: 0;left: 50%;z-index: -1;}#sk-container-id-1 div.sk-parallel-item {display: flex;flex-direction: column;z-index: 1;position: relative;background-color: white;}#sk-container-id-1 div.sk-parallel-item:first-child::after {align-self: flex-end;width: 50%;}#sk-container-id-1 div.sk-parallel-item:last-child::after {align-self: flex-start;width: 50%;}#sk-container-id-1 div.sk-parallel-item:only-child::after {width: 0;}#sk-container-id-1 div.sk-dashed-wrapped {border: 1px dashed gray;margin: 0 0.4em 0.5em 0.4em;box-sizing: border-box;padding-bottom: 0.4em;background-color: white;}#sk-container-id-1 div.sk-label label {font-family: monospace;font-weight: bold;display: inline-block;line-height: 1.2em;}#sk-container-id-1 div.sk-label-container {text-align: center;}#sk-container-id-1 div.sk-container {/* jupyter's `normalize.less` sets `[hidden] { display: none; }` but bootstrap.min.css set `[hidden] { display: none !important; }` so we also need the `!important` here to be able to override the default hidden behavior on the sphinx rendered scikit-learn.org. See: https://github.com/scikit-learn/scikit-learn/issues/21755 */display: inline-block !important;position: relative;}#sk-container-id-1 div.sk-text-repr-fallback {display: none;}</style><div id=\"sk-container-id-1\" class=\"sk-top-container\"><div class=\"sk-text-repr-fallback\"><pre> ARIMA(1,0,0)(0,0,0)[0] intercept</pre><b>In a Jupyter environment, please rerun this cell to show the HTML representation or trust the notebook. <br />On GitHub, the HTML representation is unable to render, please try loading this page with nbviewer.org.</b></div><div class=\"sk-container\" hidden><div class=\"sk-item\"><div class=\"sk-estimator sk-toggleable\"><input class=\"sk-toggleable__control sk-hidden--visually\" id=\"sk-estimator-id-1\" type=\"checkbox\" checked><label for=\"sk-estimator-id-1\" class=\"sk-toggleable__label sk-toggleable__label-arrow\">ARIMA</label><div class=\"sk-toggleable__content\"><pre> ARIMA(1,0,0)(0,0,0)[0] intercept</pre></div></div></div></div></div>"
      ],
      "text/plain": [
       "ARIMA(order=(1, 0, 0), scoring_args={}, suppress_warnings=True)"
      ]
     },
     "execution_count": 20,
     "metadata": {},
     "output_type": "execute_result"
    }
   ],
   "source": [
    "modl"
   ]
  },
  {
   "cell_type": "code",
   "execution_count": null,
   "metadata": {},
   "outputs": [],
   "source": []
  }
 ],
 "metadata": {
  "kernelspec": {
   "display_name": "Python 3 (ipykernel)",
   "language": "python",
   "name": "python3"
  },
  "language_info": {
   "codemirror_mode": {
    "name": "ipython",
    "version": 3
   },
   "file_extension": ".py",
   "mimetype": "text/x-python",
   "name": "python",
   "nbconvert_exporter": "python",
   "pygments_lexer": "ipython3",
   "version": "3.10.12"
  }
 },
 "nbformat": 4,
 "nbformat_minor": 5
}
