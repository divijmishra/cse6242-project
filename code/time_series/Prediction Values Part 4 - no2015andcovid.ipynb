{
 "cells": [
  {
   "cell_type": "markdown",
   "metadata": {},
   "source": [
    "# Precinct-wise Time Series Forecasts"
   ]
  },
  {
   "cell_type": "code",
   "execution_count": 8,
   "metadata": {},
   "outputs": [],
   "source": [
    "import pandas as pd\n",
    "import matplotlib as mpl\n",
    "import matplotlib.pyplot as plt\n",
    "import prophet\n",
    "import numpy as np\n",
    "import pmdarima as pm\n",
    "from sklearn.metrics import mean_squared_error"
   ]
  },
  {
   "cell_type": "markdown",
   "metadata": {},
   "source": [
    "### Reading Data"
   ]
  },
  {
   "cell_type": "code",
   "execution_count": 9,
   "metadata": {},
   "outputs": [],
   "source": [
    "# Due to it being in pieces, we'll first make a final dataset called `final_df`, \n",
    "# then we'll sum all `counts` over each month!\n",
    "\n",
    "years = [i for i in range(2014,2024)]\n",
    "dfs = []\n",
    "\n",
    "for year in years:\n",
    "    dfs.append(pd.read_csv(f\"../../data/time_series/cleaned/TS_{year}.csv\"))\n",
    "    dfs[-1]['Issue Date'] = pd.to_datetime(dfs[-1]['Issue Date'])"
   ]
  },
  {
   "cell_type": "code",
   "execution_count": 10,
   "metadata": {},
   "outputs": [],
   "source": [
    "final_df0 = pd.concat(dfs, axis=0)\n",
    "final_df0 = final_df0.reset_index(drop = True)"
   ]
  },
  {
   "cell_type": "code",
   "execution_count": 11,
   "metadata": {},
   "outputs": [],
   "source": [
    "# remove jan 2015 spike and covid dip (mar-july 2020)\n",
    "final_df0 = final_df0.drop(final_df0[(final_df0['Issue Date'] >= '2015-01-01') & (final_df0['Issue Date'] <= '2015-02-01')].index)\n",
    "final_df0 = final_df0.drop(final_df0[(final_df0['Issue Date'] >= '2020-03-01') & (final_df0['Issue Date'] <= '2020-07-01')].index)"
   ]
  },
  {
   "cell_type": "code",
   "execution_count": 12,
   "metadata": {},
   "outputs": [
    {
     "data": {
      "text/html": [
       "<div>\n",
       "<style scoped>\n",
       "    .dataframe tbody tr th:only-of-type {\n",
       "        vertical-align: middle;\n",
       "    }\n",
       "\n",
       "    .dataframe tbody tr th {\n",
       "        vertical-align: top;\n",
       "    }\n",
       "\n",
       "    .dataframe thead th {\n",
       "        text-align: right;\n",
       "    }\n",
       "</style>\n",
       "<table border=\"1\" class=\"dataframe\">\n",
       "  <thead>\n",
       "    <tr style=\"text-align: right;\">\n",
       "      <th></th>\n",
       "      <th>Issue Date</th>\n",
       "      <th>Violation Precinct</th>\n",
       "      <th>Counts</th>\n",
       "    </tr>\n",
       "  </thead>\n",
       "  <tbody>\n",
       "    <tr>\n",
       "      <th>0</th>\n",
       "      <td>2013-07-02</td>\n",
       "      <td>1</td>\n",
       "      <td>0</td>\n",
       "    </tr>\n",
       "    <tr>\n",
       "      <th>1</th>\n",
       "      <td>2013-07-02</td>\n",
       "      <td>5</td>\n",
       "      <td>0</td>\n",
       "    </tr>\n",
       "    <tr>\n",
       "      <th>2</th>\n",
       "      <td>2013-07-02</td>\n",
       "      <td>6</td>\n",
       "      <td>0</td>\n",
       "    </tr>\n",
       "    <tr>\n",
       "      <th>3</th>\n",
       "      <td>2013-07-02</td>\n",
       "      <td>7</td>\n",
       "      <td>0</td>\n",
       "    </tr>\n",
       "    <tr>\n",
       "      <th>4</th>\n",
       "      <td>2013-07-02</td>\n",
       "      <td>9</td>\n",
       "      <td>0</td>\n",
       "    </tr>\n",
       "    <tr>\n",
       "      <th>...</th>\n",
       "      <td>...</td>\n",
       "      <td>...</td>\n",
       "      <td>...</td>\n",
       "    </tr>\n",
       "    <tr>\n",
       "      <th>279120</th>\n",
       "      <td>2023-06-30</td>\n",
       "      <td>115</td>\n",
       "      <td>8</td>\n",
       "    </tr>\n",
       "    <tr>\n",
       "      <th>279121</th>\n",
       "      <td>2023-06-30</td>\n",
       "      <td>120</td>\n",
       "      <td>1</td>\n",
       "    </tr>\n",
       "    <tr>\n",
       "      <th>279122</th>\n",
       "      <td>2023-06-30</td>\n",
       "      <td>121</td>\n",
       "      <td>0</td>\n",
       "    </tr>\n",
       "    <tr>\n",
       "      <th>279123</th>\n",
       "      <td>2023-06-30</td>\n",
       "      <td>122</td>\n",
       "      <td>1</td>\n",
       "    </tr>\n",
       "    <tr>\n",
       "      <th>279124</th>\n",
       "      <td>2023-06-30</td>\n",
       "      <td>123</td>\n",
       "      <td>0</td>\n",
       "    </tr>\n",
       "  </tbody>\n",
       "</table>\n",
       "<p>267575 rows × 3 columns</p>\n",
       "</div>"
      ],
      "text/plain": [
       "       Issue Date  Violation Precinct  Counts\n",
       "0      2013-07-02                   1       0\n",
       "1      2013-07-02                   5       0\n",
       "2      2013-07-02                   6       0\n",
       "3      2013-07-02                   7       0\n",
       "4      2013-07-02                   9       0\n",
       "...           ...                 ...     ...\n",
       "279120 2023-06-30                 115       8\n",
       "279121 2023-06-30                 120       1\n",
       "279122 2023-06-30                 121       0\n",
       "279123 2023-06-30                 122       1\n",
       "279124 2023-06-30                 123       0\n",
       "\n",
       "[267575 rows x 3 columns]"
      ]
     },
     "metadata": {},
     "output_type": "display_data"
    }
   ],
   "source": [
    "display(final_df0)"
   ]
  },
  {
   "cell_type": "code",
   "execution_count": 13,
   "metadata": {},
   "outputs": [],
   "source": [
    "precinct_list = precinct_list = [1, 5, 6, 7, 9, 10, 13, 14, 17, 18, 19, \n",
    "                                 20, 22, 23, 24, 25, 26, 28, 30, 32, 33, \n",
    "                                 34, 40, 41, 42, 43, 44, 45, 46, 47, 48, \n",
    "                                 49, 50, 52, 60, 61, 62, 63, 66, 67, 68, \n",
    "                                 69, 70, 71, 72, 76, 78, 73, 75, 77, 79, \n",
    "                                 81, 83, 84, 88, 90, 94, 100, 101, 102, \n",
    "                                 103, 105, 106, 107, 113, 104, 108, 109, \n",
    "                                 110, 111, 112, 114, 115, 120, 121, 122, \n",
    "                                 123]"
   ]
  },
  {
   "cell_type": "markdown",
   "metadata": {},
   "source": [
    "### Repeat time series forecasting from \"Prediction Values Part 2\" for each precinct"
   ]
  },
  {
   "cell_type": "code",
   "execution_count": 14,
   "metadata": {},
   "outputs": [
    {
     "name": "stdout",
     "output_type": "stream",
     "text": [
      "Starting precinct 1.\n"
     ]
    },
    {
     "name": "stderr",
     "output_type": "stream",
     "text": [
      "15:36:02 - cmdstanpy - INFO - Chain [1] start processing\n",
      "15:36:02 - cmdstanpy - INFO - Chain [1] done processing\n"
     ]
    },
    {
     "name": "stdout",
     "output_type": "stream",
     "text": [
      "Test RMSE: 65.790\n",
      "Test RMSE: 54.339\n"
     ]
    },
    {
     "name": "stderr",
     "output_type": "stream",
     "text": [
      "15:36:03 - cmdstanpy - INFO - Chain [1] start processing\n",
      "15:36:03 - cmdstanpy - INFO - Chain [1] done processing\n"
     ]
    },
    {
     "name": "stdout",
     "output_type": "stream",
     "text": [
      "Finished precinct 1.\n",
      "Starting precinct 5.\n"
     ]
    },
    {
     "name": "stderr",
     "output_type": "stream",
     "text": [
      "15:36:03 - cmdstanpy - INFO - Chain [1] start processing\n",
      "15:36:03 - cmdstanpy - INFO - Chain [1] done processing\n"
     ]
    },
    {
     "name": "stdout",
     "output_type": "stream",
     "text": [
      "Test RMSE: 31.026\n",
      "Test RMSE: 36.308\n"
     ]
    },
    {
     "name": "stderr",
     "output_type": "stream",
     "text": [
      "15:36:04 - cmdstanpy - INFO - Chain [1] start processing\n",
      "15:36:04 - cmdstanpy - INFO - Chain [1] done processing\n"
     ]
    },
    {
     "name": "stdout",
     "output_type": "stream",
     "text": [
      "Finished precinct 5.\n",
      "Starting precinct 6.\n"
     ]
    },
    {
     "name": "stderr",
     "output_type": "stream",
     "text": [
      "15:36:04 - cmdstanpy - INFO - Chain [1] start processing\n",
      "15:36:04 - cmdstanpy - INFO - Chain [1] done processing\n"
     ]
    },
    {
     "name": "stdout",
     "output_type": "stream",
     "text": [
      "Test RMSE: 71.330\n",
      "Test RMSE: 121.925\n"
     ]
    },
    {
     "name": "stderr",
     "output_type": "stream",
     "text": [
      "15:36:07 - cmdstanpy - INFO - Chain [1] start processing\n",
      "15:36:07 - cmdstanpy - INFO - Chain [1] done processing\n"
     ]
    },
    {
     "name": "stdout",
     "output_type": "stream",
     "text": [
      "Finished precinct 6.\n",
      "Starting precinct 7.\n"
     ]
    },
    {
     "name": "stderr",
     "output_type": "stream",
     "text": [
      "15:36:08 - cmdstanpy - INFO - Chain [1] start processing\n",
      "15:36:08 - cmdstanpy - INFO - Chain [1] done processing\n"
     ]
    },
    {
     "name": "stdout",
     "output_type": "stream",
     "text": [
      "Test RMSE: 13.340\n",
      "Test RMSE: 15.873\n"
     ]
    },
    {
     "name": "stderr",
     "output_type": "stream",
     "text": [
      "15:36:08 - cmdstanpy - INFO - Chain [1] start processing\n",
      "15:36:08 - cmdstanpy - INFO - Chain [1] done processing\n"
     ]
    },
    {
     "name": "stdout",
     "output_type": "stream",
     "text": [
      "Finished precinct 7.\n",
      "Starting precinct 9.\n"
     ]
    },
    {
     "name": "stderr",
     "output_type": "stream",
     "text": [
      "15:36:09 - cmdstanpy - INFO - Chain [1] start processing\n",
      "15:36:09 - cmdstanpy - INFO - Chain [1] done processing\n"
     ]
    },
    {
     "name": "stdout",
     "output_type": "stream",
     "text": [
      "Test RMSE: 89.026\n",
      "Test RMSE: 77.932\n"
     ]
    },
    {
     "name": "stderr",
     "output_type": "stream",
     "text": [
      "15:36:11 - cmdstanpy - INFO - Chain [1] start processing\n",
      "15:36:11 - cmdstanpy - INFO - Chain [1] done processing\n"
     ]
    },
    {
     "name": "stdout",
     "output_type": "stream",
     "text": [
      "Finished precinct 9.\n",
      "Starting precinct 10.\n"
     ]
    },
    {
     "name": "stderr",
     "output_type": "stream",
     "text": [
      "15:36:11 - cmdstanpy - INFO - Chain [1] start processing\n",
      "15:36:11 - cmdstanpy - INFO - Chain [1] done processing\n"
     ]
    },
    {
     "name": "stdout",
     "output_type": "stream",
     "text": [
      "Test RMSE: 25.518\n",
      "Test RMSE: 21.695\n"
     ]
    },
    {
     "name": "stderr",
     "output_type": "stream",
     "text": [
      "15:36:12 - cmdstanpy - INFO - Chain [1] start processing\n",
      "15:36:12 - cmdstanpy - INFO - Chain [1] done processing\n"
     ]
    },
    {
     "name": "stdout",
     "output_type": "stream",
     "text": [
      "Finished precinct 10.\n",
      "Starting precinct 13.\n"
     ]
    },
    {
     "name": "stderr",
     "output_type": "stream",
     "text": [
      "15:36:12 - cmdstanpy - INFO - Chain [1] start processing\n",
      "15:36:12 - cmdstanpy - INFO - Chain [1] done processing\n"
     ]
    },
    {
     "name": "stdout",
     "output_type": "stream",
     "text": [
      "Test RMSE: 83.223\n",
      "Test RMSE: 66.061\n"
     ]
    },
    {
     "name": "stderr",
     "output_type": "stream",
     "text": [
      "15:36:13 - cmdstanpy - INFO - Chain [1] start processing\n",
      "15:36:13 - cmdstanpy - INFO - Chain [1] done processing\n"
     ]
    },
    {
     "name": "stdout",
     "output_type": "stream",
     "text": [
      "Finished precinct 13.\n",
      "Starting precinct 14.\n"
     ]
    },
    {
     "name": "stderr",
     "output_type": "stream",
     "text": [
      "15:36:13 - cmdstanpy - INFO - Chain [1] start processing\n",
      "15:36:13 - cmdstanpy - INFO - Chain [1] done processing\n"
     ]
    },
    {
     "name": "stdout",
     "output_type": "stream",
     "text": [
      "Test RMSE: 68.949\n",
      "Test RMSE: 50.262\n"
     ]
    },
    {
     "name": "stderr",
     "output_type": "stream",
     "text": [
      "15:36:14 - cmdstanpy - INFO - Chain [1] start processing\n",
      "15:36:14 - cmdstanpy - INFO - Chain [1] done processing\n"
     ]
    },
    {
     "name": "stdout",
     "output_type": "stream",
     "text": [
      "Finished precinct 14.\n",
      "Starting precinct 17.\n"
     ]
    },
    {
     "name": "stderr",
     "output_type": "stream",
     "text": [
      "15:36:14 - cmdstanpy - INFO - Chain [1] start processing\n",
      "15:36:14 - cmdstanpy - INFO - Chain [1] done processing\n"
     ]
    },
    {
     "name": "stdout",
     "output_type": "stream",
     "text": [
      "Test RMSE: 46.241\n",
      "Test RMSE: 20.730\n"
     ]
    },
    {
     "name": "stderr",
     "output_type": "stream",
     "text": [
      "15:36:15 - cmdstanpy - INFO - Chain [1] start processing\n",
      "15:36:15 - cmdstanpy - INFO - Chain [1] done processing\n"
     ]
    },
    {
     "name": "stdout",
     "output_type": "stream",
     "text": [
      "Finished precinct 17.\n",
      "Starting precinct 18.\n"
     ]
    },
    {
     "name": "stderr",
     "output_type": "stream",
     "text": [
      "15:36:16 - cmdstanpy - INFO - Chain [1] start processing\n",
      "15:36:16 - cmdstanpy - INFO - Chain [1] done processing\n"
     ]
    },
    {
     "name": "stdout",
     "output_type": "stream",
     "text": [
      "Test RMSE: 75.588\n",
      "Test RMSE: 48.572\n"
     ]
    },
    {
     "name": "stderr",
     "output_type": "stream",
     "text": [
      "15:36:17 - cmdstanpy - INFO - Chain [1] start processing\n",
      "15:36:17 - cmdstanpy - INFO - Chain [1] done processing\n"
     ]
    },
    {
     "name": "stdout",
     "output_type": "stream",
     "text": [
      "Finished precinct 18.\n",
      "Starting precinct 19.\n"
     ]
    },
    {
     "name": "stderr",
     "output_type": "stream",
     "text": [
      "15:36:17 - cmdstanpy - INFO - Chain [1] start processing\n",
      "15:36:17 - cmdstanpy - INFO - Chain [1] done processing\n"
     ]
    },
    {
     "name": "stdout",
     "output_type": "stream",
     "text": [
      "Test RMSE: 51.624\n",
      "Test RMSE: 70.497\n"
     ]
    },
    {
     "name": "stderr",
     "output_type": "stream",
     "text": [
      "15:36:17 - cmdstanpy - INFO - Chain [1] start processing\n",
      "15:36:17 - cmdstanpy - INFO - Chain [1] done processing\n"
     ]
    },
    {
     "name": "stdout",
     "output_type": "stream",
     "text": [
      "Finished precinct 19.\n",
      "Starting precinct 20.\n"
     ]
    },
    {
     "name": "stderr",
     "output_type": "stream",
     "text": [
      "15:36:18 - cmdstanpy - INFO - Chain [1] start processing\n",
      "15:36:18 - cmdstanpy - INFO - Chain [1] done processing\n"
     ]
    },
    {
     "name": "stdout",
     "output_type": "stream",
     "text": [
      "Test RMSE: 28.175\n",
      "Test RMSE: 35.501\n"
     ]
    },
    {
     "name": "stderr",
     "output_type": "stream",
     "text": [
      "15:36:18 - cmdstanpy - INFO - Chain [1] start processing\n",
      "15:36:18 - cmdstanpy - INFO - Chain [1] done processing\n"
     ]
    },
    {
     "name": "stdout",
     "output_type": "stream",
     "text": [
      "Finished precinct 20.\n",
      "Starting precinct 22.\n"
     ]
    },
    {
     "name": "stderr",
     "output_type": "stream",
     "text": [
      "15:36:19 - cmdstanpy - INFO - Chain [1] start processing\n",
      "15:36:19 - cmdstanpy - INFO - Chain [1] done processing\n"
     ]
    },
    {
     "name": "stdout",
     "output_type": "stream",
     "text": [
      "Test RMSE: 0.495\n",
      "Test RMSE: 0.518\n"
     ]
    },
    {
     "name": "stderr",
     "output_type": "stream",
     "text": [
      "15:36:20 - cmdstanpy - INFO - Chain [1] start processing\n",
      "15:36:20 - cmdstanpy - INFO - Chain [1] done processing\n"
     ]
    },
    {
     "name": "stdout",
     "output_type": "stream",
     "text": [
      "Finished precinct 22.\n",
      "Starting precinct 23.\n"
     ]
    },
    {
     "name": "stderr",
     "output_type": "stream",
     "text": [
      "15:36:20 - cmdstanpy - INFO - Chain [1] start processing\n",
      "15:36:20 - cmdstanpy - INFO - Chain [1] done processing\n"
     ]
    },
    {
     "name": "stdout",
     "output_type": "stream",
     "text": [
      "Test RMSE: 17.443\n",
      "Test RMSE: 16.475\n"
     ]
    },
    {
     "name": "stderr",
     "output_type": "stream",
     "text": [
      "15:36:21 - cmdstanpy - INFO - Chain [1] start processing\n",
      "15:36:21 - cmdstanpy - INFO - Chain [1] done processing\n"
     ]
    },
    {
     "name": "stdout",
     "output_type": "stream",
     "text": [
      "Finished precinct 23.\n",
      "Starting precinct 24.\n"
     ]
    },
    {
     "name": "stderr",
     "output_type": "stream",
     "text": [
      "15:36:21 - cmdstanpy - INFO - Chain [1] start processing\n",
      "15:36:21 - cmdstanpy - INFO - Chain [1] done processing\n"
     ]
    },
    {
     "name": "stdout",
     "output_type": "stream",
     "text": [
      "Test RMSE: 21.636\n",
      "Test RMSE: 20.943\n"
     ]
    },
    {
     "name": "stderr",
     "output_type": "stream",
     "text": [
      "15:36:23 - cmdstanpy - INFO - Chain [1] start processing\n",
      "15:36:23 - cmdstanpy - INFO - Chain [1] done processing\n"
     ]
    },
    {
     "name": "stdout",
     "output_type": "stream",
     "text": [
      "Finished precinct 24.\n",
      "Starting precinct 25.\n"
     ]
    },
    {
     "name": "stderr",
     "output_type": "stream",
     "text": [
      "15:36:25 - cmdstanpy - INFO - Chain [1] start processing\n",
      "15:36:25 - cmdstanpy - INFO - Chain [1] done processing\n"
     ]
    },
    {
     "name": "stdout",
     "output_type": "stream",
     "text": [
      "Test RMSE: 11.872\n",
      "Test RMSE: 13.842\n"
     ]
    },
    {
     "name": "stderr",
     "output_type": "stream",
     "text": [
      "15:36:26 - cmdstanpy - INFO - Chain [1] start processing\n",
      "15:36:26 - cmdstanpy - INFO - Chain [1] done processing\n"
     ]
    },
    {
     "name": "stdout",
     "output_type": "stream",
     "text": [
      "Finished precinct 25.\n",
      "Starting precinct 26.\n"
     ]
    },
    {
     "name": "stderr",
     "output_type": "stream",
     "text": [
      "15:36:26 - cmdstanpy - INFO - Chain [1] start processing\n",
      "15:36:26 - cmdstanpy - INFO - Chain [1] done processing\n"
     ]
    },
    {
     "name": "stdout",
     "output_type": "stream",
     "text": [
      "Test RMSE: 8.865\n",
      "Test RMSE: 10.341\n"
     ]
    },
    {
     "name": "stderr",
     "output_type": "stream",
     "text": [
      "15:36:26 - cmdstanpy - INFO - Chain [1] start processing\n",
      "15:36:26 - cmdstanpy - INFO - Chain [1] done processing\n"
     ]
    },
    {
     "name": "stdout",
     "output_type": "stream",
     "text": [
      "Finished precinct 26.\n",
      "Starting precinct 28.\n"
     ]
    },
    {
     "name": "stderr",
     "output_type": "stream",
     "text": [
      "15:36:28 - cmdstanpy - INFO - Chain [1] start processing\n",
      "15:36:28 - cmdstanpy - INFO - Chain [1] done processing\n"
     ]
    },
    {
     "name": "stdout",
     "output_type": "stream",
     "text": [
      "Test RMSE: 15.216\n",
      "Test RMSE: 15.536\n"
     ]
    },
    {
     "name": "stderr",
     "output_type": "stream",
     "text": [
      "15:36:29 - cmdstanpy - INFO - Chain [1] start processing\n",
      "15:36:29 - cmdstanpy - INFO - Chain [1] done processing\n"
     ]
    },
    {
     "name": "stdout",
     "output_type": "stream",
     "text": [
      "Finished precinct 28.\n",
      "Starting precinct 30.\n"
     ]
    },
    {
     "name": "stderr",
     "output_type": "stream",
     "text": [
      "15:36:29 - cmdstanpy - INFO - Chain [1] start processing\n",
      "15:36:29 - cmdstanpy - INFO - Chain [1] done processing\n"
     ]
    },
    {
     "name": "stdout",
     "output_type": "stream",
     "text": [
      "Test RMSE: 6.807\n",
      "Test RMSE: 7.195\n"
     ]
    },
    {
     "name": "stderr",
     "output_type": "stream",
     "text": [
      "15:36:30 - cmdstanpy - INFO - Chain [1] start processing\n",
      "15:36:30 - cmdstanpy - INFO - Chain [1] done processing\n"
     ]
    },
    {
     "name": "stdout",
     "output_type": "stream",
     "text": [
      "Finished precinct 30.\n",
      "Starting precinct 32.\n"
     ]
    },
    {
     "name": "stderr",
     "output_type": "stream",
     "text": [
      "15:36:31 - cmdstanpy - INFO - Chain [1] start processing\n",
      "15:36:31 - cmdstanpy - INFO - Chain [1] done processing\n"
     ]
    },
    {
     "name": "stdout",
     "output_type": "stream",
     "text": [
      "Test RMSE: 13.856\n",
      "Test RMSE: 13.426\n"
     ]
    },
    {
     "name": "stderr",
     "output_type": "stream",
     "text": [
      "15:36:33 - cmdstanpy - INFO - Chain [1] start processing\n",
      "15:36:33 - cmdstanpy - INFO - Chain [1] done processing\n"
     ]
    },
    {
     "name": "stdout",
     "output_type": "stream",
     "text": [
      "Finished precinct 32.\n",
      "Starting precinct 33.\n"
     ]
    },
    {
     "name": "stderr",
     "output_type": "stream",
     "text": [
      "15:36:34 - cmdstanpy - INFO - Chain [1] start processing\n",
      "15:36:34 - cmdstanpy - INFO - Chain [1] done processing\n"
     ]
    },
    {
     "name": "stdout",
     "output_type": "stream",
     "text": [
      "Test RMSE: 14.575\n",
      "Test RMSE: 13.366\n"
     ]
    },
    {
     "name": "stderr",
     "output_type": "stream",
     "text": [
      "15:36:34 - cmdstanpy - INFO - Chain [1] start processing\n",
      "15:36:34 - cmdstanpy - INFO - Chain [1] done processing\n"
     ]
    },
    {
     "name": "stdout",
     "output_type": "stream",
     "text": [
      "Finished precinct 33.\n",
      "Starting precinct 34.\n"
     ]
    },
    {
     "name": "stderr",
     "output_type": "stream",
     "text": [
      "15:36:35 - cmdstanpy - INFO - Chain [1] start processing\n",
      "15:36:35 - cmdstanpy - INFO - Chain [1] done processing\n"
     ]
    },
    {
     "name": "stdout",
     "output_type": "stream",
     "text": [
      "Test RMSE: 17.712\n",
      "Test RMSE: 17.903\n"
     ]
    },
    {
     "name": "stderr",
     "output_type": "stream",
     "text": [
      "15:36:36 - cmdstanpy - INFO - Chain [1] start processing\n",
      "15:36:36 - cmdstanpy - INFO - Chain [1] done processing\n"
     ]
    },
    {
     "name": "stdout",
     "output_type": "stream",
     "text": [
      "Finished precinct 34.\n",
      "Starting precinct 40.\n"
     ]
    },
    {
     "name": "stderr",
     "output_type": "stream",
     "text": [
      "15:36:37 - cmdstanpy - INFO - Chain [1] start processing\n",
      "15:36:37 - cmdstanpy - INFO - Chain [1] done processing\n"
     ]
    },
    {
     "name": "stdout",
     "output_type": "stream",
     "text": [
      "Test RMSE: 34.019\n",
      "Test RMSE: 25.176\n"
     ]
    },
    {
     "name": "stderr",
     "output_type": "stream",
     "text": [
      "15:36:39 - cmdstanpy - INFO - Chain [1] start processing\n",
      "15:36:39 - cmdstanpy - INFO - Chain [1] done processing\n"
     ]
    },
    {
     "name": "stdout",
     "output_type": "stream",
     "text": [
      "Finished precinct 40.\n",
      "Starting precinct 41.\n"
     ]
    },
    {
     "name": "stderr",
     "output_type": "stream",
     "text": [
      "15:36:39 - cmdstanpy - INFO - Chain [1] start processing\n",
      "15:36:39 - cmdstanpy - INFO - Chain [1] done processing\n"
     ]
    },
    {
     "name": "stdout",
     "output_type": "stream",
     "text": [
      "Test RMSE: 17.446\n",
      "Test RMSE: 14.910\n"
     ]
    },
    {
     "name": "stderr",
     "output_type": "stream",
     "text": [
      "15:36:40 - cmdstanpy - INFO - Chain [1] start processing\n",
      "15:36:40 - cmdstanpy - INFO - Chain [1] done processing\n"
     ]
    },
    {
     "name": "stdout",
     "output_type": "stream",
     "text": [
      "Finished precinct 41.\n",
      "Starting precinct 42.\n"
     ]
    },
    {
     "name": "stderr",
     "output_type": "stream",
     "text": [
      "15:36:40 - cmdstanpy - INFO - Chain [1] start processing\n",
      "15:36:40 - cmdstanpy - INFO - Chain [1] done processing\n"
     ]
    },
    {
     "name": "stdout",
     "output_type": "stream",
     "text": [
      "Test RMSE: 10.999\n",
      "Test RMSE: 12.673\n"
     ]
    },
    {
     "name": "stderr",
     "output_type": "stream",
     "text": [
      "15:36:42 - cmdstanpy - INFO - Chain [1] start processing\n",
      "15:36:42 - cmdstanpy - INFO - Chain [1] done processing\n"
     ]
    },
    {
     "name": "stdout",
     "output_type": "stream",
     "text": [
      "Finished precinct 42.\n",
      "Starting precinct 43.\n"
     ]
    },
    {
     "name": "stderr",
     "output_type": "stream",
     "text": [
      "15:36:43 - cmdstanpy - INFO - Chain [1] start processing\n",
      "15:36:43 - cmdstanpy - INFO - Chain [1] done processing\n"
     ]
    },
    {
     "name": "stdout",
     "output_type": "stream",
     "text": [
      "Test RMSE: 24.704\n",
      "Test RMSE: 16.624\n"
     ]
    },
    {
     "name": "stderr",
     "output_type": "stream",
     "text": [
      "15:36:44 - cmdstanpy - INFO - Chain [1] start processing\n",
      "15:36:44 - cmdstanpy - INFO - Chain [1] done processing\n"
     ]
    },
    {
     "name": "stdout",
     "output_type": "stream",
     "text": [
      "Finished precinct 43.\n",
      "Starting precinct 44.\n"
     ]
    },
    {
     "name": "stderr",
     "output_type": "stream",
     "text": [
      "15:36:44 - cmdstanpy - INFO - Chain [1] start processing\n",
      "15:36:44 - cmdstanpy - INFO - Chain [1] done processing\n"
     ]
    },
    {
     "name": "stdout",
     "output_type": "stream",
     "text": [
      "Test RMSE: 24.326\n",
      "Test RMSE: 12.417\n"
     ]
    },
    {
     "name": "stderr",
     "output_type": "stream",
     "text": [
      "15:36:46 - cmdstanpy - INFO - Chain [1] start processing\n",
      "15:36:46 - cmdstanpy - INFO - Chain [1] done processing\n"
     ]
    },
    {
     "name": "stdout",
     "output_type": "stream",
     "text": [
      "Finished precinct 44.\n",
      "Starting precinct 45.\n"
     ]
    },
    {
     "name": "stderr",
     "output_type": "stream",
     "text": [
      "15:36:46 - cmdstanpy - INFO - Chain [1] start processing\n",
      "15:36:46 - cmdstanpy - INFO - Chain [1] done processing\n"
     ]
    },
    {
     "name": "stdout",
     "output_type": "stream",
     "text": [
      "Test RMSE: 14.524\n",
      "Test RMSE: 11.901\n"
     ]
    },
    {
     "name": "stderr",
     "output_type": "stream",
     "text": [
      "15:36:47 - cmdstanpy - INFO - Chain [1] start processing\n",
      "15:36:47 - cmdstanpy - INFO - Chain [1] done processing\n"
     ]
    },
    {
     "name": "stdout",
     "output_type": "stream",
     "text": [
      "Finished precinct 45.\n",
      "Starting precinct 46.\n"
     ]
    },
    {
     "name": "stderr",
     "output_type": "stream",
     "text": [
      "15:36:49 - cmdstanpy - INFO - Chain [1] start processing\n",
      "15:36:49 - cmdstanpy - INFO - Chain [1] done processing\n"
     ]
    },
    {
     "name": "stdout",
     "output_type": "stream",
     "text": [
      "Test RMSE: 23.756\n",
      "Test RMSE: 24.812\n"
     ]
    },
    {
     "name": "stderr",
     "output_type": "stream",
     "text": [
      "15:36:51 - cmdstanpy - INFO - Chain [1] start processing\n",
      "15:36:51 - cmdstanpy - INFO - Chain [1] done processing\n"
     ]
    },
    {
     "name": "stdout",
     "output_type": "stream",
     "text": [
      "Finished precinct 46.\n",
      "Starting precinct 47.\n"
     ]
    },
    {
     "name": "stderr",
     "output_type": "stream",
     "text": [
      "15:36:52 - cmdstanpy - INFO - Chain [1] start processing\n",
      "15:36:52 - cmdstanpy - INFO - Chain [1] done processing\n"
     ]
    },
    {
     "name": "stdout",
     "output_type": "stream",
     "text": [
      "Test RMSE: 16.548\n",
      "Test RMSE: 18.913\n"
     ]
    },
    {
     "name": "stderr",
     "output_type": "stream",
     "text": [
      "15:36:53 - cmdstanpy - INFO - Chain [1] start processing\n",
      "15:36:53 - cmdstanpy - INFO - Chain [1] done processing\n"
     ]
    },
    {
     "name": "stdout",
     "output_type": "stream",
     "text": [
      "Finished precinct 47.\n",
      "Starting precinct 48.\n"
     ]
    },
    {
     "name": "stderr",
     "output_type": "stream",
     "text": [
      "15:36:55 - cmdstanpy - INFO - Chain [1] start processing\n",
      "15:36:55 - cmdstanpy - INFO - Chain [1] done processing\n"
     ]
    },
    {
     "name": "stdout",
     "output_type": "stream",
     "text": [
      "Test RMSE: 22.398\n",
      "Test RMSE: 33.233\n"
     ]
    },
    {
     "name": "stderr",
     "output_type": "stream",
     "text": [
      "15:36:56 - cmdstanpy - INFO - Chain [1] start processing\n",
      "15:36:56 - cmdstanpy - INFO - Chain [1] done processing\n"
     ]
    },
    {
     "name": "stdout",
     "output_type": "stream",
     "text": [
      "Finished precinct 48.\n",
      "Starting precinct 49.\n"
     ]
    },
    {
     "name": "stderr",
     "output_type": "stream",
     "text": [
      "15:36:57 - cmdstanpy - INFO - Chain [1] start processing\n",
      "15:36:57 - cmdstanpy - INFO - Chain [1] done processing\n"
     ]
    },
    {
     "name": "stdout",
     "output_type": "stream",
     "text": [
      "Test RMSE: 17.092\n",
      "Test RMSE: 15.615\n"
     ]
    },
    {
     "name": "stderr",
     "output_type": "stream",
     "text": [
      "15:36:58 - cmdstanpy - INFO - Chain [1] start processing\n",
      "15:36:58 - cmdstanpy - INFO - Chain [1] done processing\n"
     ]
    },
    {
     "name": "stdout",
     "output_type": "stream",
     "text": [
      "Finished precinct 49.\n",
      "Starting precinct 50.\n"
     ]
    },
    {
     "name": "stderr",
     "output_type": "stream",
     "text": [
      "15:36:58 - cmdstanpy - INFO - Chain [1] start processing\n",
      "15:36:58 - cmdstanpy - INFO - Chain [1] done processing\n"
     ]
    },
    {
     "name": "stdout",
     "output_type": "stream",
     "text": [
      "Test RMSE: 12.552\n",
      "Test RMSE: 12.185\n"
     ]
    },
    {
     "name": "stderr",
     "output_type": "stream",
     "text": [
      "15:36:59 - cmdstanpy - INFO - Chain [1] start processing\n",
      "15:36:59 - cmdstanpy - INFO - Chain [1] done processing\n"
     ]
    },
    {
     "name": "stdout",
     "output_type": "stream",
     "text": [
      "Finished precinct 50.\n",
      "Starting precinct 52.\n"
     ]
    },
    {
     "name": "stderr",
     "output_type": "stream",
     "text": [
      "15:36:59 - cmdstanpy - INFO - Chain [1] start processing\n",
      "15:36:59 - cmdstanpy - INFO - Chain [1] done processing\n"
     ]
    },
    {
     "name": "stdout",
     "output_type": "stream",
     "text": [
      "Test RMSE: 25.022\n",
      "Test RMSE: 18.276\n"
     ]
    },
    {
     "name": "stderr",
     "output_type": "stream",
     "text": [
      "15:37:00 - cmdstanpy - INFO - Chain [1] start processing\n",
      "15:37:00 - cmdstanpy - INFO - Chain [1] done processing\n"
     ]
    },
    {
     "name": "stdout",
     "output_type": "stream",
     "text": [
      "Finished precinct 52.\n",
      "Starting precinct 60.\n"
     ]
    },
    {
     "name": "stderr",
     "output_type": "stream",
     "text": [
      "15:37:01 - cmdstanpy - INFO - Chain [1] start processing\n",
      "15:37:01 - cmdstanpy - INFO - Chain [1] done processing\n"
     ]
    },
    {
     "name": "stdout",
     "output_type": "stream",
     "text": [
      "Test RMSE: 16.602\n",
      "Test RMSE: 14.623\n"
     ]
    },
    {
     "name": "stderr",
     "output_type": "stream",
     "text": [
      "15:37:01 - cmdstanpy - INFO - Chain [1] start processing\n",
      "15:37:01 - cmdstanpy - INFO - Chain [1] done processing\n"
     ]
    },
    {
     "name": "stdout",
     "output_type": "stream",
     "text": [
      "Finished precinct 60.\n",
      "Starting precinct 61.\n"
     ]
    },
    {
     "name": "stderr",
     "output_type": "stream",
     "text": [
      "15:37:03 - cmdstanpy - INFO - Chain [1] start processing\n",
      "15:37:03 - cmdstanpy - INFO - Chain [1] done processing\n"
     ]
    },
    {
     "name": "stdout",
     "output_type": "stream",
     "text": [
      "Test RMSE: 21.817\n",
      "Test RMSE: 32.947\n"
     ]
    },
    {
     "name": "stderr",
     "output_type": "stream",
     "text": [
      "15:37:05 - cmdstanpy - INFO - Chain [1] start processing\n",
      "15:37:05 - cmdstanpy - INFO - Chain [1] done processing\n"
     ]
    },
    {
     "name": "stdout",
     "output_type": "stream",
     "text": [
      "Finished precinct 61.\n",
      "Starting precinct 62.\n"
     ]
    },
    {
     "name": "stderr",
     "output_type": "stream",
     "text": [
      "15:37:05 - cmdstanpy - INFO - Chain [1] start processing\n",
      "15:37:05 - cmdstanpy - INFO - Chain [1] done processing\n"
     ]
    },
    {
     "name": "stdout",
     "output_type": "stream",
     "text": [
      "Test RMSE: 13.381\n",
      "Test RMSE: 17.846\n"
     ]
    },
    {
     "name": "stderr",
     "output_type": "stream",
     "text": [
      "15:37:06 - cmdstanpy - INFO - Chain [1] start processing\n",
      "15:37:06 - cmdstanpy - INFO - Chain [1] done processing\n"
     ]
    },
    {
     "name": "stdout",
     "output_type": "stream",
     "text": [
      "Finished precinct 62.\n",
      "Starting precinct 63.\n"
     ]
    },
    {
     "name": "stderr",
     "output_type": "stream",
     "text": [
      "15:37:06 - cmdstanpy - INFO - Chain [1] start processing\n",
      "15:37:06 - cmdstanpy - INFO - Chain [1] done processing\n"
     ]
    },
    {
     "name": "stdout",
     "output_type": "stream",
     "text": [
      "Test RMSE: 9.703\n",
      "Test RMSE: 11.459\n"
     ]
    },
    {
     "name": "stderr",
     "output_type": "stream",
     "text": [
      "15:37:07 - cmdstanpy - INFO - Chain [1] start processing\n",
      "15:37:07 - cmdstanpy - INFO - Chain [1] done processing\n"
     ]
    },
    {
     "name": "stdout",
     "output_type": "stream",
     "text": [
      "Finished precinct 63.\n",
      "Starting precinct 66.\n"
     ]
    },
    {
     "name": "stderr",
     "output_type": "stream",
     "text": [
      "15:37:07 - cmdstanpy - INFO - Chain [1] start processing\n",
      "15:37:07 - cmdstanpy - INFO - Chain [1] done processing\n"
     ]
    },
    {
     "name": "stdout",
     "output_type": "stream",
     "text": [
      "Test RMSE: 37.559\n",
      "Test RMSE: 37.555\n"
     ]
    },
    {
     "name": "stderr",
     "output_type": "stream",
     "text": [
      "15:37:08 - cmdstanpy - INFO - Chain [1] start processing\n",
      "15:37:08 - cmdstanpy - INFO - Chain [1] done processing\n"
     ]
    },
    {
     "name": "stdout",
     "output_type": "stream",
     "text": [
      "Finished precinct 66.\n",
      "Starting precinct 67.\n"
     ]
    },
    {
     "name": "stderr",
     "output_type": "stream",
     "text": [
      "15:37:09 - cmdstanpy - INFO - Chain [1] start processing\n",
      "15:37:09 - cmdstanpy - INFO - Chain [1] done processing\n"
     ]
    },
    {
     "name": "stdout",
     "output_type": "stream",
     "text": [
      "Test RMSE: 15.519\n",
      "Test RMSE: 13.867\n"
     ]
    },
    {
     "name": "stderr",
     "output_type": "stream",
     "text": [
      "15:37:09 - cmdstanpy - INFO - Chain [1] start processing\n",
      "15:37:10 - cmdstanpy - INFO - Chain [1] done processing\n"
     ]
    },
    {
     "name": "stdout",
     "output_type": "stream",
     "text": [
      "Finished precinct 67.\n",
      "Starting precinct 68.\n"
     ]
    },
    {
     "name": "stderr",
     "output_type": "stream",
     "text": [
      "15:37:11 - cmdstanpy - INFO - Chain [1] start processing\n",
      "15:37:11 - cmdstanpy - INFO - Chain [1] done processing\n"
     ]
    },
    {
     "name": "stdout",
     "output_type": "stream",
     "text": [
      "Test RMSE: 19.848\n",
      "Test RMSE: 13.988\n"
     ]
    },
    {
     "name": "stderr",
     "output_type": "stream",
     "text": [
      "15:37:12 - cmdstanpy - INFO - Chain [1] start processing\n",
      "15:37:12 - cmdstanpy - INFO - Chain [1] done processing\n"
     ]
    },
    {
     "name": "stdout",
     "output_type": "stream",
     "text": [
      "Finished precinct 68.\n",
      "Starting precinct 69.\n"
     ]
    },
    {
     "name": "stderr",
     "output_type": "stream",
     "text": [
      "15:37:13 - cmdstanpy - INFO - Chain [1] start processing\n",
      "15:37:13 - cmdstanpy - INFO - Chain [1] done processing\n"
     ]
    },
    {
     "name": "stdout",
     "output_type": "stream",
     "text": [
      "Test RMSE: 7.052\n",
      "Test RMSE: 9.880\n"
     ]
    },
    {
     "name": "stderr",
     "output_type": "stream",
     "text": [
      "15:37:15 - cmdstanpy - INFO - Chain [1] start processing\n",
      "15:37:15 - cmdstanpy - INFO - Chain [1] done processing\n"
     ]
    },
    {
     "name": "stdout",
     "output_type": "stream",
     "text": [
      "Finished precinct 69.\n",
      "Starting precinct 70.\n"
     ]
    },
    {
     "name": "stderr",
     "output_type": "stream",
     "text": [
      "15:37:16 - cmdstanpy - INFO - Chain [1] start processing\n",
      "15:37:16 - cmdstanpy - INFO - Chain [1] done processing\n"
     ]
    },
    {
     "name": "stdout",
     "output_type": "stream",
     "text": [
      "Test RMSE: 25.009\n",
      "Test RMSE: 18.550\n"
     ]
    },
    {
     "name": "stderr",
     "output_type": "stream",
     "text": [
      "15:37:17 - cmdstanpy - INFO - Chain [1] start processing\n",
      "15:37:17 - cmdstanpy - INFO - Chain [1] done processing\n"
     ]
    },
    {
     "name": "stdout",
     "output_type": "stream",
     "text": [
      "Finished precinct 70.\n",
      "Starting precinct 71.\n"
     ]
    },
    {
     "name": "stderr",
     "output_type": "stream",
     "text": [
      "15:37:17 - cmdstanpy - INFO - Chain [1] start processing\n",
      "15:37:17 - cmdstanpy - INFO - Chain [1] done processing\n"
     ]
    },
    {
     "name": "stdout",
     "output_type": "stream",
     "text": [
      "Test RMSE: 22.193\n",
      "Test RMSE: 22.934\n"
     ]
    },
    {
     "name": "stderr",
     "output_type": "stream",
     "text": [
      "15:37:19 - cmdstanpy - INFO - Chain [1] start processing\n",
      "15:37:19 - cmdstanpy - INFO - Chain [1] done processing\n"
     ]
    },
    {
     "name": "stdout",
     "output_type": "stream",
     "text": [
      "Finished precinct 71.\n",
      "Starting precinct 72.\n"
     ]
    },
    {
     "name": "stderr",
     "output_type": "stream",
     "text": [
      "15:37:19 - cmdstanpy - INFO - Chain [1] start processing\n",
      "15:37:19 - cmdstanpy - INFO - Chain [1] done processing\n"
     ]
    },
    {
     "name": "stdout",
     "output_type": "stream",
     "text": [
      "Test RMSE: 21.737\n",
      "Test RMSE: 15.350\n"
     ]
    },
    {
     "name": "stderr",
     "output_type": "stream",
     "text": [
      "15:37:20 - cmdstanpy - INFO - Chain [1] start processing\n",
      "15:37:20 - cmdstanpy - INFO - Chain [1] done processing\n"
     ]
    },
    {
     "name": "stdout",
     "output_type": "stream",
     "text": [
      "Finished precinct 72.\n",
      "Starting precinct 76.\n"
     ]
    },
    {
     "name": "stderr",
     "output_type": "stream",
     "text": [
      "15:37:20 - cmdstanpy - INFO - Chain [1] start processing\n",
      "15:37:20 - cmdstanpy - INFO - Chain [1] done processing\n"
     ]
    },
    {
     "name": "stdout",
     "output_type": "stream",
     "text": [
      "Test RMSE: 9.158\n",
      "Test RMSE: 9.004\n"
     ]
    },
    {
     "name": "stderr",
     "output_type": "stream",
     "text": [
      "15:37:21 - cmdstanpy - INFO - Chain [1] start processing\n",
      "15:37:21 - cmdstanpy - INFO - Chain [1] done processing\n"
     ]
    },
    {
     "name": "stdout",
     "output_type": "stream",
     "text": [
      "Finished precinct 76.\n",
      "Starting precinct 78.\n"
     ]
    },
    {
     "name": "stderr",
     "output_type": "stream",
     "text": [
      "15:37:21 - cmdstanpy - INFO - Chain [1] start processing\n",
      "15:37:21 - cmdstanpy - INFO - Chain [1] done processing\n"
     ]
    },
    {
     "name": "stdout",
     "output_type": "stream",
     "text": [
      "Test RMSE: 17.112\n",
      "Test RMSE: 19.730\n"
     ]
    },
    {
     "name": "stderr",
     "output_type": "stream",
     "text": [
      "15:37:21 - cmdstanpy - INFO - Chain [1] start processing\n",
      "15:37:21 - cmdstanpy - INFO - Chain [1] done processing\n"
     ]
    },
    {
     "name": "stdout",
     "output_type": "stream",
     "text": [
      "Finished precinct 78.\n",
      "Starting precinct 73.\n"
     ]
    },
    {
     "name": "stderr",
     "output_type": "stream",
     "text": [
      "15:37:22 - cmdstanpy - INFO - Chain [1] start processing\n",
      "15:37:22 - cmdstanpy - INFO - Chain [1] done processing\n"
     ]
    },
    {
     "name": "stdout",
     "output_type": "stream",
     "text": [
      "Test RMSE: 22.981\n",
      "Test RMSE: 18.046\n"
     ]
    },
    {
     "name": "stderr",
     "output_type": "stream",
     "text": [
      "15:37:23 - cmdstanpy - INFO - Chain [1] start processing\n",
      "15:37:23 - cmdstanpy - INFO - Chain [1] done processing\n"
     ]
    },
    {
     "name": "stdout",
     "output_type": "stream",
     "text": [
      "Finished precinct 73.\n",
      "Starting precinct 75.\n"
     ]
    },
    {
     "name": "stderr",
     "output_type": "stream",
     "text": [
      "15:37:25 - cmdstanpy - INFO - Chain [1] start processing\n",
      "15:37:25 - cmdstanpy - INFO - Chain [1] done processing\n"
     ]
    },
    {
     "name": "stdout",
     "output_type": "stream",
     "text": [
      "Test RMSE: 19.160\n",
      "Test RMSE: 22.617\n"
     ]
    },
    {
     "name": "stderr",
     "output_type": "stream",
     "text": [
      "15:37:26 - cmdstanpy - INFO - Chain [1] start processing\n",
      "15:37:26 - cmdstanpy - INFO - Chain [1] done processing\n"
     ]
    },
    {
     "name": "stdout",
     "output_type": "stream",
     "text": [
      "Finished precinct 75.\n",
      "Starting precinct 77.\n"
     ]
    },
    {
     "name": "stderr",
     "output_type": "stream",
     "text": [
      "15:37:27 - cmdstanpy - INFO - Chain [1] start processing\n",
      "15:37:27 - cmdstanpy - INFO - Chain [1] done processing\n"
     ]
    },
    {
     "name": "stdout",
     "output_type": "stream",
     "text": [
      "Test RMSE: 26.756\n",
      "Test RMSE: 25.598\n"
     ]
    },
    {
     "name": "stderr",
     "output_type": "stream",
     "text": [
      "15:37:27 - cmdstanpy - INFO - Chain [1] start processing\n",
      "15:37:27 - cmdstanpy - INFO - Chain [1] done processing\n"
     ]
    },
    {
     "name": "stdout",
     "output_type": "stream",
     "text": [
      "Finished precinct 77.\n",
      "Starting precinct 79.\n"
     ]
    },
    {
     "name": "stderr",
     "output_type": "stream",
     "text": [
      "15:37:28 - cmdstanpy - INFO - Chain [1] start processing\n",
      "15:37:28 - cmdstanpy - INFO - Chain [1] done processing\n"
     ]
    },
    {
     "name": "stdout",
     "output_type": "stream",
     "text": [
      "Test RMSE: 23.095\n",
      "Test RMSE: 21.152\n"
     ]
    },
    {
     "name": "stderr",
     "output_type": "stream",
     "text": [
      "15:37:28 - cmdstanpy - INFO - Chain [1] start processing\n",
      "15:37:28 - cmdstanpy - INFO - Chain [1] done processing\n"
     ]
    },
    {
     "name": "stdout",
     "output_type": "stream",
     "text": [
      "Finished precinct 79.\n",
      "Starting precinct 81.\n"
     ]
    },
    {
     "name": "stderr",
     "output_type": "stream",
     "text": [
      "15:37:29 - cmdstanpy - INFO - Chain [1] start processing\n",
      "15:37:29 - cmdstanpy - INFO - Chain [1] done processing\n"
     ]
    },
    {
     "name": "stdout",
     "output_type": "stream",
     "text": [
      "Test RMSE: 10.490\n",
      "Test RMSE: 7.719\n"
     ]
    },
    {
     "name": "stderr",
     "output_type": "stream",
     "text": [
      "15:37:31 - cmdstanpy - INFO - Chain [1] start processing\n",
      "15:37:31 - cmdstanpy - INFO - Chain [1] done processing\n"
     ]
    },
    {
     "name": "stdout",
     "output_type": "stream",
     "text": [
      "Finished precinct 81.\n",
      "Starting precinct 83.\n"
     ]
    },
    {
     "name": "stderr",
     "output_type": "stream",
     "text": [
      "15:37:31 - cmdstanpy - INFO - Chain [1] start processing\n",
      "15:37:31 - cmdstanpy - INFO - Chain [1] done processing\n"
     ]
    },
    {
     "name": "stdout",
     "output_type": "stream",
     "text": [
      "Test RMSE: 24.505\n",
      "Test RMSE: 21.250\n"
     ]
    },
    {
     "name": "stderr",
     "output_type": "stream",
     "text": [
      "15:37:32 - cmdstanpy - INFO - Chain [1] start processing\n",
      "15:37:32 - cmdstanpy - INFO - Chain [1] done processing\n"
     ]
    },
    {
     "name": "stdout",
     "output_type": "stream",
     "text": [
      "Finished precinct 83.\n",
      "Starting precinct 84.\n"
     ]
    },
    {
     "name": "stderr",
     "output_type": "stream",
     "text": [
      "15:37:33 - cmdstanpy - INFO - Chain [1] start processing\n",
      "15:37:33 - cmdstanpy - INFO - Chain [1] done processing\n"
     ]
    },
    {
     "name": "stdout",
     "output_type": "stream",
     "text": [
      "Test RMSE: 22.563\n",
      "Test RMSE: 27.896\n"
     ]
    },
    {
     "name": "stderr",
     "output_type": "stream",
     "text": [
      "15:37:34 - cmdstanpy - INFO - Chain [1] start processing\n",
      "15:37:34 - cmdstanpy - INFO - Chain [1] done processing\n"
     ]
    },
    {
     "name": "stdout",
     "output_type": "stream",
     "text": [
      "Finished precinct 84.\n",
      "Starting precinct 88.\n"
     ]
    },
    {
     "name": "stderr",
     "output_type": "stream",
     "text": [
      "15:37:34 - cmdstanpy - INFO - Chain [1] start processing\n",
      "15:37:34 - cmdstanpy - INFO - Chain [1] done processing\n"
     ]
    },
    {
     "name": "stdout",
     "output_type": "stream",
     "text": [
      "Test RMSE: 14.659\n",
      "Test RMSE: 15.700\n"
     ]
    },
    {
     "name": "stderr",
     "output_type": "stream",
     "text": [
      "15:37:35 - cmdstanpy - INFO - Chain [1] start processing\n",
      "15:37:35 - cmdstanpy - INFO - Chain [1] done processing\n"
     ]
    },
    {
     "name": "stdout",
     "output_type": "stream",
     "text": [
      "Finished precinct 88.\n",
      "Starting precinct 90.\n"
     ]
    },
    {
     "name": "stderr",
     "output_type": "stream",
     "text": [
      "15:37:35 - cmdstanpy - INFO - Chain [1] start processing\n",
      "15:37:35 - cmdstanpy - INFO - Chain [1] done processing\n"
     ]
    },
    {
     "name": "stdout",
     "output_type": "stream",
     "text": [
      "Test RMSE: 29.887\n",
      "Test RMSE: 25.803\n"
     ]
    },
    {
     "name": "stderr",
     "output_type": "stream",
     "text": [
      "15:37:35 - cmdstanpy - INFO - Chain [1] start processing\n",
      "15:37:35 - cmdstanpy - INFO - Chain [1] done processing\n"
     ]
    },
    {
     "name": "stdout",
     "output_type": "stream",
     "text": [
      "Finished precinct 90.\n",
      "Starting precinct 94.\n"
     ]
    },
    {
     "name": "stderr",
     "output_type": "stream",
     "text": [
      "15:37:36 - cmdstanpy - INFO - Chain [1] start processing\n",
      "15:37:36 - cmdstanpy - INFO - Chain [1] done processing\n"
     ]
    },
    {
     "name": "stdout",
     "output_type": "stream",
     "text": [
      "Test RMSE: 22.424\n",
      "Test RMSE: 17.779\n"
     ]
    },
    {
     "name": "stderr",
     "output_type": "stream",
     "text": [
      "15:37:36 - cmdstanpy - INFO - Chain [1] start processing\n",
      "15:37:36 - cmdstanpy - INFO - Chain [1] done processing\n"
     ]
    },
    {
     "name": "stdout",
     "output_type": "stream",
     "text": [
      "Finished precinct 94.\n",
      "Starting precinct 100.\n"
     ]
    },
    {
     "name": "stderr",
     "output_type": "stream",
     "text": [
      "15:37:39 - cmdstanpy - INFO - Chain [1] start processing\n",
      "15:37:40 - cmdstanpy - INFO - Chain [1] done processing\n"
     ]
    },
    {
     "name": "stdout",
     "output_type": "stream",
     "text": [
      "Test RMSE: 8.602\n",
      "Test RMSE: 4.655\n"
     ]
    },
    {
     "name": "stderr",
     "output_type": "stream",
     "text": [
      "15:37:42 - cmdstanpy - INFO - Chain [1] start processing\n",
      "15:37:42 - cmdstanpy - INFO - Chain [1] done processing\n"
     ]
    },
    {
     "name": "stdout",
     "output_type": "stream",
     "text": [
      "Finished precinct 100.\n",
      "Starting precinct 101.\n"
     ]
    },
    {
     "name": "stderr",
     "output_type": "stream",
     "text": [
      "15:37:43 - cmdstanpy - INFO - Chain [1] start processing\n",
      "15:37:43 - cmdstanpy - INFO - Chain [1] done processing\n"
     ]
    },
    {
     "name": "stdout",
     "output_type": "stream",
     "text": [
      "Test RMSE: 8.664\n",
      "Test RMSE: 9.133\n"
     ]
    },
    {
     "name": "stderr",
     "output_type": "stream",
     "text": [
      "15:37:44 - cmdstanpy - INFO - Chain [1] start processing\n",
      "15:37:44 - cmdstanpy - INFO - Chain [1] done processing\n"
     ]
    },
    {
     "name": "stdout",
     "output_type": "stream",
     "text": [
      "Finished precinct 101.\n",
      "Starting precinct 102.\n"
     ]
    },
    {
     "name": "stderr",
     "output_type": "stream",
     "text": [
      "15:37:45 - cmdstanpy - INFO - Chain [1] start processing\n",
      "15:37:45 - cmdstanpy - INFO - Chain [1] done processing\n"
     ]
    },
    {
     "name": "stdout",
     "output_type": "stream",
     "text": [
      "Test RMSE: 21.307\n",
      "Test RMSE: 19.390\n"
     ]
    },
    {
     "name": "stderr",
     "output_type": "stream",
     "text": [
      "15:37:45 - cmdstanpy - INFO - Chain [1] start processing\n",
      "15:37:45 - cmdstanpy - INFO - Chain [1] done processing\n"
     ]
    },
    {
     "name": "stdout",
     "output_type": "stream",
     "text": [
      "Finished precinct 102.\n",
      "Starting precinct 103.\n"
     ]
    },
    {
     "name": "stderr",
     "output_type": "stream",
     "text": [
      "15:37:46 - cmdstanpy - INFO - Chain [1] start processing\n",
      "15:37:46 - cmdstanpy - INFO - Chain [1] done processing\n"
     ]
    },
    {
     "name": "stdout",
     "output_type": "stream",
     "text": [
      "Test RMSE: 19.950\n",
      "Test RMSE: 36.306\n"
     ]
    },
    {
     "name": "stderr",
     "output_type": "stream",
     "text": [
      "15:37:46 - cmdstanpy - INFO - Chain [1] start processing\n",
      "15:37:46 - cmdstanpy - INFO - Chain [1] done processing\n"
     ]
    },
    {
     "name": "stdout",
     "output_type": "stream",
     "text": [
      "Finished precinct 103.\n",
      "Starting precinct 105.\n"
     ]
    },
    {
     "name": "stderr",
     "output_type": "stream",
     "text": [
      "15:37:50 - cmdstanpy - INFO - Chain [1] start processing\n",
      "15:37:50 - cmdstanpy - INFO - Chain [1] done processing\n"
     ]
    },
    {
     "name": "stdout",
     "output_type": "stream",
     "text": [
      "Test RMSE: 11.590\n",
      "Test RMSE: 13.783\n"
     ]
    },
    {
     "name": "stderr",
     "output_type": "stream",
     "text": [
      "15:37:52 - cmdstanpy - INFO - Chain [1] start processing\n",
      "15:37:52 - cmdstanpy - INFO - Chain [1] done processing\n"
     ]
    },
    {
     "name": "stdout",
     "output_type": "stream",
     "text": [
      "Finished precinct 105.\n",
      "Starting precinct 106.\n"
     ]
    },
    {
     "name": "stderr",
     "output_type": "stream",
     "text": [
      "15:37:53 - cmdstanpy - INFO - Chain [1] start processing\n",
      "15:37:53 - cmdstanpy - INFO - Chain [1] done processing\n"
     ]
    },
    {
     "name": "stdout",
     "output_type": "stream",
     "text": [
      "Test RMSE: 16.719\n",
      "Test RMSE: 22.372\n"
     ]
    },
    {
     "name": "stderr",
     "output_type": "stream",
     "text": [
      "15:37:53 - cmdstanpy - INFO - Chain [1] start processing\n",
      "15:37:53 - cmdstanpy - INFO - Chain [1] done processing\n"
     ]
    },
    {
     "name": "stdout",
     "output_type": "stream",
     "text": [
      "Finished precinct 106.\n",
      "Starting precinct 107.\n"
     ]
    },
    {
     "name": "stderr",
     "output_type": "stream",
     "text": [
      "15:37:54 - cmdstanpy - INFO - Chain [1] start processing\n",
      "15:37:54 - cmdstanpy - INFO - Chain [1] done processing\n"
     ]
    },
    {
     "name": "stdout",
     "output_type": "stream",
     "text": [
      "Test RMSE: 14.454\n",
      "Test RMSE: 15.870\n"
     ]
    },
    {
     "name": "stderr",
     "output_type": "stream",
     "text": [
      "15:37:54 - cmdstanpy - INFO - Chain [1] start processing\n",
      "15:37:54 - cmdstanpy - INFO - Chain [1] done processing\n"
     ]
    },
    {
     "name": "stdout",
     "output_type": "stream",
     "text": [
      "Finished precinct 107.\n",
      "Starting precinct 113.\n"
     ]
    },
    {
     "name": "stderr",
     "output_type": "stream",
     "text": [
      "15:37:55 - cmdstanpy - INFO - Chain [1] start processing\n",
      "15:37:55 - cmdstanpy - INFO - Chain [1] done processing\n"
     ]
    },
    {
     "name": "stdout",
     "output_type": "stream",
     "text": [
      "Test RMSE: 10.019\n",
      "Test RMSE: 9.954\n"
     ]
    },
    {
     "name": "stderr",
     "output_type": "stream",
     "text": [
      "15:37:55 - cmdstanpy - INFO - Chain [1] start processing\n",
      "15:37:55 - cmdstanpy - INFO - Chain [1] done processing\n"
     ]
    },
    {
     "name": "stdout",
     "output_type": "stream",
     "text": [
      "Finished precinct 113.\n",
      "Starting precinct 104.\n"
     ]
    },
    {
     "name": "stderr",
     "output_type": "stream",
     "text": [
      "15:37:56 - cmdstanpy - INFO - Chain [1] start processing\n",
      "15:37:56 - cmdstanpy - INFO - Chain [1] done processing\n"
     ]
    },
    {
     "name": "stdout",
     "output_type": "stream",
     "text": [
      "Test RMSE: 14.091\n",
      "Test RMSE: 26.582\n"
     ]
    },
    {
     "name": "stderr",
     "output_type": "stream",
     "text": [
      "15:37:57 - cmdstanpy - INFO - Chain [1] start processing\n",
      "15:37:57 - cmdstanpy - INFO - Chain [1] done processing\n"
     ]
    },
    {
     "name": "stdout",
     "output_type": "stream",
     "text": [
      "Finished precinct 104.\n",
      "Starting precinct 108.\n"
     ]
    },
    {
     "name": "stderr",
     "output_type": "stream",
     "text": [
      "15:37:57 - cmdstanpy - INFO - Chain [1] start processing\n",
      "15:37:57 - cmdstanpy - INFO - Chain [1] done processing\n"
     ]
    },
    {
     "name": "stdout",
     "output_type": "stream",
     "text": [
      "Test RMSE: 20.565\n",
      "Test RMSE: 17.117\n"
     ]
    },
    {
     "name": "stderr",
     "output_type": "stream",
     "text": [
      "15:37:58 - cmdstanpy - INFO - Chain [1] start processing\n",
      "15:37:58 - cmdstanpy - INFO - Chain [1] done processing\n"
     ]
    },
    {
     "name": "stdout",
     "output_type": "stream",
     "text": [
      "Finished precinct 108.\n",
      "Starting precinct 109.\n"
     ]
    },
    {
     "name": "stderr",
     "output_type": "stream",
     "text": [
      "15:37:58 - cmdstanpy - INFO - Chain [1] start processing\n",
      "15:37:58 - cmdstanpy - INFO - Chain [1] done processing\n"
     ]
    },
    {
     "name": "stdout",
     "output_type": "stream",
     "text": [
      "Test RMSE: 31.706\n",
      "Test RMSE: 43.948\n"
     ]
    },
    {
     "name": "stderr",
     "output_type": "stream",
     "text": [
      "15:37:59 - cmdstanpy - INFO - Chain [1] start processing\n",
      "15:37:59 - cmdstanpy - INFO - Chain [1] done processing\n"
     ]
    },
    {
     "name": "stdout",
     "output_type": "stream",
     "text": [
      "Finished precinct 109.\n",
      "Starting precinct 110.\n"
     ]
    },
    {
     "name": "stderr",
     "output_type": "stream",
     "text": [
      "15:37:59 - cmdstanpy - INFO - Chain [1] start processing\n",
      "15:37:59 - cmdstanpy - INFO - Chain [1] done processing\n"
     ]
    },
    {
     "name": "stdout",
     "output_type": "stream",
     "text": [
      "Test RMSE: 15.781\n",
      "Test RMSE: 21.408\n"
     ]
    },
    {
     "name": "stderr",
     "output_type": "stream",
     "text": [
      "15:38:00 - cmdstanpy - INFO - Chain [1] start processing\n",
      "15:38:00 - cmdstanpy - INFO - Chain [1] done processing\n"
     ]
    },
    {
     "name": "stdout",
     "output_type": "stream",
     "text": [
      "Finished precinct 110.\n",
      "Starting precinct 111.\n"
     ]
    },
    {
     "name": "stderr",
     "output_type": "stream",
     "text": [
      "15:38:00 - cmdstanpy - INFO - Chain [1] start processing\n",
      "15:38:00 - cmdstanpy - INFO - Chain [1] done processing\n"
     ]
    },
    {
     "name": "stdout",
     "output_type": "stream",
     "text": [
      "Test RMSE: 8.143\n",
      "Test RMSE: 8.766\n"
     ]
    },
    {
     "name": "stderr",
     "output_type": "stream",
     "text": [
      "15:38:01 - cmdstanpy - INFO - Chain [1] start processing\n",
      "15:38:01 - cmdstanpy - INFO - Chain [1] done processing\n"
     ]
    },
    {
     "name": "stdout",
     "output_type": "stream",
     "text": [
      "Finished precinct 111.\n",
      "Starting precinct 112.\n"
     ]
    },
    {
     "name": "stderr",
     "output_type": "stream",
     "text": [
      "15:38:02 - cmdstanpy - INFO - Chain [1] start processing\n",
      "15:38:02 - cmdstanpy - INFO - Chain [1] done processing\n"
     ]
    },
    {
     "name": "stdout",
     "output_type": "stream",
     "text": [
      "Test RMSE: 16.915\n",
      "Test RMSE: 23.151\n"
     ]
    },
    {
     "name": "stderr",
     "output_type": "stream",
     "text": [
      "15:38:02 - cmdstanpy - INFO - Chain [1] start processing\n",
      "15:38:02 - cmdstanpy - INFO - Chain [1] done processing\n"
     ]
    },
    {
     "name": "stdout",
     "output_type": "stream",
     "text": [
      "Finished precinct 112.\n",
      "Starting precinct 114.\n"
     ]
    },
    {
     "name": "stderr",
     "output_type": "stream",
     "text": [
      "15:38:03 - cmdstanpy - INFO - Chain [1] start processing\n",
      "15:38:03 - cmdstanpy - INFO - Chain [1] done processing\n"
     ]
    },
    {
     "name": "stdout",
     "output_type": "stream",
     "text": [
      "Test RMSE: 42.495\n",
      "Test RMSE: 40.763\n"
     ]
    },
    {
     "name": "stderr",
     "output_type": "stream",
     "text": [
      "15:38:03 - cmdstanpy - INFO - Chain [1] start processing\n",
      "15:38:03 - cmdstanpy - INFO - Chain [1] done processing\n"
     ]
    },
    {
     "name": "stdout",
     "output_type": "stream",
     "text": [
      "Finished precinct 114.\n",
      "Starting precinct 115.\n"
     ]
    },
    {
     "name": "stderr",
     "output_type": "stream",
     "text": [
      "15:38:04 - cmdstanpy - INFO - Chain [1] start processing\n",
      "15:38:04 - cmdstanpy - INFO - Chain [1] done processing\n"
     ]
    },
    {
     "name": "stdout",
     "output_type": "stream",
     "text": [
      "Test RMSE: 26.394\n",
      "Test RMSE: 28.339\n"
     ]
    },
    {
     "name": "stderr",
     "output_type": "stream",
     "text": [
      "15:38:04 - cmdstanpy - INFO - Chain [1] start processing\n",
      "15:38:04 - cmdstanpy - INFO - Chain [1] done processing\n"
     ]
    },
    {
     "name": "stdout",
     "output_type": "stream",
     "text": [
      "Finished precinct 115.\n",
      "Starting precinct 120.\n"
     ]
    },
    {
     "name": "stderr",
     "output_type": "stream",
     "text": [
      "15:38:06 - cmdstanpy - INFO - Chain [1] start processing\n",
      "15:38:06 - cmdstanpy - INFO - Chain [1] done processing\n"
     ]
    },
    {
     "name": "stdout",
     "output_type": "stream",
     "text": [
      "Test RMSE: 8.709\n",
      "Test RMSE: 9.501\n"
     ]
    },
    {
     "name": "stderr",
     "output_type": "stream",
     "text": [
      "15:38:07 - cmdstanpy - INFO - Chain [1] start processing\n",
      "15:38:07 - cmdstanpy - INFO - Chain [1] done processing\n"
     ]
    },
    {
     "name": "stdout",
     "output_type": "stream",
     "text": [
      "Finished precinct 120.\n",
      "Starting precinct 121.\n"
     ]
    },
    {
     "name": "stderr",
     "output_type": "stream",
     "text": [
      "15:38:08 - cmdstanpy - INFO - Chain [1] start processing\n",
      "15:38:08 - cmdstanpy - INFO - Chain [1] done processing\n"
     ]
    },
    {
     "name": "stdout",
     "output_type": "stream",
     "text": [
      "Test RMSE: 6.899\n",
      "Test RMSE: 9.843\n"
     ]
    },
    {
     "name": "stderr",
     "output_type": "stream",
     "text": [
      "15:38:08 - cmdstanpy - INFO - Chain [1] start processing\n",
      "15:38:08 - cmdstanpy - INFO - Chain [1] done processing\n"
     ]
    },
    {
     "name": "stdout",
     "output_type": "stream",
     "text": [
      "Finished precinct 121.\n",
      "Starting precinct 122.\n"
     ]
    },
    {
     "name": "stderr",
     "output_type": "stream",
     "text": [
      "15:38:09 - cmdstanpy - INFO - Chain [1] start processing\n",
      "15:38:09 - cmdstanpy - INFO - Chain [1] done processing\n"
     ]
    },
    {
     "name": "stdout",
     "output_type": "stream",
     "text": [
      "Test RMSE: 12.079\n",
      "Test RMSE: 8.890\n"
     ]
    },
    {
     "name": "stderr",
     "output_type": "stream",
     "text": [
      "15:38:12 - cmdstanpy - INFO - Chain [1] start processing\n",
      "15:38:12 - cmdstanpy - INFO - Chain [1] done processing\n"
     ]
    },
    {
     "name": "stdout",
     "output_type": "stream",
     "text": [
      "Finished precinct 122.\n",
      "Starting precinct 123.\n"
     ]
    },
    {
     "name": "stderr",
     "output_type": "stream",
     "text": [
      "15:38:12 - cmdstanpy - INFO - Chain [1] start processing\n",
      "15:38:12 - cmdstanpy - INFO - Chain [1] done processing\n"
     ]
    },
    {
     "name": "stdout",
     "output_type": "stream",
     "text": [
      "Test RMSE: 4.668\n",
      "Test RMSE: 3.715\n"
     ]
    },
    {
     "name": "stderr",
     "output_type": "stream",
     "text": [
      "15:38:13 - cmdstanpy - INFO - Chain [1] start processing\n",
      "15:38:13 - cmdstanpy - INFO - Chain [1] done processing\n"
     ]
    },
    {
     "name": "stdout",
     "output_type": "stream",
     "text": [
      "Finished precinct 123.\n"
     ]
    }
   ],
   "source": [
    "arima_models = []\n",
    "\n",
    "for precinct in precinct_list:\n",
    "\n",
    "    print(f\"Starting precinct {precinct}.\")\n",
    "\n",
    "    # filter for precinct\n",
    "    final_df = final_df0[final_df0[\"Violation Precinct\"] == precinct].reset_index(drop = True)\n",
    "    final_df = final_df.drop(columns=[\"Violation Precinct\"])\n",
    "\n",
    "    # create time as index and then summing per month\n",
    "    final_df.set_index('Issue Date', inplace=True)\n",
    "\n",
    "    final_df_monthly = final_df.resample('MS').sum()\n",
    "\n",
    "    #### FIT MODELS (use RMSE)\n",
    "\n",
    "    #### ARIMA model\n",
    "    # Load the data and split it into separate pieces (array form)\n",
    "    data = np.array(final_df_monthly['Counts'])\n",
    "    train, test = pm.model_selection.train_test_split(data, train_size=108)\n",
    "\n",
    "    # Fit a simple auto_arima model\n",
    "    modl = pm.auto_arima(train, start_p=1, start_q=1, start_P=1, start_Q=1,\n",
    "                        max_p=5, max_q=5, max_P=5, max_Q=5, seasonal=True,\n",
    "                        stepwise=True, suppress_warnings=True, D=10, max_D=10,\n",
    "                        error_action='ignore')\n",
    "\n",
    "    # Create predictions for the future, evaluate on test\n",
    "    preds, conf_int = modl.predict(n_periods=test.shape[0], return_conf_int=True, freq = \"MS\")\n",
    "\n",
    "    # Print the error:\n",
    "    print(\"Test RMSE: %.3f\" % np.sqrt(mean_squared_error(test, preds)))\n",
    "\n",
    "    #### PROPHET model\n",
    "    # Create Prophet Object\n",
    "    m = prophet.Prophet()\n",
    "\n",
    "    # Use Similar Splitting (but not in array form)\n",
    "    train_prophet, test_prophet = pm.model_selection.train_test_split(final_df_monthly, train_size = 108)\n",
    "\n",
    "    # Make column names into those required by PROPHET\n",
    "    train_prophet.reset_index(inplace=True)\n",
    "    train_prophet = train_prophet.rename(columns = {'Issue Date':'ds'})\n",
    "    train_prophet['y'] = train_prophet['Counts']\n",
    "\n",
    "    # Fit\n",
    "    m.fit(train_prophet)\n",
    "\n",
    "    # Make a future data frame for another year (12 months)\n",
    "    future = m.make_future_dataframe(periods=12, include_history = False, freq = \"MS\")\n",
    "\n",
    "    # Predict\n",
    "    forecast = m.predict(future)\n",
    "\n",
    "    # Calculate RMSE\n",
    "    preds_prophet = np.array(forecast['yhat'])\n",
    "    test_prophet = np.array(test_prophet['Counts'])\n",
    "    # Print the error:\n",
    "    print(\"Test RMSE: %.3f\" % np.sqrt(mean_squared_error(test_prophet, preds_prophet)))\n",
    "\n",
    "\n",
    "\n",
    "    # plot\n",
    "    prediction_data = {'True_Values': test, 'ARIMA_Predictions': preds, 'PROPHET_Predictions': preds_prophet}\n",
    "    pred_df = pd.DataFrame(prediction_data)\n",
    "    # ax = pred_df.plot(title = f\"Precinct {precinct}\")\n",
    "    # ax.get_figure().savefig(f\"../../Data/time_series/test_plots_nocovid/precinct_{precinct}.jpg\")\n",
    "\n",
    "    \n",
    "    \n",
    "    #### Fitted and predicted values\n",
    "\n",
    "    # ARIMA\n",
    "\n",
    "    data_arima = np.array(final_df_monthly['Counts'])\n",
    "    modl = pm.auto_arima(data_arima, start_p=1, start_q=1, start_P=1, start_Q=1,\n",
    "                        max_p=5, max_q=5, max_P=5, max_Q=5, seasonal=True,\n",
    "                        stepwise=True, suppress_warnings=True, D=10, max_D=10,\n",
    "                        error_action='ignore')\n",
    "    preds_arima = modl.predict(n_periods=12, return_conf_int=False, freq = \"MS\")\n",
    "    fitted_arima = modl.fittedvalues()\n",
    "    preds_arima\n",
    "    fitted_arima\n",
    "    preds_arima = np.concatenate((fitted_arima, preds_arima))\n",
    "\n",
    "    arima_models.append(modl)\n",
    "\n",
    "    # PROPHET\n",
    "\n",
    "    m = prophet.Prophet()\n",
    "    data_prophet = final_df_monthly\n",
    "    data_prophet.reset_index(inplace=True)\n",
    "    data_prophet = data_prophet.rename(columns = {'Issue Date':'ds'})\n",
    "    data_prophet['y'] = final_df_monthly['Counts']\n",
    "    m.fit(data_prophet)\n",
    "    future = m.make_future_dataframe(periods=12, include_history = True, freq = \"MS\")\n",
    "    forecast = m.predict(future)\n",
    "    preds_prophet = forecast[[\"ds\",\"yhat\"]]\n",
    "\n",
    "    future = m.make_future_dataframe(periods=12, include_history = True, freq = \"MS\")\n",
    "\n",
    "    output = future\n",
    "    output = output.rename(columns = {\"ds\":\"time\"})\n",
    "    preds_prophet = preds_prophet.rename(columns = {\"ds\":\"time\", \"yhat\":\"prophet_pred\"})\n",
    "    preds_prophet[\"arima_pred\"] = preds_arima\n",
    "    output = output.merge(preds_prophet, how = \"outer\", on = \"time\")\n",
    "    prep_final_df = final_df_monthly\n",
    "    prep_final_df = prep_final_df.rename(columns = {\"Issue Date\":\"time\"})\n",
    "    output = output.merge(prep_final_df, how = \"outer\", on = \"time\")\n",
    "    # output = output.drop(columns = [\"level_0\", \"index\"])\n",
    "    output = output.rename(columns = {\"Counts\": \"values\"})\n",
    "\n",
    "    output.to_csv(f\"../../data/time_series/precinct_line_graphs_nocovid/line_graph_monthly_data_pre{precinct}.csv\")\n",
    "\n",
    "\n",
    "    print(f\"Finished precinct {precinct}.\")\n"
   ]
  },
  {
   "cell_type": "code",
   "execution_count": 15,
   "metadata": {},
   "outputs": [
    {
     "name": "stdout",
     "output_type": "stream",
     "text": [
      " ARIMA(1,0,0)(0,0,0)[0] intercept\n",
      " ARIMA(1,0,0)(0,0,0)[0] intercept\n",
      " ARIMA(0,1,4)(0,0,0)[0] intercept\n",
      " ARIMA(1,0,0)(0,0,0)[0] intercept\n",
      " ARIMA(1,1,1)(0,0,0)[0]          \n",
      " ARIMA(1,0,0)(0,0,0)[0] intercept\n",
      " ARIMA(1,0,0)(0,0,0)[0] intercept\n",
      " ARIMA(1,0,0)(0,0,0)[0] intercept\n",
      " ARIMA(1,1,1)(0,0,0)[0]          \n",
      " ARIMA(1,0,0)(0,0,0)[0] intercept\n",
      " ARIMA(0,1,0)(0,0,0)[0]          \n",
      " ARIMA(1,0,0)(0,0,0)[0] intercept\n",
      " ARIMA(0,0,1)(0,0,0)[0] intercept\n",
      " ARIMA(1,0,0)(0,0,0)[0] intercept\n",
      " ARIMA(2,0,1)(0,0,0)[0] intercept\n",
      " ARIMA(1,1,1)(0,0,0)[0]          \n",
      " ARIMA(1,0,0)(0,0,0)[0] intercept\n",
      " ARIMA(1,1,1)(0,0,0)[0]          \n",
      " ARIMA(2,0,0)(0,0,0)[0] intercept\n",
      " ARIMA(1,1,1)(0,0,0)[0]          \n",
      " ARIMA(1,0,0)(0,0,0)[0] intercept\n",
      " ARIMA(4,0,0)(0,0,0)[0] intercept\n",
      " ARIMA(2,1,1)(0,0,0)[0]          \n",
      " ARIMA(1,1,0)(0,0,0)[0]          \n",
      " ARIMA(3,1,1)(0,0,0)[0]          \n",
      " ARIMA(1,1,1)(0,0,0)[0]          \n",
      " ARIMA(1,1,1)(0,0,0)[0]          \n",
      " ARIMA(1,0,0)(0,0,0)[0] intercept\n",
      " ARIMA(1,1,1)(0,0,0)[0]          \n",
      " ARIMA(1,0,0)(0,0,0)[0] intercept\n",
      " ARIMA(2,1,1)(0,0,0)[0]          \n",
      " ARIMA(1,0,0)(0,0,0)[0] intercept\n",
      " ARIMA(1,0,0)(0,0,0)[0] intercept\n",
      " ARIMA(1,0,0)(0,0,0)[0] intercept\n",
      " ARIMA(1,0,0)(0,0,0)[0] intercept\n",
      " ARIMA(1,0,3)(0,0,0)[0] intercept\n",
      " ARIMA(1,0,0)(0,0,0)[0] intercept\n",
      " ARIMA(1,0,0)(0,0,0)[0] intercept\n",
      " ARIMA(2,0,0)(0,0,0)[0] intercept\n",
      " ARIMA(1,0,0)(0,0,0)[0] intercept\n",
      " ARIMA(1,1,1)(0,0,0)[0]          \n",
      " ARIMA(2,0,0)(0,0,0)[0] intercept\n",
      " ARIMA(2,0,0)(0,0,0)[0] intercept\n",
      " ARIMA(0,0,3)(0,0,0)[0] intercept\n",
      " ARIMA(1,0,0)(0,0,0)[0] intercept\n",
      " ARIMA(1,0,0)(0,0,0)[0] intercept\n",
      " ARIMA(0,1,0)(0,0,0)[0]          \n",
      " ARIMA(1,1,1)(0,0,0)[0]          \n",
      " ARIMA(1,1,1)(0,0,0)[0]          \n",
      " ARIMA(1,0,0)(0,0,0)[0] intercept\n",
      " ARIMA(0,1,1)(0,0,0)[0]          \n",
      " ARIMA(1,1,1)(0,0,0)[0]          \n",
      " ARIMA(1,1,1)(0,0,0)[0]          \n",
      " ARIMA(1,0,0)(0,0,0)[0] intercept\n",
      " ARIMA(1,0,0)(0,0,0)[0] intercept\n",
      " ARIMA(0,0,0)(0,0,0)[0] intercept\n",
      " ARIMA(1,0,0)(0,0,0)[0] intercept\n",
      " ARIMA(2,0,2)(0,0,0)[0] intercept\n",
      " ARIMA(1,0,1)(0,0,0)[0] intercept\n",
      " ARIMA(1,0,0)(0,0,0)[0] intercept\n",
      " ARIMA(1,0,0)(0,0,0)[0] intercept\n",
      " ARIMA(2,1,1)(0,0,0)[0]          \n",
      " ARIMA(1,0,0)(0,0,0)[0] intercept\n",
      " ARIMA(1,0,0)(0,0,0)[0] intercept\n",
      " ARIMA(1,0,0)(0,0,0)[0] intercept\n",
      " ARIMA(1,0,0)(0,0,0)[0] intercept\n",
      " ARIMA(1,0,0)(0,0,0)[0] intercept\n",
      " ARIMA(1,0,0)(0,0,0)[0] intercept\n",
      " ARIMA(1,0,0)(0,0,0)[0] intercept\n",
      " ARIMA(1,0,0)(0,0,0)[0] intercept\n",
      " ARIMA(1,0,0)(0,0,0)[0] intercept\n",
      " ARIMA(1,0,0)(0,0,0)[0] intercept\n",
      " ARIMA(1,0,0)(0,0,0)[0] intercept\n",
      " ARIMA(2,1,1)(0,0,0)[0]          \n",
      " ARIMA(0,1,1)(0,0,0)[0]          \n",
      " ARIMA(3,1,2)(0,0,0)[0]          \n",
      " ARIMA(0,1,1)(0,0,0)[0]          \n"
     ]
    }
   ],
   "source": [
    "for model in arima_models:\n",
    "    print(model)"
   ]
  },
  {
   "cell_type": "markdown",
   "metadata": {},
   "source": []
  },
  {
   "cell_type": "code",
   "execution_count": null,
   "metadata": {},
   "outputs": [],
   "source": []
  }
 ],
 "metadata": {
  "kernelspec": {
   "display_name": "dsepi",
   "language": "python",
   "name": "python3"
  },
  "language_info": {
   "codemirror_mode": {
    "name": "ipython",
    "version": 3
   },
   "file_extension": ".py",
   "mimetype": "text/x-python",
   "name": "python",
   "nbconvert_exporter": "python",
   "pygments_lexer": "ipython3",
   "version": "3.10.12"
  }
 },
 "nbformat": 4,
 "nbformat_minor": 2
}
