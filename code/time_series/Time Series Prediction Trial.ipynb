{
 "cells": [
  {
   "cell_type": "markdown",
   "id": "5ed99254",
   "metadata": {},
   "source": [
    "# Initializing and Reading Data"
   ]
  },
  {
   "cell_type": "code",
   "execution_count": 1,
   "id": "93cf5076",
   "metadata": {},
   "outputs": [
    {
     "name": "stderr",
     "output_type": "stream",
     "text": [
      "/home/divij/anaconda3/envs/dsepi/lib/python3.10/site-packages/tqdm/auto.py:21: TqdmWarning: IProgress not found. Please update jupyter and ipywidgets. See https://ipywidgets.readthedocs.io/en/stable/user_install.html\n",
      "  from .autonotebook import tqdm as notebook_tqdm\n",
      "Importing plotly failed. Interactive plots will not work.\n"
     ]
    }
   ],
   "source": [
    "import pandas as pd\n",
    "import matplotlib as mpl\n",
    "from statsmodels.tsa.stattools import adfuller\n",
    "from prophet import Prophet\n",
    "import numpy as np\n",
    "import pmdarima as pm\n",
    "from pmdarima import model_selection\n",
    "from sklearn.metrics import mean_squared_error"
   ]
  },
  {
   "cell_type": "code",
   "execution_count": 2,
   "id": "184d8169",
   "metadata": {},
   "outputs": [],
   "source": [
    "# 2014\n",
    "df_2014 = pd.read_csv(\"../../data/time_series/cleaned/TS_2014.csv\")\n",
    "df_2014['Issue Date'] = pd.to_datetime(df_2014['Issue Date'])\n",
    "# 2015\n",
    "df_2015 = pd.read_csv(\"../../data/time_series/cleaned/TS_2015.csv\")\n",
    "df_2015['Issue Date'] = pd.to_datetime(df_2015['Issue Date'])\n",
    "# 2016\n",
    "df_2016 = pd.read_csv(\"../../data/time_series/cleaned/TS_2016.csv\")\n",
    "df_2016['Issue Date'] = pd.to_datetime(df_2016['Issue Date'])\n",
    "# 2017\n",
    "df_2017 = pd.read_csv(\"../../data/time_series/cleaned/TS_2017.csv\")\n",
    "df_2017['Issue Date'] = pd.to_datetime(df_2017['Issue Date'])\n",
    "# 2018\n",
    "df_2018 = pd.read_csv(\"../../data/time_series/cleaned/TS_2018.csv\")\n",
    "df_2018['Issue Date'] = pd.to_datetime(df_2018['Issue Date'])\n",
    "# 2019\n",
    "df_2019 = pd.read_csv(\"../../data/time_series/cleaned/TS_2019.csv\")\n",
    "df_2019['Issue Date'] = pd.to_datetime(df_2019['Issue Date']) \n",
    "# 2020\n",
    "df_2020 = pd.read_csv(\"../../data/time_series/cleaned/TS_2020.csv\")\n",
    "df_2020['Issue Date'] = pd.to_datetime(df_2020['Issue Date'])\n",
    "# 2021\n",
    "df_2021 = pd.read_csv(\"../../data/time_series/cleaned/TS_2021.csv\")\n",
    "df_2021['Issue Date'] = pd.to_datetime(df_2021['Issue Date'])\n",
    "# 2022\n",
    "df_2022 = pd.read_csv(\"../../data/time_series/cleaned/TS_2022.csv\")\n",
    "df_2022['Issue Date'] = pd.to_datetime(df_2022['Issue Date'])\n",
    "# 2023\n",
    "df_2023 = pd.read_csv(\"../../data/time_series/cleaned/TS_2023.csv\")\n",
    "df_2023['Issue Date'] = pd.to_datetime(df_2023['Issue Date'])"
   ]
  },
  {
   "cell_type": "markdown",
   "id": "f70da6c7",
   "metadata": {},
   "source": [
    "# Combining Data"
   ]
  },
  {
   "cell_type": "code",
   "execution_count": 3,
   "id": "e74c094d",
   "metadata": {},
   "outputs": [
    {
     "data": {
      "text/plain": [
       "Issue Date            datetime64[ns]\n",
       "Violation Precinct             int64\n",
       "Counts                         int64\n",
       "dtype: object"
      ]
     },
     "execution_count": 3,
     "metadata": {},
     "output_type": "execute_result"
    }
   ],
   "source": [
    "# Check Data Type\n",
    "df_2023.dtypes"
   ]
  },
  {
   "cell_type": "code",
   "execution_count": 4,
   "id": "3ac3d2b1",
   "metadata": {},
   "outputs": [],
   "source": [
    "final_df = pd.concat([df_2014, df_2015, df_2016, df_2017, df_2018, df_2019, df_2020, df_2021, df_2022, df_2023], axis = 0)\n",
    "final_df = final_df.reset_index(drop = True)"
   ]
  },
  {
   "cell_type": "code",
   "execution_count": 5,
   "metadata": {},
   "outputs": [
    {
     "data": {
      "text/html": [
       "<div>\n",
       "<style scoped>\n",
       "    .dataframe tbody tr th:only-of-type {\n",
       "        vertical-align: middle;\n",
       "    }\n",
       "\n",
       "    .dataframe tbody tr th {\n",
       "        vertical-align: top;\n",
       "    }\n",
       "\n",
       "    .dataframe thead th {\n",
       "        text-align: right;\n",
       "    }\n",
       "</style>\n",
       "<table border=\"1\" class=\"dataframe\">\n",
       "  <thead>\n",
       "    <tr style=\"text-align: right;\">\n",
       "      <th></th>\n",
       "      <th>Issue Date</th>\n",
       "      <th>Counts</th>\n",
       "    </tr>\n",
       "  </thead>\n",
       "  <tbody>\n",
       "    <tr>\n",
       "      <th>0</th>\n",
       "      <td>2013-07-02</td>\n",
       "      <td>0</td>\n",
       "    </tr>\n",
       "    <tr>\n",
       "      <th>1</th>\n",
       "      <td>2013-07-03</td>\n",
       "      <td>0</td>\n",
       "    </tr>\n",
       "    <tr>\n",
       "      <th>2</th>\n",
       "      <td>2013-07-04</td>\n",
       "      <td>1</td>\n",
       "    </tr>\n",
       "    <tr>\n",
       "      <th>3</th>\n",
       "      <td>2013-07-06</td>\n",
       "      <td>0</td>\n",
       "    </tr>\n",
       "    <tr>\n",
       "      <th>4</th>\n",
       "      <td>2013-07-07</td>\n",
       "      <td>0</td>\n",
       "    </tr>\n",
       "    <tr>\n",
       "      <th>...</th>\n",
       "      <td>...</td>\n",
       "      <td>...</td>\n",
       "    </tr>\n",
       "    <tr>\n",
       "      <th>3620</th>\n",
       "      <td>2023-06-26</td>\n",
       "      <td>2</td>\n",
       "    </tr>\n",
       "    <tr>\n",
       "      <th>3621</th>\n",
       "      <td>2023-06-27</td>\n",
       "      <td>0</td>\n",
       "    </tr>\n",
       "    <tr>\n",
       "      <th>3622</th>\n",
       "      <td>2023-06-28</td>\n",
       "      <td>2</td>\n",
       "    </tr>\n",
       "    <tr>\n",
       "      <th>3623</th>\n",
       "      <td>2023-06-29</td>\n",
       "      <td>0</td>\n",
       "    </tr>\n",
       "    <tr>\n",
       "      <th>3624</th>\n",
       "      <td>2023-06-30</td>\n",
       "      <td>2</td>\n",
       "    </tr>\n",
       "  </tbody>\n",
       "</table>\n",
       "<p>3625 rows × 2 columns</p>\n",
       "</div>"
      ],
      "text/plain": [
       "     Issue Date  Counts\n",
       "0    2013-07-02       0\n",
       "1    2013-07-03       0\n",
       "2    2013-07-04       1\n",
       "3    2013-07-06       0\n",
       "4    2013-07-07       0\n",
       "...         ...     ...\n",
       "3620 2023-06-26       2\n",
       "3621 2023-06-27       0\n",
       "3622 2023-06-28       2\n",
       "3623 2023-06-29       0\n",
       "3624 2023-06-30       2\n",
       "\n",
       "[3625 rows x 2 columns]"
      ]
     },
     "execution_count": 5,
     "metadata": {},
     "output_type": "execute_result"
    }
   ],
   "source": [
    "final_df = final_df[final_df[\"Violation Precinct\"] == 5].reset_index(drop = True)\n",
    "final_df = final_df.drop(columns=[\"Violation Precinct\"])\n",
    "final_df"
   ]
  },
  {
   "cell_type": "markdown",
   "id": "3f5efed2",
   "metadata": {},
   "source": [
    "# Fitting and Predicting"
   ]
  },
  {
   "cell_type": "code",
   "execution_count": 6,
   "id": "6b64df1c",
   "metadata": {},
   "outputs": [
    {
     "data": {
      "image/png": "[encoded data removed]",
      "text/plain": [
       "<Figure size 640x480 with 1 Axes>"
      ]
     },
     "metadata": {},
     "output_type": "display_data"
    }
   ],
   "source": [
    "final_df.plot(x = \"Issue Date\", y = \"Counts\")\n",
    "mpl.pyplot.show()"
   ]
  },
  {
   "cell_type": "code",
   "execution_count": 7,
   "id": "e4888476",
   "metadata": {},
   "outputs": [
    {
     "data": {
      "text/plain": [
       "<Axes: xlabel='Issue Date'>"
      ]
     },
     "execution_count": 7,
     "metadata": {},
     "output_type": "execute_result"
    },
    {
     "data": {
      "image/png": "[encoded data removed]",
      "text/plain": [
       "<Figure size 640x480 with 1 Axes>"
      ]
     },
     "metadata": {},
     "output_type": "display_data"
    }
   ],
   "source": [
    "df_2015.plot(y = \"Counts\", x = \"Issue Date\")"
   ]
  },
  {
   "cell_type": "markdown",
   "id": "b0041f47",
   "metadata": {},
   "source": [
    "The time series fluctuates a lot day to day, so it might be harder to model. We should check:"
   ]
  },
  {
   "cell_type": "markdown",
   "id": "8594970b",
   "metadata": {},
   "source": [
    "### Augmented Dickey-Fuller Test"
   ]
  },
  {
   "cell_type": "markdown",
   "id": "adb61f36",
   "metadata": {},
   "source": [
    "For stationarity:"
   ]
  },
  {
   "cell_type": "code",
   "execution_count": 8,
   "id": "b4460fdf",
   "metadata": {},
   "outputs": [
    {
     "name": "stdout",
     "output_type": "stream",
     "text": [
      "p-value 7.598483680278143e-09\n"
     ]
    }
   ],
   "source": [
    "result = adfuller(final_df['Counts'])\n",
    "print(\"p-value\", result[1])"
   ]
  },
  {
   "cell_type": "markdown",
   "id": "0dec60e7",
   "metadata": {},
   "source": [
    "This suggests that the time series is stationary."
   ]
  },
  {
   "cell_type": "code",
   "execution_count": 9,
   "id": "6f772a1c",
   "metadata": {},
   "outputs": [
    {
     "data": {
      "text/plain": [
       "<Axes: >"
      ]
     },
     "execution_count": 9,
     "metadata": {},
     "output_type": "execute_result"
    },
    {
     "data": {
      "image/png": "[encoded data removed]",
      "text/plain": [
       "<Figure size 640x480 with 1 Axes>"
      ]
     },
     "metadata": {},
     "output_type": "display_data"
    }
   ],
   "source": [
    "final_df[\"Counts\"].hist()"
   ]
  },
  {
   "cell_type": "markdown",
   "id": "64ebbf84",
   "metadata": {},
   "source": [
    "It is not normally distributed. We can either try scaling, or we can also use daily percentage change."
   ]
  },
  {
   "cell_type": "markdown",
   "id": "d93a2e99",
   "metadata": {},
   "source": [
    "## Percentage Change"
   ]
  },
  {
   "cell_type": "code",
   "execution_count": 10,
   "id": "ec668d39",
   "metadata": {},
   "outputs": [
    {
     "data": {
      "text/html": [
       "<div>\n",
       "<style scoped>\n",
       "    .dataframe tbody tr th:only-of-type {\n",
       "        vertical-align: middle;\n",
       "    }\n",
       "\n",
       "    .dataframe tbody tr th {\n",
       "        vertical-align: top;\n",
       "    }\n",
       "\n",
       "    .dataframe thead th {\n",
       "        text-align: right;\n",
       "    }\n",
       "</style>\n",
       "<table border=\"1\" class=\"dataframe\">\n",
       "  <thead>\n",
       "    <tr style=\"text-align: right;\">\n",
       "      <th></th>\n",
       "      <th>Counts</th>\n",
       "    </tr>\n",
       "    <tr>\n",
       "      <th>Issue Date</th>\n",
       "      <th></th>\n",
       "    </tr>\n",
       "  </thead>\n",
       "  <tbody>\n",
       "    <tr>\n",
       "      <th>2013-07-02</th>\n",
       "      <td>NaN</td>\n",
       "    </tr>\n",
       "    <tr>\n",
       "      <th>2013-07-03</th>\n",
       "      <td>NaN</td>\n",
       "    </tr>\n",
       "    <tr>\n",
       "      <th>2013-07-04</th>\n",
       "      <td>inf</td>\n",
       "    </tr>\n",
       "    <tr>\n",
       "      <th>2013-07-06</th>\n",
       "      <td>-1.0</td>\n",
       "    </tr>\n",
       "    <tr>\n",
       "      <th>2013-07-07</th>\n",
       "      <td>NaN</td>\n",
       "    </tr>\n",
       "  </tbody>\n",
       "</table>\n",
       "</div>"
      ],
      "text/plain": [
       "            Counts\n",
       "Issue Date        \n",
       "2013-07-02     NaN\n",
       "2013-07-03     NaN\n",
       "2013-07-04     inf\n",
       "2013-07-06    -1.0\n",
       "2013-07-07     NaN"
      ]
     },
     "execution_count": 10,
     "metadata": {},
     "output_type": "execute_result"
    }
   ],
   "source": [
    "change_df = final_df.set_index(\"Issue Date\")\n",
    "change_df = change_df.pct_change()\n",
    "change_df.head()"
   ]
  },
  {
   "cell_type": "code",
   "execution_count": 11,
   "id": "8ed1a970",
   "metadata": {},
   "outputs": [
    {
     "data": {
      "text/plain": [
       "<Axes: xlabel='Issue Date'>"
      ]
     },
     "execution_count": 11,
     "metadata": {},
     "output_type": "execute_result"
    },
    {
     "data": {
      "image/png": "[encoded data removed]",
      "text/plain": [
       "<Figure size 640x480 with 1 Axes>"
      ]
     },
     "metadata": {},
     "output_type": "display_data"
    }
   ],
   "source": [
    "change_df.plot()"
   ]
  },
  {
   "cell_type": "markdown",
   "id": "b9214eda",
   "metadata": {},
   "source": [
    "We can see here that there are some massive outliers in our data that prevent us from using it to do time series modeling. Interestingly, from this visualization, we can also see that these seem to happen once every year. Let's see when these happen:"
   ]
  },
  {
   "cell_type": "code",
   "execution_count": 12,
   "id": "c0d29c5a",
   "metadata": {},
   "outputs": [
    {
     "data": {
      "text/plain": [
       "array([   2,    8,   10,   22,   26,   34,   47,   62,  103,  124,  149,\n",
       "        153,  181,  183,  186,  204,  215,  228,  280,  306,  331,  334,\n",
       "        359,  364,  366,  391,  484,  486,  498,  509,  534,  540,  570,\n",
       "        576,  609,  667,  681,  687,  727,  729,  736,  757,  772,  778,\n",
       "        793,  841,  873,  891,  901,  905,  909,  917,  934,  946,  953,\n",
       "        981, 1075, 1078, 1086, 1090, 1097, 1104, 1112, 1121, 1126, 1132,\n",
       "       1182, 1188, 1195, 1202, 1223, 1230, 1240, 1260, 1266, 1269, 1273,\n",
       "       1279, 1293, 1311, 1321, 1344, 1420, 1433, 1440, 1447, 1450, 1454,\n",
       "       1466, 1472, 1487, 1495, 1515, 1529, 1571, 1596, 1606, 1612, 1617,\n",
       "       1627, 1633, 1635, 1638, 1641, 1676, 1684, 1690, 1703, 1711, 1725,\n",
       "       1727, 1753, 1774, 1780, 1802, 1815, 1840, 1854, 1859, 1898, 1910,\n",
       "       1931, 1952, 1959, 1972, 1989, 1996, 2015, 2036, 2050, 2064, 2075,\n",
       "       2078, 2093, 2142, 2192, 2206, 2223, 2226, 2235, 2255, 2266, 2271,\n",
       "       2276, 2279, 2293, 2349, 2353, 2360, 2400, 2438, 2461, 2473, 2480,\n",
       "       2484, 2487, 2489, 2494, 2497, 2501, 2505, 2516, 2522, 2529, 2532,\n",
       "       2538, 2544, 2552, 2557, 2567, 2572, 2600, 2656, 2663, 2684, 2691,\n",
       "       2698, 2702, 2705, 2710, 2712, 2717, 2719, 2726, 2733, 2749, 2754,\n",
       "       2765, 2811, 2824, 2836, 2838, 2852, 2896, 2901, 2907, 2914, 2921,\n",
       "       2935, 2949, 2956, 2964, 2970, 2984, 3012, 3033, 3040, 3044, 3061,\n",
       "       3074, 3081, 3089, 3110, 3113, 3183, 3201, 3260, 3264, 3277, 3291,\n",
       "       3298, 3305, 3311, 3320, 3326, 3333, 3344, 3347, 3362, 3384, 3390,\n",
       "       3394, 3407, 3418, 3424, 3428, 3432, 3439, 3445, 3452, 3466, 3474,\n",
       "       3481, 3501, 3508, 3522, 3528, 3531, 3538, 3549, 3552, 3558, 3564,\n",
       "       3571, 3578, 3584, 3596, 3599, 3606, 3614, 3620, 3622, 3624])"
      ]
     },
     "execution_count": 12,
     "metadata": {},
     "output_type": "execute_result"
    }
   ],
   "source": [
    "outlier_list = np.where(change_df['Counts']>100)[0]\n",
    "outlier_list"
   ]
  },
  {
   "cell_type": "code",
   "execution_count": 13,
   "id": "374f927b",
   "metadata": {},
   "outputs": [
    {
     "data": {
      "text/plain": [
       "Counts    0.333333\n",
       "Name: 2022-07-26 00:00:00, dtype: float64"
      ]
     },
     "execution_count": 13,
     "metadata": {},
     "output_type": "execute_result"
    }
   ],
   "source": [
    "change_df.iloc[3285]"
   ]
  },
  {
   "cell_type": "code",
   "execution_count": 14,
   "id": "0282d8c6",
   "metadata": {},
   "outputs": [
    {
     "data": {
      "text/plain": [
       "Counts   -1.0\n",
       "Name: 2021-07-25 00:00:00, dtype: float64"
      ]
     },
     "execution_count": 14,
     "metadata": {},
     "output_type": "execute_result"
    }
   ],
   "source": [
    "change_df.iloc[2920]"
   ]
  },
  {
   "cell_type": "markdown",
   "id": "6abd1f82",
   "metadata": {},
   "source": [
    "These seem to happen yearly on the 1st of July, which is also when each of our yearly datasets start. This suggests a filing or data recording issue most likely, and should definitely be looked into on a systematic level as to why this is happening year-after-year. "
   ]
  },
  {
   "cell_type": "markdown",
   "id": "750c866c",
   "metadata": {},
   "source": [
    "For our model, we should try to remove these from the original `final_df` and then recalculate our `change_df`."
   ]
  },
  {
   "cell_type": "code",
   "execution_count": 15,
   "id": "88d03647",
   "metadata": {},
   "outputs": [
    {
     "data": {
      "text/plain": [
       "<Axes: xlabel='Issue Date'>"
      ]
     },
     "execution_count": 15,
     "metadata": {},
     "output_type": "execute_result"
    },
    {
     "data": {
      "image/png": "[encoded data removed]",
      "text/plain": [
       "<Figure size 640x480 with 1 Axes>"
      ]
     },
     "metadata": {},
     "output_type": "display_data"
    }
   ],
   "source": [
    "final_df.drop(index=outlier_list, inplace=True)\n",
    "change_df = final_df.set_index(\"Issue Date\")\n",
    "change_df = change_df.pct_change()\n",
    "change_df.plot()"
   ]
  },
  {
   "cell_type": "code",
   "execution_count": 16,
   "id": "3c0b0af2",
   "metadata": {},
   "outputs": [
    {
     "data": {
      "text/plain": [
       "array([   8,   22,   29,   41,   55,   95,  115,  139,  142,  172,  189,\n",
       "        199,  211,  262,  287,  311,  313,  337,  342,  366,  459,  470,\n",
       "        480,  504,  509,  538,  543,  575,  632,  645,  650,  690,  696,\n",
       "        716,  730,  735,  749,  796,  827,  844,  853,  856,  859,  866,\n",
       "        882,  893,  899,  926, 1019, 1021, 1028, 1031, 1037, 1043, 1050,\n",
       "       1058, 1062, 1067, 1116, 1121, 1127, 1133, 1153, 1159, 1168, 1187,\n",
       "       1192, 1197, 1202, 1215, 1232, 1241, 1263, 1338, 1350, 1356, 1362,\n",
       "       1364, 1367, 1378, 1383, 1397, 1404, 1423, 1436, 1477, 1501, 1510,\n",
       "       1515, 1519, 1528, 1534, 1536, 1538, 1572, 1579, 1584, 1596, 1603,\n",
       "       1617, 1642, 1662, 1667, 1688, 1700, 1724, 1737, 1741, 1779, 1790,\n",
       "       1810, 1830, 1836, 1848, 1864, 1870, 1888, 1908, 1921, 1934, 1944,\n",
       "       1946, 1960, 2008, 2057, 2070, 2086, 2088, 2096, 2115, 2125, 2129,\n",
       "       2133, 2135, 2148, 2203, 2206, 2212, 2251, 2321, 2345, 2355, 2368,\n",
       "       2373, 2378, 2385, 2389, 2398, 2402, 2429, 2484, 2490, 2510, 2516,\n",
       "       2522, 2525, 2527, 2532, 2537, 2543, 2549, 2564, 2568, 2578, 2623,\n",
       "       2635, 2647, 2660, 2703, 2707, 2712, 2718, 2724, 2737, 2750, 2756,\n",
       "       2763, 2768, 2781, 2808, 2828, 2834, 2837, 2853, 2865, 2871, 2878,\n",
       "       2898, 2900, 2969, 2986, 3044, 3047, 3059, 3072, 3078, 3084, 3089,\n",
       "       3097, 3102, 3108, 3118, 3120, 3134, 3155, 3160, 3163, 3175, 3185,\n",
       "       3190, 3193, 3196, 3202, 3207, 3213, 3226, 3233, 3239, 3258, 3264,\n",
       "       3277, 3282, 3284, 3290, 3302, 3307, 3312, 3318, 3324, 3329, 3340,\n",
       "       3342, 3348, 3355])"
      ]
     },
     "execution_count": 16,
     "metadata": {},
     "output_type": "execute_result"
    }
   ],
   "source": [
    "outlier_list = np.where(change_df['Counts']>100)[0]\n",
    "outlier_list"
   ]
  },
  {
   "cell_type": "code",
   "execution_count": 17,
   "id": "7fd40021",
   "metadata": {},
   "outputs": [
    {
     "data": {
      "text/plain": [
       "Counts    inf\n",
       "Name: 2022-09-27 00:00:00, dtype: float64"
      ]
     },
     "execution_count": 17,
     "metadata": {},
     "output_type": "execute_result"
    }
   ],
   "source": [
    "change_df.iloc[3120]"
   ]
  },
  {
   "cell_type": "markdown",
   "id": "3869299e",
   "metadata": {},
   "source": [
    "Now, the outliers have moved, but still happen at the boundary of when a yearly dataset meets a new one. We can look at this boundary closer."
   ]
  },
  {
   "cell_type": "code",
   "execution_count": 18,
   "id": "26beebca",
   "metadata": {},
   "outputs": [],
   "source": [
    "checking_df = pd.concat([df_2016, df_2017], axis = 0)"
   ]
  },
  {
   "cell_type": "code",
   "execution_count": 19,
   "metadata": {},
   "outputs": [],
   "source": [
    "checking_df = checking_df[checking_df[\"Violation Precinct\"] == 5].reset_index(drop=True)\n",
    "checking_df = checking_df.drop(columns=[\"Violation Precinct\"])"
   ]
  },
  {
   "cell_type": "code",
   "execution_count": 20,
   "id": "05a752c4",
   "metadata": {},
   "outputs": [
    {
     "data": {
      "text/html": [
       "<div>\n",
       "<style scoped>\n",
       "    .dataframe tbody tr th:only-of-type {\n",
       "        vertical-align: middle;\n",
       "    }\n",
       "\n",
       "    .dataframe tbody tr th {\n",
       "        vertical-align: top;\n",
       "    }\n",
       "\n",
       "    .dataframe thead th {\n",
       "        text-align: right;\n",
       "    }\n",
       "</style>\n",
       "<table border=\"1\" class=\"dataframe\">\n",
       "  <thead>\n",
       "    <tr style=\"text-align: right;\">\n",
       "      <th></th>\n",
       "      <th>Issue Date</th>\n",
       "      <th>Counts</th>\n",
       "    </tr>\n",
       "  </thead>\n",
       "  <tbody>\n",
       "    <tr>\n",
       "      <th>0</th>\n",
       "      <td>2015-07-01</td>\n",
       "      <td>7</td>\n",
       "    </tr>\n",
       "    <tr>\n",
       "      <th>1</th>\n",
       "      <td>2015-07-02</td>\n",
       "      <td>3</td>\n",
       "    </tr>\n",
       "    <tr>\n",
       "      <th>2</th>\n",
       "      <td>2015-07-03</td>\n",
       "      <td>0</td>\n",
       "    </tr>\n",
       "    <tr>\n",
       "      <th>3</th>\n",
       "      <td>2015-07-04</td>\n",
       "      <td>1</td>\n",
       "    </tr>\n",
       "    <tr>\n",
       "      <th>4</th>\n",
       "      <td>2015-07-05</td>\n",
       "      <td>0</td>\n",
       "    </tr>\n",
       "    <tr>\n",
       "      <th>...</th>\n",
       "      <td>...</td>\n",
       "      <td>...</td>\n",
       "    </tr>\n",
       "    <tr>\n",
       "      <th>721</th>\n",
       "      <td>2017-06-24</td>\n",
       "      <td>5</td>\n",
       "    </tr>\n",
       "    <tr>\n",
       "      <th>722</th>\n",
       "      <td>2017-06-25</td>\n",
       "      <td>0</td>\n",
       "    </tr>\n",
       "    <tr>\n",
       "      <th>723</th>\n",
       "      <td>2017-06-26</td>\n",
       "      <td>1</td>\n",
       "    </tr>\n",
       "    <tr>\n",
       "      <th>724</th>\n",
       "      <td>2017-06-27</td>\n",
       "      <td>8</td>\n",
       "    </tr>\n",
       "    <tr>\n",
       "      <th>725</th>\n",
       "      <td>2017-06-30</td>\n",
       "      <td>0</td>\n",
       "    </tr>\n",
       "  </tbody>\n",
       "</table>\n",
       "<p>726 rows × 2 columns</p>\n",
       "</div>"
      ],
      "text/plain": [
       "    Issue Date  Counts\n",
       "0   2015-07-01       7\n",
       "1   2015-07-02       3\n",
       "2   2015-07-03       0\n",
       "3   2015-07-04       1\n",
       "4   2015-07-05       0\n",
       "..         ...     ...\n",
       "721 2017-06-24       5\n",
       "722 2017-06-25       0\n",
       "723 2017-06-26       1\n",
       "724 2017-06-27       8\n",
       "725 2017-06-30       0\n",
       "\n",
       "[726 rows x 2 columns]"
      ]
     },
     "metadata": {},
     "output_type": "display_data"
    }
   ],
   "source": [
    "display(checking_df)"
   ]
  },
  {
   "cell_type": "code",
   "execution_count": 21,
   "id": "a41b080a",
   "metadata": {},
   "outputs": [
    {
     "data": {
      "text/plain": [
       "<Axes: xlabel='Issue Date'>"
      ]
     },
     "execution_count": 21,
     "metadata": {},
     "output_type": "execute_result"
    },
    {
     "data": {
      "image/png": "[encoded data removed]",
      "text/plain": [
       "<Figure size 640x480 with 1 Axes>"
      ]
     },
     "metadata": {},
     "output_type": "display_data"
    }
   ],
   "source": [
    "checking_df.plot(x = 'Issue Date', y = 'Counts')"
   ]
  },
  {
   "cell_type": "markdown",
   "id": "c7518e9f",
   "metadata": {},
   "source": [
    "From this graph, we can see why the percentage change seem huge! It's because NYC parking violation tickets seem to go down quite a lot by the time the end of the recording year comes around (i.e., the month of June). \n",
    "\n",
    "However, this answer does not help our modeling - we will have to use the non-normal counts data, and not the percentage (technically, fractional) change data."
   ]
  },
  {
   "cell_type": "markdown",
   "id": "75124e56",
   "metadata": {},
   "source": [
    "## ARIMA Model"
   ]
  },
  {
   "cell_type": "code",
   "execution_count": 22,
   "id": "51fb9cd0",
   "metadata": {},
   "outputs": [],
   "source": [
    "from statsmodels.graphics.tsaplots import plot_acf, plot_pacf\n",
    "final_df = pd.concat([df_2014, df_2015, df_2016, df_2017, df_2018, df_2019, df_2020, df_2021, df_2022, df_2023], axis = 0)\n",
    "final_df = final_df.reset_index(drop = True)"
   ]
  },
  {
   "cell_type": "code",
   "execution_count": 23,
   "metadata": {},
   "outputs": [
    {
     "data": {
      "text/html": [
       "<div>\n",
       "<style scoped>\n",
       "    .dataframe tbody tr th:only-of-type {\n",
       "        vertical-align: middle;\n",
       "    }\n",
       "\n",
       "    .dataframe tbody tr th {\n",
       "        vertical-align: top;\n",
       "    }\n",
       "\n",
       "    .dataframe thead th {\n",
       "        text-align: right;\n",
       "    }\n",
       "</style>\n",
       "<table border=\"1\" class=\"dataframe\">\n",
       "  <thead>\n",
       "    <tr style=\"text-align: right;\">\n",
       "      <th></th>\n",
       "      <th>Issue Date</th>\n",
       "      <th>Counts</th>\n",
       "    </tr>\n",
       "  </thead>\n",
       "  <tbody>\n",
       "    <tr>\n",
       "      <th>0</th>\n",
       "      <td>2013-07-02</td>\n",
       "      <td>0</td>\n",
       "    </tr>\n",
       "    <tr>\n",
       "      <th>1</th>\n",
       "      <td>2013-07-03</td>\n",
       "      <td>0</td>\n",
       "    </tr>\n",
       "    <tr>\n",
       "      <th>2</th>\n",
       "      <td>2013-07-04</td>\n",
       "      <td>1</td>\n",
       "    </tr>\n",
       "    <tr>\n",
       "      <th>3</th>\n",
       "      <td>2013-07-06</td>\n",
       "      <td>0</td>\n",
       "    </tr>\n",
       "    <tr>\n",
       "      <th>4</th>\n",
       "      <td>2013-07-07</td>\n",
       "      <td>0</td>\n",
       "    </tr>\n",
       "    <tr>\n",
       "      <th>...</th>\n",
       "      <td>...</td>\n",
       "      <td>...</td>\n",
       "    </tr>\n",
       "    <tr>\n",
       "      <th>3620</th>\n",
       "      <td>2023-06-26</td>\n",
       "      <td>2</td>\n",
       "    </tr>\n",
       "    <tr>\n",
       "      <th>3621</th>\n",
       "      <td>2023-06-27</td>\n",
       "      <td>0</td>\n",
       "    </tr>\n",
       "    <tr>\n",
       "      <th>3622</th>\n",
       "      <td>2023-06-28</td>\n",
       "      <td>2</td>\n",
       "    </tr>\n",
       "    <tr>\n",
       "      <th>3623</th>\n",
       "      <td>2023-06-29</td>\n",
       "      <td>0</td>\n",
       "    </tr>\n",
       "    <tr>\n",
       "      <th>3624</th>\n",
       "      <td>2023-06-30</td>\n",
       "      <td>2</td>\n",
       "    </tr>\n",
       "  </tbody>\n",
       "</table>\n",
       "<p>3625 rows × 2 columns</p>\n",
       "</div>"
      ],
      "text/plain": [
       "     Issue Date  Counts\n",
       "0    2013-07-02       0\n",
       "1    2013-07-03       0\n",
       "2    2013-07-04       1\n",
       "3    2013-07-06       0\n",
       "4    2013-07-07       0\n",
       "...         ...     ...\n",
       "3620 2023-06-26       2\n",
       "3621 2023-06-27       0\n",
       "3622 2023-06-28       2\n",
       "3623 2023-06-29       0\n",
       "3624 2023-06-30       2\n",
       "\n",
       "[3625 rows x 2 columns]"
      ]
     },
     "execution_count": 23,
     "metadata": {},
     "output_type": "execute_result"
    }
   ],
   "source": [
    "final_df = final_df[final_df[\"Violation Precinct\"] == 5].reset_index(drop = True)\n",
    "final_df = final_df.drop(columns=[\"Violation Precinct\"])\n",
    "final_df"
   ]
  },
  {
   "cell_type": "markdown",
   "id": "b1dd094e",
   "metadata": {},
   "source": [
    "#### Parameter Selection"
   ]
  },
  {
   "cell_type": "code",
   "execution_count": 24,
   "id": "afdc848a",
   "metadata": {},
   "outputs": [
    {
     "data": {
      "image/png": "[encoded data removed]",
      "text/plain": [
       "<Figure size 640x480 with 1 Axes>"
      ]
     },
     "metadata": {},
     "output_type": "display_data"
    }
   ],
   "source": [
    "arima_df = final_df.set_index(\"Issue Date\")\n",
    "plot_acf(arima_df.Counts);"
   ]
  },
  {
   "cell_type": "code",
   "execution_count": 25,
   "id": "b2a11b6f",
   "metadata": {},
   "outputs": [
    {
     "data": {
      "image/png": "[encoded data removed]",
      "text/plain": [
       "<Figure size 640x480 with 1 Axes>"
      ]
     },
     "metadata": {},
     "output_type": "display_data"
    }
   ],
   "source": [
    "arima_df_d1 = arima_df.diff().dropna()\n",
    "plot_acf(arima_df_d1.Counts);"
   ]
  },
  {
   "cell_type": "code",
   "execution_count": 26,
   "id": "c3942577",
   "metadata": {},
   "outputs": [
    {
     "data": {
      "image/png": "[encoded data removed]",
      "text/plain": [
       "<Figure size 640x480 with 1 Axes>"
      ]
     },
     "metadata": {},
     "output_type": "display_data"
    }
   ],
   "source": [
    "arima_df_d2 = arima_df_d1.diff().dropna()\n",
    "plot_acf(arima_df_d2.Counts);"
   ]
  },
  {
   "cell_type": "code",
   "execution_count": 27,
   "id": "c8dcec30",
   "metadata": {},
   "outputs": [
    {
     "data": {
      "image/png": "[encoded data removed]",
      "text/plain": [
       "<Figure size 640x480 with 1 Axes>"
      ]
     },
     "metadata": {},
     "output_type": "display_data"
    }
   ],
   "source": [
    "arima_df_d3 = arima_df_d2.diff().dropna()\n",
    "plot_acf(arima_df_d3.Counts);"
   ]
  },
  {
   "cell_type": "code",
   "execution_count": 28,
   "id": "16c591ad",
   "metadata": {},
   "outputs": [
    {
     "data": {
      "image/png": "[encoded data removed]",
      "text/plain": [
       "<Figure size 640x480 with 1 Axes>"
      ]
     },
     "metadata": {},
     "output_type": "display_data"
    }
   ],
   "source": [
    "arima_df_d7 = arima_df_d3.diff().diff().diff().dropna()\n",
    "plot_acf(arima_df_d7);"
   ]
  },
  {
   "cell_type": "markdown",
   "id": "4adf90b9",
   "metadata": {},
   "source": [
    "Usually, differencing once or twice is common and should result in much lower autocorrelations. Similarly hard will be to find values of $p$ and $q$ for our ARIMA model. So, we can use hyper parameter tuning."
   ]
  },
  {
   "cell_type": "markdown",
   "id": "e1f4ad04",
   "metadata": {},
   "source": [
    "#### Hyper Parameter Tuning"
   ]
  },
  {
   "cell_type": "code",
   "execution_count": 29,
   "id": "c061825d",
   "metadata": {},
   "outputs": [
    {
     "name": "stdout",
     "output_type": "stream",
     "text": [
      "Test RMSE: 2.302\n"
     ]
    }
   ],
   "source": [
    "# Load the data and split it into separate pieces\n",
    "data = np.array(final_df['Counts'])\n",
    "train, test = model_selection.train_test_split(data, train_size=3285)\n",
    "\n",
    "# Fit a simple auto_arima model\n",
    "modl = pm.auto_arima(train, start_p=1, start_q=1, start_P=1, start_Q=1,\n",
    "                     max_p=5, max_q=5, max_P=5, max_Q=5, seasonal=True,\n",
    "                     stepwise=True, suppress_warnings=True, D=10, max_D=10,\n",
    "                     error_action='ignore')\n",
    "\n",
    "# Create predictions for the future, evaluate on test\n",
    "preds, conf_int = modl.predict(n_periods=test.shape[0], return_conf_int=True)\n",
    "\n",
    "# Print the error:\n",
    "print(\"Test RMSE: %.3f\" % np.sqrt(mean_squared_error(test, preds)))"
   ]
  },
  {
   "cell_type": "markdown",
   "id": "d1d35dc1",
   "metadata": {},
   "source": [
    "## Prophet Model"
   ]
  },
  {
   "cell_type": "code",
   "execution_count": 31,
   "id": "6c0402c3",
   "metadata": {},
   "outputs": [
    {
     "name": "stderr",
     "output_type": "stream",
     "text": [
      "15:32:57 - cmdstanpy - INFO - Chain [1] start processing\n",
      "15:32:57 - cmdstanpy - INFO - Chain [1] done processing\n"
     ]
    },
    {
     "name": "stdout",
     "output_type": "stream",
     "text": [
      "Test RMSE: 2.814\n"
     ]
    }
   ],
   "source": [
    "m = Prophet()\n",
    "train_prophet, test_prophet = model_selection.train_test_split(final_df, train_size = 3285)\n",
    "train_prophet['ds'] = train_prophet['Issue Date']\n",
    "train_prophet['y'] = train_prophet['Counts']\n",
    "m.fit(train_prophet)\n",
    "# future = m.make_future_dataframe(periods=365, include_history = False)\n",
    "future = m.make_future_dataframe(periods=340, include_history = False)\n",
    "forecast = m.predict(future)\n",
    "preds_prophet = np.array(forecast[['yhat']])\n",
    "test_prophet = np.array(test_prophet['Counts'])\n",
    "# Print the error:\n",
    "print(\"Test RMSE: %.3f\" % np.sqrt(mean_squared_error(test_prophet, preds_prophet)))"
   ]
  },
  {
   "cell_type": "markdown",
   "id": "23fbf12c",
   "metadata": {},
   "source": [
    "# Conclusion"
   ]
  },
  {
   "cell_type": "markdown",
   "id": "eac1257f",
   "metadata": {},
   "source": [
    "Both our models give very similar RMSE. So we will be plotting both! But before that, we should clean up our data. There is a huge random spike in January 2015, and a surprisingly deep trough in Mar-July of 2020 (likely due to COVID-19). Let's clean this."
   ]
  },
  {
   "cell_type": "code",
   "execution_count": 32,
   "id": "1c4dab4d",
   "metadata": {},
   "outputs": [
    {
     "data": {
      "text/html": [
       "<div>\n",
       "<style scoped>\n",
       "    .dataframe tbody tr th:only-of-type {\n",
       "        vertical-align: middle;\n",
       "    }\n",
       "\n",
       "    .dataframe tbody tr th {\n",
       "        vertical-align: top;\n",
       "    }\n",
       "\n",
       "    .dataframe thead th {\n",
       "        text-align: right;\n",
       "    }\n",
       "</style>\n",
       "<table border=\"1\" class=\"dataframe\">\n",
       "  <thead>\n",
       "    <tr style=\"text-align: right;\">\n",
       "      <th></th>\n",
       "      <th>Issue Date</th>\n",
       "      <th>Counts</th>\n",
       "    </tr>\n",
       "  </thead>\n",
       "  <tbody>\n",
       "    <tr>\n",
       "      <th>0</th>\n",
       "      <td>2013-07-02</td>\n",
       "      <td>0</td>\n",
       "    </tr>\n",
       "    <tr>\n",
       "      <th>1</th>\n",
       "      <td>2013-07-03</td>\n",
       "      <td>0</td>\n",
       "    </tr>\n",
       "    <tr>\n",
       "      <th>2</th>\n",
       "      <td>2013-07-04</td>\n",
       "      <td>1</td>\n",
       "    </tr>\n",
       "    <tr>\n",
       "      <th>3</th>\n",
       "      <td>2013-07-06</td>\n",
       "      <td>0</td>\n",
       "    </tr>\n",
       "    <tr>\n",
       "      <th>4</th>\n",
       "      <td>2013-07-07</td>\n",
       "      <td>0</td>\n",
       "    </tr>\n",
       "    <tr>\n",
       "      <th>...</th>\n",
       "      <td>...</td>\n",
       "      <td>...</td>\n",
       "    </tr>\n",
       "    <tr>\n",
       "      <th>3620</th>\n",
       "      <td>2023-06-26</td>\n",
       "      <td>2</td>\n",
       "    </tr>\n",
       "    <tr>\n",
       "      <th>3621</th>\n",
       "      <td>2023-06-27</td>\n",
       "      <td>0</td>\n",
       "    </tr>\n",
       "    <tr>\n",
       "      <th>3622</th>\n",
       "      <td>2023-06-28</td>\n",
       "      <td>2</td>\n",
       "    </tr>\n",
       "    <tr>\n",
       "      <th>3623</th>\n",
       "      <td>2023-06-29</td>\n",
       "      <td>0</td>\n",
       "    </tr>\n",
       "    <tr>\n",
       "      <th>3624</th>\n",
       "      <td>2023-06-30</td>\n",
       "      <td>2</td>\n",
       "    </tr>\n",
       "  </tbody>\n",
       "</table>\n",
       "<p>3593 rows × 2 columns</p>\n",
       "</div>"
      ],
      "text/plain": [
       "     Issue Date  Counts\n",
       "0    2013-07-02       0\n",
       "1    2013-07-03       0\n",
       "2    2013-07-04       1\n",
       "3    2013-07-06       0\n",
       "4    2013-07-07       0\n",
       "...         ...     ...\n",
       "3620 2023-06-26       2\n",
       "3621 2023-06-27       0\n",
       "3622 2023-06-28       2\n",
       "3623 2023-06-29       0\n",
       "3624 2023-06-30       2\n",
       "\n",
       "[3593 rows x 2 columns]"
      ]
     },
     "metadata": {},
     "output_type": "display_data"
    },
    {
     "data": {
      "text/html": [
       "<div>\n",
       "<style scoped>\n",
       "    .dataframe tbody tr th:only-of-type {\n",
       "        vertical-align: middle;\n",
       "    }\n",
       "\n",
       "    .dataframe tbody tr th {\n",
       "        vertical-align: top;\n",
       "    }\n",
       "\n",
       "    .dataframe thead th {\n",
       "        text-align: right;\n",
       "    }\n",
       "</style>\n",
       "<table border=\"1\" class=\"dataframe\">\n",
       "  <thead>\n",
       "    <tr style=\"text-align: right;\">\n",
       "      <th></th>\n",
       "      <th>Issue Date</th>\n",
       "      <th>Counts</th>\n",
       "    </tr>\n",
       "  </thead>\n",
       "  <tbody>\n",
       "    <tr>\n",
       "      <th>0</th>\n",
       "      <td>2013-07-02</td>\n",
       "      <td>0</td>\n",
       "    </tr>\n",
       "    <tr>\n",
       "      <th>1</th>\n",
       "      <td>2013-07-03</td>\n",
       "      <td>0</td>\n",
       "    </tr>\n",
       "    <tr>\n",
       "      <th>2</th>\n",
       "      <td>2013-07-04</td>\n",
       "      <td>1</td>\n",
       "    </tr>\n",
       "    <tr>\n",
       "      <th>3</th>\n",
       "      <td>2013-07-06</td>\n",
       "      <td>0</td>\n",
       "    </tr>\n",
       "    <tr>\n",
       "      <th>4</th>\n",
       "      <td>2013-07-07</td>\n",
       "      <td>0</td>\n",
       "    </tr>\n",
       "    <tr>\n",
       "      <th>...</th>\n",
       "      <td>...</td>\n",
       "      <td>...</td>\n",
       "    </tr>\n",
       "    <tr>\n",
       "      <th>3620</th>\n",
       "      <td>2023-06-26</td>\n",
       "      <td>2</td>\n",
       "    </tr>\n",
       "    <tr>\n",
       "      <th>3621</th>\n",
       "      <td>2023-06-27</td>\n",
       "      <td>0</td>\n",
       "    </tr>\n",
       "    <tr>\n",
       "      <th>3622</th>\n",
       "      <td>2023-06-28</td>\n",
       "      <td>2</td>\n",
       "    </tr>\n",
       "    <tr>\n",
       "      <th>3623</th>\n",
       "      <td>2023-06-29</td>\n",
       "      <td>0</td>\n",
       "    </tr>\n",
       "    <tr>\n",
       "      <th>3624</th>\n",
       "      <td>2023-06-30</td>\n",
       "      <td>2</td>\n",
       "    </tr>\n",
       "  </tbody>\n",
       "</table>\n",
       "<p>3475 rows × 2 columns</p>\n",
       "</div>"
      ],
      "text/plain": [
       "     Issue Date  Counts\n",
       "0    2013-07-02       0\n",
       "1    2013-07-03       0\n",
       "2    2013-07-04       1\n",
       "3    2013-07-06       0\n",
       "4    2013-07-07       0\n",
       "...         ...     ...\n",
       "3620 2023-06-26       2\n",
       "3621 2023-06-27       0\n",
       "3622 2023-06-28       2\n",
       "3623 2023-06-29       0\n",
       "3624 2023-06-30       2\n",
       "\n",
       "[3475 rows x 2 columns]"
      ]
     },
     "metadata": {},
     "output_type": "display_data"
    }
   ],
   "source": [
    "cleaned_final_df1 = final_df.drop(final_df[(final_df['Issue Date'] >= '2015-01-01') & (final_df['Issue Date'] <= '2015-02-01')].index)\n",
    "display(cleaned_final_df1)\n",
    "cleaned_final_df = cleaned_final_df1.drop(cleaned_final_df1[(cleaned_final_df1['Issue Date'] >= '2020-03-01') & (cleaned_final_df1['Issue Date'] <= '2020-07-01')].index)\n",
    "display(cleaned_final_df)"
   ]
  },
  {
   "cell_type": "code",
   "execution_count": 33,
   "id": "e7928e32",
   "metadata": {},
   "outputs": [],
   "source": [
    "final_df = cleaned_final_df"
   ]
  },
  {
   "cell_type": "code",
   "execution_count": 35,
   "id": "ffa8dbbd",
   "metadata": {},
   "outputs": [],
   "source": [
    "data_arima = np.array(final_df['Counts'])\n",
    "modl = pm.auto_arima(data_arima, start_p=1, start_q=1, start_P=1, start_Q=1,\n",
    "                     max_p=5, max_q=5, max_P=5, max_Q=5, seasonal=True,\n",
    "                     stepwise=True, suppress_warnings=True, D=10, max_D=10,\n",
    "                     error_action='ignore')\n",
    "preds_arima = modl.predict(n_periods=test.shape[0], return_conf_int=False)"
   ]
  },
  {
   "cell_type": "code",
   "execution_count": 36,
   "id": "c15e596d",
   "metadata": {},
   "outputs": [],
   "source": [
    "fitted_vals_arima = modl.fittedvalues()\n",
    "# len(fitted_vals_arima + preds_arima)\n",
    "result = np.concatenate((fitted_vals_arima, preds_arima), axis=0)"
   ]
  },
  {
   "cell_type": "code",
   "execution_count": 37,
   "id": "9d4db3ca",
   "metadata": {},
   "outputs": [],
   "source": [
    "result_df_arima = pd.DataFrame(result)"
   ]
  },
  {
   "cell_type": "code",
   "execution_count": 38,
   "id": "f87d5e5f",
   "metadata": {},
   "outputs": [
    {
     "data": {
      "text/html": [
       "<div>\n",
       "<style scoped>\n",
       "    .dataframe tbody tr th:only-of-type {\n",
       "        vertical-align: middle;\n",
       "    }\n",
       "\n",
       "    .dataframe tbody tr th {\n",
       "        vertical-align: top;\n",
       "    }\n",
       "\n",
       "    .dataframe thead th {\n",
       "        text-align: right;\n",
       "    }\n",
       "</style>\n",
       "<table border=\"1\" class=\"dataframe\">\n",
       "  <thead>\n",
       "    <tr style=\"text-align: right;\">\n",
       "      <th></th>\n",
       "      <th>0</th>\n",
       "    </tr>\n",
       "  </thead>\n",
       "  <tbody>\n",
       "    <tr>\n",
       "      <th>0</th>\n",
       "      <td>3.680318</td>\n",
       "    </tr>\n",
       "    <tr>\n",
       "      <th>1</th>\n",
       "      <td>2.922863</td>\n",
       "    </tr>\n",
       "    <tr>\n",
       "      <th>2</th>\n",
       "      <td>2.666073</td>\n",
       "    </tr>\n",
       "    <tr>\n",
       "      <th>3</th>\n",
       "      <td>2.795820</td>\n",
       "    </tr>\n",
       "    <tr>\n",
       "      <th>4</th>\n",
       "      <td>2.602605</td>\n",
       "    </tr>\n",
       "    <tr>\n",
       "      <th>...</th>\n",
       "      <td>...</td>\n",
       "    </tr>\n",
       "    <tr>\n",
       "      <th>3810</th>\n",
       "      <td>3.651100</td>\n",
       "    </tr>\n",
       "    <tr>\n",
       "      <th>3811</th>\n",
       "      <td>3.633730</td>\n",
       "    </tr>\n",
       "    <tr>\n",
       "      <th>3812</th>\n",
       "      <td>3.620088</td>\n",
       "    </tr>\n",
       "    <tr>\n",
       "      <th>3813</th>\n",
       "      <td>3.620566</td>\n",
       "    </tr>\n",
       "    <tr>\n",
       "      <th>3814</th>\n",
       "      <td>3.634822</td>\n",
       "    </tr>\n",
       "  </tbody>\n",
       "</table>\n",
       "<p>3815 rows × 1 columns</p>\n",
       "</div>"
      ],
      "text/plain": [
       "             0\n",
       "0     3.680318\n",
       "1     2.922863\n",
       "2     2.666073\n",
       "3     2.795820\n",
       "4     2.602605\n",
       "...        ...\n",
       "3810  3.651100\n",
       "3811  3.633730\n",
       "3812  3.620088\n",
       "3813  3.620566\n",
       "3814  3.634822\n",
       "\n",
       "[3815 rows x 1 columns]"
      ]
     },
     "metadata": {},
     "output_type": "display_data"
    }
   ],
   "source": [
    "display(result_df_arima)"
   ]
  },
  {
   "cell_type": "code",
   "execution_count": 39,
   "id": "585efd98",
   "metadata": {},
   "outputs": [
    {
     "name": "stderr",
     "output_type": "stream",
     "text": [
      "15:36:05 - cmdstanpy - INFO - Chain [1] start processing\n"
     ]
    },
    {
     "name": "stderr",
     "output_type": "stream",
     "text": [
      "15:36:05 - cmdstanpy - INFO - Chain [1] done processing\n"
     ]
    }
   ],
   "source": [
    "m = Prophet()\n",
    "data_prophet = final_df\n",
    "data_prophet['ds'] = final_df['Issue Date']\n",
    "data_prophet['y'] = final_df['Counts']\n",
    "m.fit(data_prophet)\n",
    "future = m.make_future_dataframe(periods=365, include_history = True)\n",
    "forecast = m.predict(future)\n",
    "preds_prophet = forecast[[\"ds\",\"yhat\"]]"
   ]
  },
  {
   "cell_type": "code",
   "execution_count": 40,
   "id": "f02502a5",
   "metadata": {},
   "outputs": [
    {
     "data": {
      "text/html": [
       "<div>\n",
       "<style scoped>\n",
       "    .dataframe tbody tr th:only-of-type {\n",
       "        vertical-align: middle;\n",
       "    }\n",
       "\n",
       "    .dataframe tbody tr th {\n",
       "        vertical-align: top;\n",
       "    }\n",
       "\n",
       "    .dataframe thead th {\n",
       "        text-align: right;\n",
       "    }\n",
       "</style>\n",
       "<table border=\"1\" class=\"dataframe\">\n",
       "  <thead>\n",
       "    <tr style=\"text-align: right;\">\n",
       "      <th></th>\n",
       "      <th>ds</th>\n",
       "      <th>yhat</th>\n",
       "    </tr>\n",
       "  </thead>\n",
       "  <tbody>\n",
       "    <tr>\n",
       "      <th>0</th>\n",
       "      <td>2013-07-02</td>\n",
       "      <td>3.367624</td>\n",
       "    </tr>\n",
       "    <tr>\n",
       "      <th>1</th>\n",
       "      <td>2013-07-03</td>\n",
       "      <td>3.406012</td>\n",
       "    </tr>\n",
       "    <tr>\n",
       "      <th>2</th>\n",
       "      <td>2013-07-04</td>\n",
       "      <td>3.531575</td>\n",
       "    </tr>\n",
       "    <tr>\n",
       "      <th>3</th>\n",
       "      <td>2013-07-06</td>\n",
       "      <td>2.454804</td>\n",
       "    </tr>\n",
       "    <tr>\n",
       "      <th>4</th>\n",
       "      <td>2013-07-07</td>\n",
       "      <td>0.548246</td>\n",
       "    </tr>\n",
       "    <tr>\n",
       "      <th>...</th>\n",
       "      <td>...</td>\n",
       "      <td>...</td>\n",
       "    </tr>\n",
       "    <tr>\n",
       "      <th>3835</th>\n",
       "      <td>2024-06-25</td>\n",
       "      <td>2.422828</td>\n",
       "    </tr>\n",
       "    <tr>\n",
       "      <th>3836</th>\n",
       "      <td>2024-06-26</td>\n",
       "      <td>2.421448</td>\n",
       "    </tr>\n",
       "    <tr>\n",
       "      <th>3837</th>\n",
       "      <td>2024-06-27</td>\n",
       "      <td>2.504844</td>\n",
       "    </tr>\n",
       "    <tr>\n",
       "      <th>3838</th>\n",
       "      <td>2024-06-28</td>\n",
       "      <td>2.365977</td>\n",
       "    </tr>\n",
       "    <tr>\n",
       "      <th>3839</th>\n",
       "      <td>2024-06-29</td>\n",
       "      <td>1.339442</td>\n",
       "    </tr>\n",
       "  </tbody>\n",
       "</table>\n",
       "<p>3840 rows × 2 columns</p>\n",
       "</div>"
      ],
      "text/plain": [
       "             ds      yhat\n",
       "0    2013-07-02  3.367624\n",
       "1    2013-07-03  3.406012\n",
       "2    2013-07-04  3.531575\n",
       "3    2013-07-06  2.454804\n",
       "4    2013-07-07  0.548246\n",
       "...         ...       ...\n",
       "3835 2024-06-25  2.422828\n",
       "3836 2024-06-26  2.421448\n",
       "3837 2024-06-27  2.504844\n",
       "3838 2024-06-28  2.365977\n",
       "3839 2024-06-29  1.339442\n",
       "\n",
       "[3840 rows x 2 columns]"
      ]
     },
     "execution_count": 40,
     "metadata": {},
     "output_type": "execute_result"
    }
   ],
   "source": [
    "preds_prophet"
   ]
  },
  {
   "cell_type": "code",
   "execution_count": 41,
   "id": "1881936e",
   "metadata": {},
   "outputs": [],
   "source": [
    "output = preds_prophet\n",
    "output = output.rename(columns = {\"ds\":\"time\", \"yhat\":\"prophet_pred\"})\n",
    "output = pd.merge(output, result_df_arima, how='inner', left_index=True, right_index=True)\n",
    "prep_final_df = final_df\n",
    "prep_final_df = prep_final_df.rename(columns = {\"Issue Date\":\"time\"})\n",
    "output = output.merge(prep_final_df, how = \"outer\", on = \"time\")\n",
    "output = output.drop(columns = [\"ds\", \"y\"])\n",
    "output = output.rename(columns = {\"Counts\": \"values\", 0:\"arima_pred\"})"
   ]
  },
  {
   "cell_type": "code",
   "execution_count": 42,
   "id": "387134b9",
   "metadata": {},
   "outputs": [
    {
     "data": {
      "text/html": [
       "<div>\n",
       "<style scoped>\n",
       "    .dataframe tbody tr th:only-of-type {\n",
       "        vertical-align: middle;\n",
       "    }\n",
       "\n",
       "    .dataframe tbody tr th {\n",
       "        vertical-align: top;\n",
       "    }\n",
       "\n",
       "    .dataframe thead th {\n",
       "        text-align: right;\n",
       "    }\n",
       "</style>\n",
       "<table border=\"1\" class=\"dataframe\">\n",
       "  <thead>\n",
       "    <tr style=\"text-align: right;\">\n",
       "      <th></th>\n",
       "      <th>time</th>\n",
       "      <th>prophet_pred</th>\n",
       "      <th>arima_pred</th>\n",
       "      <th>values</th>\n",
       "    </tr>\n",
       "  </thead>\n",
       "  <tbody>\n",
       "    <tr>\n",
       "      <th>0</th>\n",
       "      <td>2013-07-02</td>\n",
       "      <td>3.367624</td>\n",
       "      <td>3.680318</td>\n",
       "      <td>0.0</td>\n",
       "    </tr>\n",
       "    <tr>\n",
       "      <th>1</th>\n",
       "      <td>2013-07-03</td>\n",
       "      <td>3.406012</td>\n",
       "      <td>2.922863</td>\n",
       "      <td>0.0</td>\n",
       "    </tr>\n",
       "    <tr>\n",
       "      <th>2</th>\n",
       "      <td>2013-07-04</td>\n",
       "      <td>3.531575</td>\n",
       "      <td>2.666073</td>\n",
       "      <td>1.0</td>\n",
       "    </tr>\n",
       "    <tr>\n",
       "      <th>3</th>\n",
       "      <td>2013-07-06</td>\n",
       "      <td>2.454804</td>\n",
       "      <td>2.795820</td>\n",
       "      <td>0.0</td>\n",
       "    </tr>\n",
       "    <tr>\n",
       "      <th>4</th>\n",
       "      <td>2013-07-07</td>\n",
       "      <td>0.548246</td>\n",
       "      <td>2.602605</td>\n",
       "      <td>0.0</td>\n",
       "    </tr>\n",
       "    <tr>\n",
       "      <th>...</th>\n",
       "      <td>...</td>\n",
       "      <td>...</td>\n",
       "      <td>...</td>\n",
       "      <td>...</td>\n",
       "    </tr>\n",
       "    <tr>\n",
       "      <th>3810</th>\n",
       "      <td>2024-05-31</td>\n",
       "      <td>3.352973</td>\n",
       "      <td>3.651100</td>\n",
       "      <td>NaN</td>\n",
       "    </tr>\n",
       "    <tr>\n",
       "      <th>3811</th>\n",
       "      <td>2024-06-01</td>\n",
       "      <td>2.372864</td>\n",
       "      <td>3.633730</td>\n",
       "      <td>NaN</td>\n",
       "    </tr>\n",
       "    <tr>\n",
       "      <th>3812</th>\n",
       "      <td>2024-06-02</td>\n",
       "      <td>0.460652</td>\n",
       "      <td>3.620088</td>\n",
       "      <td>NaN</td>\n",
       "    </tr>\n",
       "    <tr>\n",
       "      <th>3813</th>\n",
       "      <td>2024-06-03</td>\n",
       "      <td>2.229323</td>\n",
       "      <td>3.620566</td>\n",
       "      <td>NaN</td>\n",
       "    </tr>\n",
       "    <tr>\n",
       "      <th>3814</th>\n",
       "      <td>2024-06-04</td>\n",
       "      <td>3.280439</td>\n",
       "      <td>3.634822</td>\n",
       "      <td>NaN</td>\n",
       "    </tr>\n",
       "  </tbody>\n",
       "</table>\n",
       "<p>3815 rows × 4 columns</p>\n",
       "</div>"
      ],
      "text/plain": [
       "           time  prophet_pred  arima_pred  values\n",
       "0    2013-07-02      3.367624    3.680318     0.0\n",
       "1    2013-07-03      3.406012    2.922863     0.0\n",
       "2    2013-07-04      3.531575    2.666073     1.0\n",
       "3    2013-07-06      2.454804    2.795820     0.0\n",
       "4    2013-07-07      0.548246    2.602605     0.0\n",
       "...         ...           ...         ...     ...\n",
       "3810 2024-05-31      3.352973    3.651100     NaN\n",
       "3811 2024-06-01      2.372864    3.633730     NaN\n",
       "3812 2024-06-02      0.460652    3.620088     NaN\n",
       "3813 2024-06-03      2.229323    3.620566     NaN\n",
       "3814 2024-06-04      3.280439    3.634822     NaN\n",
       "\n",
       "[3815 rows x 4 columns]"
      ]
     },
     "metadata": {},
     "output_type": "display_data"
    }
   ],
   "source": [
    "display(output)"
   ]
  },
  {
   "cell_type": "code",
   "execution_count": 43,
   "id": "f2f68b94",
   "metadata": {},
   "outputs": [],
   "source": [
    "# output.to_csv(\"../../data/time_series/line_graph_data.csv\")"
   ]
  },
  {
   "cell_type": "markdown",
   "id": "ebfa330c",
   "metadata": {},
   "source": [
    "For better visualization, let convert this to only monthly data"
   ]
  },
  {
   "cell_type": "code",
   "execution_count": 44,
   "id": "1b8e3ba8",
   "metadata": {},
   "outputs": [],
   "source": [
    "output.set_index('time', inplace=True)\n",
    "output_monthly = output.resample('MS').sum()"
   ]
  },
  {
   "cell_type": "code",
   "execution_count": 45,
   "id": "d45dcdfd",
   "metadata": {},
   "outputs": [
    {
     "data": {
      "text/html": [
       "<div>\n",
       "<style scoped>\n",
       "    .dataframe tbody tr th:only-of-type {\n",
       "        vertical-align: middle;\n",
       "    }\n",
       "\n",
       "    .dataframe tbody tr th {\n",
       "        vertical-align: top;\n",
       "    }\n",
       "\n",
       "    .dataframe thead th {\n",
       "        text-align: right;\n",
       "    }\n",
       "</style>\n",
       "<table border=\"1\" class=\"dataframe\">\n",
       "  <thead>\n",
       "    <tr style=\"text-align: right;\">\n",
       "      <th></th>\n",
       "      <th>prophet_pred</th>\n",
       "      <th>arima_pred</th>\n",
       "      <th>values</th>\n",
       "    </tr>\n",
       "    <tr>\n",
       "      <th>time</th>\n",
       "      <th></th>\n",
       "      <th></th>\n",
       "      <th></th>\n",
       "    </tr>\n",
       "  </thead>\n",
       "  <tbody>\n",
       "    <tr>\n",
       "      <th>2013-07-01</th>\n",
       "      <td>89.582174</td>\n",
       "      <td>49.814375</td>\n",
       "      <td>26.0</td>\n",
       "    </tr>\n",
       "    <tr>\n",
       "      <th>2013-08-01</th>\n",
       "      <td>110.583126</td>\n",
       "      <td>80.990881</td>\n",
       "      <td>104.0</td>\n",
       "    </tr>\n",
       "    <tr>\n",
       "      <th>2013-09-01</th>\n",
       "      <td>111.461431</td>\n",
       "      <td>101.304029</td>\n",
       "      <td>111.0</td>\n",
       "    </tr>\n",
       "    <tr>\n",
       "      <th>2013-10-01</th>\n",
       "      <td>121.088214</td>\n",
       "      <td>113.882558</td>\n",
       "      <td>112.0</td>\n",
       "    </tr>\n",
       "    <tr>\n",
       "      <th>2013-11-01</th>\n",
       "      <td>110.340907</td>\n",
       "      <td>120.923156</td>\n",
       "      <td>131.0</td>\n",
       "    </tr>\n",
       "    <tr>\n",
       "      <th>...</th>\n",
       "      <td>...</td>\n",
       "      <td>...</td>\n",
       "      <td>...</td>\n",
       "    </tr>\n",
       "    <tr>\n",
       "      <th>2024-02-01</th>\n",
       "      <td>80.998735</td>\n",
       "      <td>103.231226</td>\n",
       "      <td>0.0</td>\n",
       "    </tr>\n",
       "    <tr>\n",
       "      <th>2024-03-01</th>\n",
       "      <td>87.898184</td>\n",
       "      <td>111.236820</td>\n",
       "      <td>0.0</td>\n",
       "    </tr>\n",
       "    <tr>\n",
       "      <th>2024-04-01</th>\n",
       "      <td>84.255807</td>\n",
       "      <td>108.362950</td>\n",
       "      <td>0.0</td>\n",
       "    </tr>\n",
       "    <tr>\n",
       "      <th>2024-05-01</th>\n",
       "      <td>85.181338</td>\n",
       "      <td>112.610110</td>\n",
       "      <td>0.0</td>\n",
       "    </tr>\n",
       "    <tr>\n",
       "      <th>2024-06-01</th>\n",
       "      <td>8.343278</td>\n",
       "      <td>14.509206</td>\n",
       "      <td>0.0</td>\n",
       "    </tr>\n",
       "  </tbody>\n",
       "</table>\n",
       "<p>132 rows × 3 columns</p>\n",
       "</div>"
      ],
      "text/plain": [
       "            prophet_pred  arima_pred  values\n",
       "time                                        \n",
       "2013-07-01     89.582174   49.814375    26.0\n",
       "2013-08-01    110.583126   80.990881   104.0\n",
       "2013-09-01    111.461431  101.304029   111.0\n",
       "2013-10-01    121.088214  113.882558   112.0\n",
       "2013-11-01    110.340907  120.923156   131.0\n",
       "...                  ...         ...     ...\n",
       "2024-02-01     80.998735  103.231226     0.0\n",
       "2024-03-01     87.898184  111.236820     0.0\n",
       "2024-04-01     84.255807  108.362950     0.0\n",
       "2024-05-01     85.181338  112.610110     0.0\n",
       "2024-06-01      8.343278   14.509206     0.0\n",
       "\n",
       "[132 rows x 3 columns]"
      ]
     },
     "metadata": {},
     "output_type": "display_data"
    }
   ],
   "source": [
    "display(output_monthly)"
   ]
  },
  {
   "cell_type": "code",
   "execution_count": 46,
   "id": "bacf0dc5",
   "metadata": {},
   "outputs": [],
   "source": [
    "output_monthly.reset_index(inplace=True)"
   ]
  },
  {
   "cell_type": "code",
   "execution_count": 47,
   "id": "9de8a754",
   "metadata": {},
   "outputs": [
    {
     "data": {
      "text/html": [
       "<div>\n",
       "<style scoped>\n",
       "    .dataframe tbody tr th:only-of-type {\n",
       "        vertical-align: middle;\n",
       "    }\n",
       "\n",
       "    .dataframe tbody tr th {\n",
       "        vertical-align: top;\n",
       "    }\n",
       "\n",
       "    .dataframe thead th {\n",
       "        text-align: right;\n",
       "    }\n",
       "</style>\n",
       "<table border=\"1\" class=\"dataframe\">\n",
       "  <thead>\n",
       "    <tr style=\"text-align: right;\">\n",
       "      <th></th>\n",
       "      <th>time</th>\n",
       "      <th>prophet_pred</th>\n",
       "      <th>arima_pred</th>\n",
       "      <th>values</th>\n",
       "    </tr>\n",
       "  </thead>\n",
       "  <tbody>\n",
       "    <tr>\n",
       "      <th>0</th>\n",
       "      <td>2013-07-01</td>\n",
       "      <td>89.582174</td>\n",
       "      <td>49.814375</td>\n",
       "      <td>26.0</td>\n",
       "    </tr>\n",
       "    <tr>\n",
       "      <th>1</th>\n",
       "      <td>2013-08-01</td>\n",
       "      <td>110.583126</td>\n",
       "      <td>80.990881</td>\n",
       "      <td>104.0</td>\n",
       "    </tr>\n",
       "    <tr>\n",
       "      <th>2</th>\n",
       "      <td>2013-09-01</td>\n",
       "      <td>111.461431</td>\n",
       "      <td>101.304029</td>\n",
       "      <td>111.0</td>\n",
       "    </tr>\n",
       "    <tr>\n",
       "      <th>3</th>\n",
       "      <td>2013-10-01</td>\n",
       "      <td>121.088214</td>\n",
       "      <td>113.882558</td>\n",
       "      <td>112.0</td>\n",
       "    </tr>\n",
       "    <tr>\n",
       "      <th>4</th>\n",
       "      <td>2013-11-01</td>\n",
       "      <td>110.340907</td>\n",
       "      <td>120.923156</td>\n",
       "      <td>131.0</td>\n",
       "    </tr>\n",
       "    <tr>\n",
       "      <th>...</th>\n",
       "      <td>...</td>\n",
       "      <td>...</td>\n",
       "      <td>...</td>\n",
       "      <td>...</td>\n",
       "    </tr>\n",
       "    <tr>\n",
       "      <th>127</th>\n",
       "      <td>2024-02-01</td>\n",
       "      <td>80.998735</td>\n",
       "      <td>103.231226</td>\n",
       "      <td>0.0</td>\n",
       "    </tr>\n",
       "    <tr>\n",
       "      <th>128</th>\n",
       "      <td>2024-03-01</td>\n",
       "      <td>87.898184</td>\n",
       "      <td>111.236820</td>\n",
       "      <td>0.0</td>\n",
       "    </tr>\n",
       "    <tr>\n",
       "      <th>129</th>\n",
       "      <td>2024-04-01</td>\n",
       "      <td>84.255807</td>\n",
       "      <td>108.362950</td>\n",
       "      <td>0.0</td>\n",
       "    </tr>\n",
       "    <tr>\n",
       "      <th>130</th>\n",
       "      <td>2024-05-01</td>\n",
       "      <td>85.181338</td>\n",
       "      <td>112.610110</td>\n",
       "      <td>0.0</td>\n",
       "    </tr>\n",
       "    <tr>\n",
       "      <th>131</th>\n",
       "      <td>2024-06-01</td>\n",
       "      <td>8.343278</td>\n",
       "      <td>14.509206</td>\n",
       "      <td>0.0</td>\n",
       "    </tr>\n",
       "  </tbody>\n",
       "</table>\n",
       "<p>132 rows × 4 columns</p>\n",
       "</div>"
      ],
      "text/plain": [
       "          time  prophet_pred  arima_pred  values\n",
       "0   2013-07-01     89.582174   49.814375    26.0\n",
       "1   2013-08-01    110.583126   80.990881   104.0\n",
       "2   2013-09-01    111.461431  101.304029   111.0\n",
       "3   2013-10-01    121.088214  113.882558   112.0\n",
       "4   2013-11-01    110.340907  120.923156   131.0\n",
       "..         ...           ...         ...     ...\n",
       "127 2024-02-01     80.998735  103.231226     0.0\n",
       "128 2024-03-01     87.898184  111.236820     0.0\n",
       "129 2024-04-01     84.255807  108.362950     0.0\n",
       "130 2024-05-01     85.181338  112.610110     0.0\n",
       "131 2024-06-01      8.343278   14.509206     0.0\n",
       "\n",
       "[132 rows x 4 columns]"
      ]
     },
     "metadata": {},
     "output_type": "display_data"
    }
   ],
   "source": [
    "display(output_monthly)"
   ]
  },
  {
   "cell_type": "code",
   "execution_count": 48,
   "id": "0581e9d4",
   "metadata": {},
   "outputs": [],
   "source": [
    "# output_monthly.to_csv(\"../../data/time_series/line_graph_monthly_data.csv\")"
   ]
  },
  {
   "cell_type": "code",
   "execution_count": null,
   "metadata": {},
   "outputs": [],
   "source": []
  }
 ],
 "metadata": {
  "kernelspec": {
   "display_name": "Python 3 (ipykernel)",
   "language": "python",
   "name": "python3"
  },
  "language_info": {
   "codemirror_mode": {
    "name": "ipython",
    "version": 3
   },
   "file_extension": ".py",
   "mimetype": "text/x-python",
   "name": "python",
   "nbconvert_exporter": "python",
   "pygments_lexer": "ipython3",
   "version": "3.10.12"
  }
 },
 "nbformat": 4,
 "nbformat_minor": 5
}
